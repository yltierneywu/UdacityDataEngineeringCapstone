{
 "cells": [
  {
   "cell_type": "markdown",
   "metadata": {
    "editable": true
   },
   "source": [
    "# Project Title\n",
    "### Data Engineering Capstone Project\n",
    "\n",
    "#### Project Summary\n",
    "This is my capstone project of the Udacity Data Engineering Nanodegree. The choice was given to complete the project with data provided by Udacity, or to define your own scope and data. In both cases the same outline was to be followed, being: \n",
    "1) Gather data\n",
    "2) Explore and Assess the data\n",
    "3) Define the Data model\n",
    "4) Run ETL to Model the Data\n",
    "5) Write-up the project\n",
    "I decided to define my own scope and data. I chose to combine immigration data from the Netherlands with data from the yearly World Happiness Report and make a Data model such that questions could be answered like:\n",
    "- Is there a link between the happiness score and the number of immigrants with that country of birth?\n",
    "- What are the demographics of people immigrating into the Netherlands? \n",
    "- Is here a trend in the immigration into the Netherlands? If so, what kind of? Volume of people? Country of origin? Gender? Age\n",
    "The final Data Model was a star schema with the immigration data as the fact table and the happiness data as the dimension table. Because the immigration data was provided with coded entries, tables with meta-data were required to transform the immigration into information in English. The country of birth in the immigration data was given with the Dutch naming of the countries. To enable comparison with the Happiness Report data, a table with the translation of the countries was required. \n",
    "\n",
    "The project follows the follow steps:\n",
    "* Step 1: Scope the Project and Gather Data\n",
    "* Step 2: Explore and Assess the Data\n",
    "* Step 3: Define the Data Model\n",
    "* Step 4: Run ETL to Model the Data\n",
    "* Step 5: Complete Project Write Up"
   ]
  },
  {
   "cell_type": "code",
   "execution_count": 1,
   "metadata": {
    "editable": true
   },
   "outputs": [],
   "source": [
    "# Do all imports and installs here\n",
    "import pandas as pd\n",
    "import numpy as np\n",
    "import pyspark\n",
    "from pyspark.sql import SparkSession\n",
    "from pyspark.sql.functions import explode\n",
    "import json\n",
    "import csv\n",
    "import os\n",
    "import glob"
   ]
  },
  {
   "cell_type": "markdown",
   "metadata": {
    "editable": true
   },
   "source": [
    "### Project scope and data gathering\n",
    "\n",
    "#### Scope\n",
    "In this project I will construct analytics tables that can be used by a data analyst to answer questions about immigration into the Netherlands. Examples are:\n",
    "- Is there a link between the happiness score and the number of immigrants with that country of birth?\n",
    "- What are the demographics of people immigrating into the Netherlands? \n",
    "- Is here a trend in the immigration into the Netherlands? If so, what kind of? Volume of people? Country of origin? Gender? Age?\n",
    "\n",
    "Rather than using the data provided in the Udacity Project, I decided to use data from the Netherlands because I live there. It also gives an opportunity to work with data gathered from Dutch data sources which could be data sources I would use in a possible future carreer in data engineering/analytics.\n",
    "\n",
    "The end solution a star schema with the two tables: a fact table with the immigration data and a dimension table with the World Happiness Report data. Whereas the result is very simple, some ETL is required since:\n",
    "- The immigration data contained all the information in codes. The codes had to be transformed into English with the provided meta-data.\n",
    "- The Dutch immigration data contained the country names in Dutch. They had to be converted into English to enable comparisons with the Happiness Report data. This was done through a translation table.\n",
    "\n",
    "The tools I used were Spark and the final tables will be written to a bucket in S3. Spark was selected because there are more than 1 million entries and Spark is suitable for processing big data. However, I didn't manage to fully leverage Spark because I didn't manage to read the json-files due to its nested nature. Advice is welcome. The final tables will be written to a bucket in S3 to make it publically accessible for querying.\n",
    "\n",
    "#### Data gathering\n",
    "Two data sets plus corresponding metadata were gathered:\n",
    "1. The immigration data was gathered through the dataportal \"Dataportaal\" of Centraal Bureau voor de Statistiek (CBS) which is the Central Bureau of Statistics of the Netherlands. The webpage was https://opendata.cbs.nl/portal.html?_la=nl&_catalog=CBS&tableId=03742&_theme=66. The data was downloaded through \"Onbewerkte dataset\"= raw dataset, and by selecting the years of interest. The file format selected was json. The data gathered ranged from 2018 up and until 2020. Each year was in a separate json-file. The data included: ID number, gender, age on 31st of December, marital status, country of birth and period/year.\n",
    "2. Metadata of the immigration dataset was gathered from the same website. It was manually transformed in tables containing keys to convert the codes used in the immigration data into English. As an example, the gender was either T001038, 3000 or 4000 which translate into \"total of both males and females\", male or female.\n",
    "3. World Happiness Report data from the years 2018 up and until 2020 were gathered from Kaggle https://www.kaggle.com/datasets https://www.kaggle.com/unsdsn/world-happiness. Each year was in a separate csv-file. The data contained at least: country name, happiness score and parameters that can affect happiness, e.g. life expectancy. "
   ]
  },
  {
   "cell_type": "code",
   "execution_count": 2,
   "metadata": {
    "editable": true
   },
   "outputs": [],
   "source": [
    "spark = SparkSession \\\n",
    "        .builder \\\n",
    "        .config(\"spark.jars.packages\", \"org.apache.hadoop:hadoop-aws:2.7.0\") \\\n",
    "        .getOrCreate()"
   ]
  },
  {
   "cell_type": "code",
   "execution_count": 3,
   "metadata": {
    "editable": true
   },
   "outputs": [
    {
     "data": {
      "text/html": [
       "\n",
       "            <div>\n",
       "                <p><b>SparkSession - in-memory</b></p>\n",
       "                \n",
       "        <div>\n",
       "            <p><b>SparkContext</b></p>\n",
       "\n",
       "            <p><a href=\"http://f628e0fea2d0:4040\">Spark UI</a></p>\n",
       "\n",
       "            <dl>\n",
       "              <dt>Version</dt>\n",
       "                <dd><code>v2.4.3</code></dd>\n",
       "              <dt>Master</dt>\n",
       "                <dd><code>local[*]</code></dd>\n",
       "              <dt>AppName</dt>\n",
       "                <dd><code>pyspark-shell</code></dd>\n",
       "            </dl>\n",
       "        </div>\n",
       "        \n",
       "            </div>\n",
       "        "
      ],
      "text/plain": [
       "<pyspark.sql.session.SparkSession at 0x7f2fdf82ae48>"
      ]
     },
     "execution_count": 3,
     "metadata": {},
     "output_type": "execute_result"
    }
   ],
   "source": [
    "spark"
   ]
  },
  {
   "cell_type": "markdown",
   "metadata": {
    "editable": true
   },
   "source": [
    "### Step 2: Explore and Assess the Data"
   ]
  },
  {
   "cell_type": "markdown",
   "metadata": {
    "editable": true
   },
   "source": [
    "#### Loading and Exploring the data"
   ]
  },
  {
   "cell_type": "markdown",
   "metadata": {
    "editable": true
   },
   "source": [
    "##### Immigration data"
   ]
  },
  {
   "cell_type": "markdown",
   "metadata": {
    "editable": true
   },
   "source": [
    "The data of each year is stored in a separate file. First, load one file to assess the structure of the file and the type of data in it."
   ]
  },
  {
   "cell_type": "code",
   "execution_count": 4,
   "metadata": {
    "editable": true
   },
   "outputs": [],
   "source": [
    "# Path to the immigration data\n",
    "file= 'Immigration_data/03742_TypedDataSet_2019.json'"
   ]
  },
  {
   "cell_type": "code",
   "execution_count": 5,
   "metadata": {
    "editable": true
   },
   "outputs": [],
   "source": [
    "# Import the json-files with immigration data\n",
    "immigration_json= []\n",
    "for line in open(file, 'r'):\n",
    "    immigration_json.append(json.loads(line))"
   ]
  },
  {
   "cell_type": "markdown",
   "metadata": {
    "editable": true
   },
   "source": [
    "Assess the structure of the file."
   ]
  },
  {
   "cell_type": "code",
   "execution_count": 6,
   "metadata": {
    "editable": true
   },
   "outputs": [],
   "source": [
    "#immigration_json"
   ]
  },
  {
   "cell_type": "code",
   "execution_count": 7,
   "metadata": {
    "editable": true
   },
   "outputs": [
    {
     "data": {
      "text/plain": [
       "list"
      ]
     },
     "execution_count": 7,
     "metadata": {},
     "output_type": "execute_result"
    }
   ],
   "source": [
    "type(immigration_json)"
   ]
  },
  {
   "cell_type": "code",
   "execution_count": 8,
   "metadata": {
    "editable": true
   },
   "outputs": [
    {
     "data": {
      "text/plain": [
       "1"
      ]
     },
     "execution_count": 8,
     "metadata": {},
     "output_type": "execute_result"
    }
   ],
   "source": [
    "len(immigration_json)"
   ]
  },
  {
   "cell_type": "code",
   "execution_count": 9,
   "metadata": {
    "editable": true
   },
   "outputs": [
    {
     "data": {
      "text/plain": [
       "dict"
      ]
     },
     "execution_count": 9,
     "metadata": {},
     "output_type": "execute_result"
    }
   ],
   "source": [
    "type(immigration_json[0])"
   ]
  },
  {
   "cell_type": "code",
   "execution_count": 10,
   "metadata": {
    "editable": true
   },
   "outputs": [
    {
     "data": {
      "text/plain": [
       "dict_keys(['value'])"
      ]
     },
     "execution_count": 10,
     "metadata": {},
     "output_type": "execute_result"
    }
   ],
   "source": [
    "immigration_json[0].keys()"
   ]
  },
  {
   "cell_type": "code",
   "execution_count": 11,
   "metadata": {
    "editable": true
   },
   "outputs": [],
   "source": [
    "immigration_dict= immigration_json[0].get('value')"
   ]
  },
  {
   "cell_type": "code",
   "execution_count": 12,
   "metadata": {
    "editable": true
   },
   "outputs": [],
   "source": [
    "imm_keys= immigration_dict.keys()"
   ]
  },
  {
   "cell_type": "code",
   "execution_count": 13,
   "metadata": {
    "editable": true
   },
   "outputs": [
    {
     "data": {
      "text/plain": [
       "{'ID': 24,\n",
       " 'Geslacht': 'T001038',\n",
       " 'LeeftijdOp31December': '10000',\n",
       " 'BurgerlijkeStaat': 'T001019',\n",
       " 'Geboorteland': 'T001175',\n",
       " 'Perioden': '2019JJ00',\n",
       " 'Immigratie_1': 269064}"
      ]
     },
     "execution_count": 13,
     "metadata": {},
     "output_type": "execute_result"
    }
   ],
   "source": [
    "# Look at an example\n",
    "immigration_dict.get('24')"
   ]
  },
  {
   "cell_type": "code",
   "execution_count": 14,
   "metadata": {
    "editable": true
   },
   "outputs": [
    {
     "data": {
      "text/plain": [
       "dict_keys(['ID', 'Geslacht', 'LeeftijdOp31December', 'BurgerlijkeStaat', 'Geboorteland', 'Perioden', 'Immigratie_1'])"
      ]
     },
     "execution_count": 14,
     "metadata": {},
     "output_type": "execute_result"
    }
   ],
   "source": [
    "immigration_dict.get('24').keys()"
   ]
  },
  {
   "cell_type": "code",
   "execution_count": 15,
   "metadata": {
    "editable": true
   },
   "outputs": [
    {
     "data": {
      "text/html": [
       "<div>\n",
       "<style scoped>\n",
       "    .dataframe tbody tr th:only-of-type {\n",
       "        vertical-align: middle;\n",
       "    }\n",
       "\n",
       "    .dataframe tbody tr th {\n",
       "        vertical-align: top;\n",
       "    }\n",
       "\n",
       "    .dataframe thead th {\n",
       "        text-align: right;\n",
       "    }\n",
       "</style>\n",
       "<table border=\"1\" class=\"dataframe\">\n",
       "  <thead>\n",
       "    <tr style=\"text-align: right;\">\n",
       "      <th></th>\n",
       "      <th>ID</th>\n",
       "      <th>Geslacht</th>\n",
       "      <th>LeeftijdOp31December</th>\n",
       "      <th>BurgerlijkeStaat</th>\n",
       "      <th>Geboorteland</th>\n",
       "      <th>Perioden</th>\n",
       "      <th>Immigratie_1</th>\n",
       "    </tr>\n",
       "  </thead>\n",
       "  <tbody>\n",
       "  </tbody>\n",
       "</table>\n",
       "</div>"
      ],
      "text/plain": [
       "Empty DataFrame\n",
       "Columns: [ID, Geslacht, LeeftijdOp31December, BurgerlijkeStaat, Geboorteland, Perioden, Immigratie_1]\n",
       "Index: []"
      ]
     },
     "execution_count": 15,
     "metadata": {},
     "output_type": "execute_result"
    }
   ],
   "source": [
    "# Create an empty dataframe to store the immigration data in\n",
    "df_immigration= pd.DataFrame(columns=['ID', 'Geslacht', 'LeeftijdOp31December', 'BurgerlijkeStaat', 'Geboorteland', 'Perioden', 'Immigratie_1'])\n",
    "df_immigration"
   ]
  },
  {
   "cell_type": "markdown",
   "metadata": {
    "editable": true
   },
   "source": [
    "Test loading the data with a few entries."
   ]
  },
  {
   "cell_type": "code",
   "execution_count": 16,
   "metadata": {
    "editable": true
   },
   "outputs": [
    {
     "name": "stdout",
     "output_type": "stream",
     "text": [
      "2600024\n",
      "2600050\n",
      "2600076\n",
      "2600102\n",
      "2600128\n"
     ]
    }
   ],
   "source": [
    "# Append all the immigration data to that dataframe\n",
    "a= 100000 #100000 #300000 # 400000\n",
    "for key in list(imm_keys)[a: a+5]:\n",
    "#for key in imm_keys:\n",
    "    print(key)\n",
    "    df_immigration = df_immigration.append(immigration_dict.get(key), ignore_index=True)"
   ]
  },
  {
   "cell_type": "code",
   "execution_count": 17,
   "metadata": {
    "editable": true
   },
   "outputs": [
    {
     "data": {
      "text/html": [
       "<div>\n",
       "<style scoped>\n",
       "    .dataframe tbody tr th:only-of-type {\n",
       "        vertical-align: middle;\n",
       "    }\n",
       "\n",
       "    .dataframe tbody tr th {\n",
       "        vertical-align: top;\n",
       "    }\n",
       "\n",
       "    .dataframe thead th {\n",
       "        text-align: right;\n",
       "    }\n",
       "</style>\n",
       "<table border=\"1\" class=\"dataframe\">\n",
       "  <thead>\n",
       "    <tr style=\"text-align: right;\">\n",
       "      <th></th>\n",
       "      <th>ID</th>\n",
       "      <th>Geslacht</th>\n",
       "      <th>LeeftijdOp31December</th>\n",
       "      <th>BurgerlijkeStaat</th>\n",
       "      <th>Geboorteland</th>\n",
       "      <th>Perioden</th>\n",
       "      <th>Immigratie_1</th>\n",
       "    </tr>\n",
       "  </thead>\n",
       "  <tbody>\n",
       "    <tr>\n",
       "      <th>0</th>\n",
       "      <td>2600024</td>\n",
       "      <td>T001038</td>\n",
       "      <td>17500</td>\n",
       "      <td>T001019</td>\n",
       "      <td>G008586</td>\n",
       "      <td>2019JJ00</td>\n",
       "      <td>0</td>\n",
       "    </tr>\n",
       "    <tr>\n",
       "      <th>1</th>\n",
       "      <td>2600050</td>\n",
       "      <td>T001038</td>\n",
       "      <td>17500</td>\n",
       "      <td>T001019</td>\n",
       "      <td>G008587</td>\n",
       "      <td>2019JJ00</td>\n",
       "      <td>0</td>\n",
       "    </tr>\n",
       "    <tr>\n",
       "      <th>2</th>\n",
       "      <td>2600076</td>\n",
       "      <td>T001038</td>\n",
       "      <td>17500</td>\n",
       "      <td>T001019</td>\n",
       "      <td>G008588</td>\n",
       "      <td>2019JJ00</td>\n",
       "      <td>0</td>\n",
       "    </tr>\n",
       "    <tr>\n",
       "      <th>3</th>\n",
       "      <td>2600102</td>\n",
       "      <td>T001038</td>\n",
       "      <td>17500</td>\n",
       "      <td>T001019</td>\n",
       "      <td>G008589</td>\n",
       "      <td>2019JJ00</td>\n",
       "      <td>0</td>\n",
       "    </tr>\n",
       "    <tr>\n",
       "      <th>4</th>\n",
       "      <td>2600128</td>\n",
       "      <td>T001038</td>\n",
       "      <td>17500</td>\n",
       "      <td>T001019</td>\n",
       "      <td>G008590</td>\n",
       "      <td>2019JJ00</td>\n",
       "      <td>0</td>\n",
       "    </tr>\n",
       "  </tbody>\n",
       "</table>\n",
       "</div>"
      ],
      "text/plain": [
       "        ID Geslacht LeeftijdOp31December BurgerlijkeStaat Geboorteland  \\\n",
       "0  2600024  T001038                17500          T001019      G008586   \n",
       "1  2600050  T001038                17500          T001019      G008587   \n",
       "2  2600076  T001038                17500          T001019      G008588   \n",
       "3  2600102  T001038                17500          T001019      G008589   \n",
       "4  2600128  T001038                17500          T001019      G008590   \n",
       "\n",
       "   Perioden Immigratie_1  \n",
       "0  2019JJ00            0  \n",
       "1  2019JJ00            0  \n",
       "2  2019JJ00            0  \n",
       "3  2019JJ00            0  \n",
       "4  2019JJ00            0  "
      ]
     },
     "execution_count": 17,
     "metadata": {},
     "output_type": "execute_result"
    }
   ],
   "source": [
    "df_immigration"
   ]
  },
  {
   "cell_type": "code",
   "execution_count": 18,
   "metadata": {
    "editable": true
   },
   "outputs": [
    {
     "name": "stdout",
     "output_type": "stream",
     "text": [
      "<class 'pandas.core.frame.DataFrame'>\n",
      "RangeIndex: 5 entries, 0 to 4\n",
      "Data columns (total 7 columns):\n",
      "ID                      5 non-null object\n",
      "Geslacht                5 non-null object\n",
      "LeeftijdOp31December    5 non-null object\n",
      "BurgerlijkeStaat        5 non-null object\n",
      "Geboorteland            5 non-null object\n",
      "Perioden                5 non-null object\n",
      "Immigratie_1            5 non-null object\n",
      "dtypes: object(7)\n",
      "memory usage: 360.0+ bytes\n"
     ]
    }
   ],
   "source": [
    "df_immigration.info()"
   ]
  },
  {
   "cell_type": "code",
   "execution_count": 19,
   "metadata": {
    "editable": true
   },
   "outputs": [],
   "source": [
    "# Translate the column names into English\n",
    "df_immigration.rename(columns= {'Geslacht' : 'Gender', 'LeeftijdOp31December': 'Age', 'BurgerlijkeStaat': 'Marital_status', 'Geboorteland': 'Country_birth', \n",
    "                                'Perioden': 'Period', 'Immigratie_1' : 'ImmigrationVolume'}, inplace= True)"
   ]
  },
  {
   "cell_type": "code",
   "execution_count": 20,
   "metadata": {
    "editable": true
   },
   "outputs": [
    {
     "data": {
      "text/plain": [
       "Index(['ID', 'Gender', 'Age', 'Marital_status', 'Country_birth', 'Period',\n",
       "       'ImmigrationVolume'],\n",
       "      dtype='object')"
      ]
     },
     "execution_count": 20,
     "metadata": {},
     "output_type": "execute_result"
    }
   ],
   "source": [
    "df_immigration.columns"
   ]
  },
  {
   "cell_type": "code",
   "execution_count": 21,
   "metadata": {
    "editable": true
   },
   "outputs": [
    {
     "data": {
      "text/plain": [
       "array([0], dtype=object)"
      ]
     },
     "execution_count": 21,
     "metadata": {},
     "output_type": "execute_result"
    }
   ],
   "source": [
    "df_immigration['ImmigrationVolume'].unique()"
   ]
  },
  {
   "cell_type": "code",
   "execution_count": 22,
   "metadata": {
    "editable": true
   },
   "outputs": [
    {
     "data": {
      "text/plain": [
       "ID                   0\n",
       "Gender               0\n",
       "Age                  0\n",
       "Marital_status       0\n",
       "Country_birth        0\n",
       "Period               0\n",
       "ImmigrationVolume    0\n",
       "dtype: int64"
      ]
     },
     "execution_count": 22,
     "metadata": {},
     "output_type": "execute_result"
    }
   ],
   "source": [
    "df_immigration.isna().sum()"
   ]
  },
  {
   "cell_type": "markdown",
   "metadata": {
    "editable": true
   },
   "source": [
    "Observations:\n",
    "- There are rows with zero people immigrating.\n",
    "- There are rows with None in number of people immigrating."
   ]
  },
  {
   "cell_type": "markdown",
   "metadata": {
    "editable": true
   },
   "source": [
    "Loading of the data with only the entries that have >0 people."
   ]
  },
  {
   "cell_type": "code",
   "execution_count": 23,
   "metadata": {
    "editable": true
   },
   "outputs": [
    {
     "data": {
      "text/html": [
       "<div>\n",
       "<style scoped>\n",
       "    .dataframe tbody tr th:only-of-type {\n",
       "        vertical-align: middle;\n",
       "    }\n",
       "\n",
       "    .dataframe tbody tr th {\n",
       "        vertical-align: top;\n",
       "    }\n",
       "\n",
       "    .dataframe thead th {\n",
       "        text-align: right;\n",
       "    }\n",
       "</style>\n",
       "<table border=\"1\" class=\"dataframe\">\n",
       "  <thead>\n",
       "    <tr style=\"text-align: right;\">\n",
       "      <th></th>\n",
       "      <th>ID</th>\n",
       "      <th>Geslacht</th>\n",
       "      <th>LeeftijdOp31December</th>\n",
       "      <th>BurgerlijkeStaat</th>\n",
       "      <th>Geboorteland</th>\n",
       "      <th>Perioden</th>\n",
       "      <th>Immigratie_1</th>\n",
       "    </tr>\n",
       "  </thead>\n",
       "  <tbody>\n",
       "  </tbody>\n",
       "</table>\n",
       "</div>"
      ],
      "text/plain": [
       "Empty DataFrame\n",
       "Columns: [ID, Geslacht, LeeftijdOp31December, BurgerlijkeStaat, Geboorteland, Perioden, Immigratie_1]\n",
       "Index: []"
      ]
     },
     "execution_count": 23,
     "metadata": {},
     "output_type": "execute_result"
    }
   ],
   "source": [
    "# Create an empty dataframe to store the immigration data in\n",
    "df_immigration= pd.DataFrame(columns=['ID', 'Geslacht', 'LeeftijdOp31December', 'BurgerlijkeStaat', 'Geboorteland', 'Perioden', 'Immigratie_1'])\n",
    "df_immigration"
   ]
  },
  {
   "cell_type": "code",
   "execution_count": 24,
   "metadata": {
    "editable": true
   },
   "outputs": [
    {
     "name": "stdout",
     "output_type": "stream",
     "text": [
      "2600024\n",
      "2600050\n",
      "2600076\n",
      "2600102\n",
      "2600128\n"
     ]
    }
   ],
   "source": [
    "# Append all the immigration data to that dataframe\n",
    "a= 100000 #100000 #300000 # 400000\n",
    "#for key in list(imm_keys)[a: a+5]:\n",
    "for key in list(imm_keys)[a: a+5]:\n",
    "#for key in imm_keys:\n",
    "    print(key)\n",
    "    # Only append if the ImmigrationVolume given by column Immigratie_1 is greater than zero\n",
    "    if immigration_dict.get(key).get('Immigratie_1') != None and immigration_dict.get(key).get('Immigratie_1') > 0 and int(immigration_dict.get(key).get('LeeftijdOp31December')) < 19906:\n",
    "#    if immigration_dict.get(key).get('Immigratie_1') > 0:\n",
    "        df_immigration = df_immigration.append(immigration_dict.get(key), ignore_index=True)"
   ]
  },
  {
   "cell_type": "code",
   "execution_count": 25,
   "metadata": {
    "editable": true
   },
   "outputs": [
    {
     "data": {
      "text/html": [
       "<div>\n",
       "<style scoped>\n",
       "    .dataframe tbody tr th:only-of-type {\n",
       "        vertical-align: middle;\n",
       "    }\n",
       "\n",
       "    .dataframe tbody tr th {\n",
       "        vertical-align: top;\n",
       "    }\n",
       "\n",
       "    .dataframe thead th {\n",
       "        text-align: right;\n",
       "    }\n",
       "</style>\n",
       "<table border=\"1\" class=\"dataframe\">\n",
       "  <thead>\n",
       "    <tr style=\"text-align: right;\">\n",
       "      <th></th>\n",
       "      <th>ID</th>\n",
       "      <th>Geslacht</th>\n",
       "      <th>LeeftijdOp31December</th>\n",
       "      <th>BurgerlijkeStaat</th>\n",
       "      <th>Geboorteland</th>\n",
       "      <th>Perioden</th>\n",
       "      <th>Immigratie_1</th>\n",
       "    </tr>\n",
       "  </thead>\n",
       "  <tbody>\n",
       "  </tbody>\n",
       "</table>\n",
       "</div>"
      ],
      "text/plain": [
       "Empty DataFrame\n",
       "Columns: [ID, Geslacht, LeeftijdOp31December, BurgerlijkeStaat, Geboorteland, Perioden, Immigratie_1]\n",
       "Index: []"
      ]
     },
     "execution_count": 25,
     "metadata": {},
     "output_type": "execute_result"
    }
   ],
   "source": [
    "df_immigration"
   ]
  },
  {
   "cell_type": "markdown",
   "metadata": {
    "editable": true
   },
   "source": [
    "##### Immigration metadata"
   ]
  },
  {
   "cell_type": "markdown",
   "metadata": {
    "editable": true
   },
   "source": [
    "The immigration metadata is all contained in a single csv-file. Certain rows contain information about certain information: age, gender, marital status, country of birth and period over which the immigration had taken place. Each piece of information will be stored in a different table."
   ]
  },
  {
   "cell_type": "code",
   "execution_count": 26,
   "metadata": {
    "editable": true
   },
   "outputs": [],
   "source": [
    "# Path to metadata\n",
    "metadata_path= 'input_other/03742_metadata.csv'"
   ]
  },
  {
   "cell_type": "code",
   "execution_count": 27,
   "metadata": {
    "editable": true
   },
   "outputs": [
    {
     "data": {
      "text/html": [
       "<div>\n",
       "<style scoped>\n",
       "    .dataframe tbody tr th:only-of-type {\n",
       "        vertical-align: middle;\n",
       "    }\n",
       "\n",
       "    .dataframe tbody tr th {\n",
       "        vertical-align: top;\n",
       "    }\n",
       "\n",
       "    .dataframe thead th {\n",
       "        text-align: right;\n",
       "    }\n",
       "</style>\n",
       "<table border=\"1\" class=\"dataframe\">\n",
       "  <thead>\n",
       "    <tr style=\"text-align: right;\">\n",
       "      <th></th>\n",
       "      <th>Key</th>\n",
       "      <th>Title</th>\n",
       "    </tr>\n",
       "  </thead>\n",
       "  <tbody>\n",
       "    <tr>\n",
       "      <th>0</th>\n",
       "      <td>T001038</td>\n",
       "      <td>Totaal mannen en vrouwen</td>\n",
       "    </tr>\n",
       "    <tr>\n",
       "      <th>1</th>\n",
       "      <td>3000</td>\n",
       "      <td>Mannen</td>\n",
       "    </tr>\n",
       "    <tr>\n",
       "      <th>2</th>\n",
       "      <td>4000</td>\n",
       "      <td>Vrouwen</td>\n",
       "    </tr>\n",
       "  </tbody>\n",
       "</table>\n",
       "</div>"
      ],
      "text/plain": [
       "       Key                     Title\n",
       "0  T001038  Totaal mannen en vrouwen\n",
       "1  3000                       Mannen\n",
       "2  4000                      Vrouwen"
      ]
     },
     "execution_count": 27,
     "metadata": {},
     "output_type": "execute_result"
    }
   ],
   "source": [
    "df_meta_gender= pd.read_csv(metadata_path, sep=';', skiprows= 17, nrows= 3).iloc[:, 0:2]\n",
    "df_meta_gender"
   ]
  },
  {
   "cell_type": "code",
   "execution_count": 28,
   "metadata": {
    "editable": true
   },
   "outputs": [
    {
     "name": "stdout",
     "output_type": "stream",
     "text": [
      "<class 'pandas.core.frame.DataFrame'>\n",
      "RangeIndex: 3 entries, 0 to 2\n",
      "Data columns (total 2 columns):\n",
      "Key      3 non-null object\n",
      "Title    3 non-null object\n",
      "dtypes: object(2)\n",
      "memory usage: 128.0+ bytes\n"
     ]
    }
   ],
   "source": [
    "df_meta_gender.info()"
   ]
  },
  {
   "cell_type": "code",
   "execution_count": 29,
   "metadata": {
    "editable": true
   },
   "outputs": [
    {
     "data": {
      "text/html": [
       "<div>\n",
       "<style scoped>\n",
       "    .dataframe tbody tr th:only-of-type {\n",
       "        vertical-align: middle;\n",
       "    }\n",
       "\n",
       "    .dataframe tbody tr th {\n",
       "        vertical-align: top;\n",
       "    }\n",
       "\n",
       "    .dataframe thead th {\n",
       "        text-align: right;\n",
       "    }\n",
       "</style>\n",
       "<table border=\"1\" class=\"dataframe\">\n",
       "  <thead>\n",
       "    <tr style=\"text-align: right;\">\n",
       "      <th></th>\n",
       "      <th>Key</th>\n",
       "      <th>Title</th>\n",
       "    </tr>\n",
       "  </thead>\n",
       "  <tbody>\n",
       "    <tr>\n",
       "      <th>0</th>\n",
       "      <td>10000</td>\n",
       "      <td>Totaal</td>\n",
       "    </tr>\n",
       "    <tr>\n",
       "      <th>1</th>\n",
       "      <td>10010</td>\n",
       "      <td>0 jaar</td>\n",
       "    </tr>\n",
       "    <tr>\n",
       "      <th>2</th>\n",
       "      <td>10100</td>\n",
       "      <td>1 jaar</td>\n",
       "    </tr>\n",
       "    <tr>\n",
       "      <th>3</th>\n",
       "      <td>10200</td>\n",
       "      <td>2 jaar</td>\n",
       "    </tr>\n",
       "    <tr>\n",
       "      <th>4</th>\n",
       "      <td>10300</td>\n",
       "      <td>3 jaar</td>\n",
       "    </tr>\n",
       "    <tr>\n",
       "      <th>5</th>\n",
       "      <td>10400</td>\n",
       "      <td>4 jaar</td>\n",
       "    </tr>\n",
       "    <tr>\n",
       "      <th>6</th>\n",
       "      <td>10500</td>\n",
       "      <td>5 jaar</td>\n",
       "    </tr>\n",
       "    <tr>\n",
       "      <th>7</th>\n",
       "      <td>10600</td>\n",
       "      <td>6 jaar</td>\n",
       "    </tr>\n",
       "    <tr>\n",
       "      <th>8</th>\n",
       "      <td>10700</td>\n",
       "      <td>7 jaar</td>\n",
       "    </tr>\n",
       "    <tr>\n",
       "      <th>9</th>\n",
       "      <td>10800</td>\n",
       "      <td>8 jaar</td>\n",
       "    </tr>\n",
       "    <tr>\n",
       "      <th>10</th>\n",
       "      <td>10900</td>\n",
       "      <td>9 jaar</td>\n",
       "    </tr>\n",
       "    <tr>\n",
       "      <th>11</th>\n",
       "      <td>11000</td>\n",
       "      <td>10 jaar</td>\n",
       "    </tr>\n",
       "    <tr>\n",
       "      <th>12</th>\n",
       "      <td>11100</td>\n",
       "      <td>11 jaar</td>\n",
       "    </tr>\n",
       "    <tr>\n",
       "      <th>13</th>\n",
       "      <td>11200</td>\n",
       "      <td>12 jaar</td>\n",
       "    </tr>\n",
       "    <tr>\n",
       "      <th>14</th>\n",
       "      <td>11300</td>\n",
       "      <td>13 jaar</td>\n",
       "    </tr>\n",
       "    <tr>\n",
       "      <th>15</th>\n",
       "      <td>11400</td>\n",
       "      <td>14 jaar</td>\n",
       "    </tr>\n",
       "    <tr>\n",
       "      <th>16</th>\n",
       "      <td>11500</td>\n",
       "      <td>15 jaar</td>\n",
       "    </tr>\n",
       "    <tr>\n",
       "      <th>17</th>\n",
       "      <td>11600</td>\n",
       "      <td>16 jaar</td>\n",
       "    </tr>\n",
       "    <tr>\n",
       "      <th>18</th>\n",
       "      <td>11700</td>\n",
       "      <td>17 jaar</td>\n",
       "    </tr>\n",
       "    <tr>\n",
       "      <th>19</th>\n",
       "      <td>11800</td>\n",
       "      <td>18 jaar</td>\n",
       "    </tr>\n",
       "    <tr>\n",
       "      <th>20</th>\n",
       "      <td>11900</td>\n",
       "      <td>19 jaar</td>\n",
       "    </tr>\n",
       "    <tr>\n",
       "      <th>21</th>\n",
       "      <td>12000</td>\n",
       "      <td>20 jaar</td>\n",
       "    </tr>\n",
       "    <tr>\n",
       "      <th>22</th>\n",
       "      <td>12100</td>\n",
       "      <td>21 jaar</td>\n",
       "    </tr>\n",
       "    <tr>\n",
       "      <th>23</th>\n",
       "      <td>12200</td>\n",
       "      <td>22 jaar</td>\n",
       "    </tr>\n",
       "    <tr>\n",
       "      <th>24</th>\n",
       "      <td>12300</td>\n",
       "      <td>23 jaar</td>\n",
       "    </tr>\n",
       "    <tr>\n",
       "      <th>25</th>\n",
       "      <td>12400</td>\n",
       "      <td>24 jaar</td>\n",
       "    </tr>\n",
       "    <tr>\n",
       "      <th>26</th>\n",
       "      <td>12500</td>\n",
       "      <td>25 jaar</td>\n",
       "    </tr>\n",
       "    <tr>\n",
       "      <th>27</th>\n",
       "      <td>12600</td>\n",
       "      <td>26 jaar</td>\n",
       "    </tr>\n",
       "    <tr>\n",
       "      <th>28</th>\n",
       "      <td>12700</td>\n",
       "      <td>27 jaar</td>\n",
       "    </tr>\n",
       "    <tr>\n",
       "      <th>29</th>\n",
       "      <td>12800</td>\n",
       "      <td>28 jaar</td>\n",
       "    </tr>\n",
       "    <tr>\n",
       "      <th>...</th>\n",
       "      <td>...</td>\n",
       "      <td>...</td>\n",
       "    </tr>\n",
       "    <tr>\n",
       "      <th>98</th>\n",
       "      <td>19700</td>\n",
       "      <td>97 jaar</td>\n",
       "    </tr>\n",
       "    <tr>\n",
       "      <th>99</th>\n",
       "      <td>19800</td>\n",
       "      <td>98 jaar</td>\n",
       "    </tr>\n",
       "    <tr>\n",
       "      <th>100</th>\n",
       "      <td>19900</td>\n",
       "      <td>99 jaar</td>\n",
       "    </tr>\n",
       "    <tr>\n",
       "      <th>101</th>\n",
       "      <td>19901</td>\n",
       "      <td>100 jaar</td>\n",
       "    </tr>\n",
       "    <tr>\n",
       "      <th>102</th>\n",
       "      <td>19902</td>\n",
       "      <td>101 jaar</td>\n",
       "    </tr>\n",
       "    <tr>\n",
       "      <th>103</th>\n",
       "      <td>19903</td>\n",
       "      <td>102 jaar</td>\n",
       "    </tr>\n",
       "    <tr>\n",
       "      <th>104</th>\n",
       "      <td>19904</td>\n",
       "      <td>103 jaar</td>\n",
       "    </tr>\n",
       "    <tr>\n",
       "      <th>105</th>\n",
       "      <td>19905</td>\n",
       "      <td>104 jaar</td>\n",
       "    </tr>\n",
       "    <tr>\n",
       "      <th>106</th>\n",
       "      <td>22200</td>\n",
       "      <td>100 jaar of ouder</td>\n",
       "    </tr>\n",
       "    <tr>\n",
       "      <th>107</th>\n",
       "      <td>22300</td>\n",
       "      <td>105 jaar of ouder</td>\n",
       "    </tr>\n",
       "    <tr>\n",
       "      <th>108</th>\n",
       "      <td>70100</td>\n",
       "      <td>0 tot 5 jaar</td>\n",
       "    </tr>\n",
       "    <tr>\n",
       "      <th>109</th>\n",
       "      <td>70200</td>\n",
       "      <td>5 tot 10 jaar</td>\n",
       "    </tr>\n",
       "    <tr>\n",
       "      <th>110</th>\n",
       "      <td>70300</td>\n",
       "      <td>10 tot 15 jaar</td>\n",
       "    </tr>\n",
       "    <tr>\n",
       "      <th>111</th>\n",
       "      <td>70400</td>\n",
       "      <td>15 tot 20 jaar</td>\n",
       "    </tr>\n",
       "    <tr>\n",
       "      <th>112</th>\n",
       "      <td>70500</td>\n",
       "      <td>20 tot 25 jaar</td>\n",
       "    </tr>\n",
       "    <tr>\n",
       "      <th>113</th>\n",
       "      <td>70600</td>\n",
       "      <td>25 tot 30 jaar</td>\n",
       "    </tr>\n",
       "    <tr>\n",
       "      <th>114</th>\n",
       "      <td>70700</td>\n",
       "      <td>30 tot 35 jaar</td>\n",
       "    </tr>\n",
       "    <tr>\n",
       "      <th>115</th>\n",
       "      <td>70800</td>\n",
       "      <td>35 tot 40 jaar</td>\n",
       "    </tr>\n",
       "    <tr>\n",
       "      <th>116</th>\n",
       "      <td>70900</td>\n",
       "      <td>40 tot 45 jaar</td>\n",
       "    </tr>\n",
       "    <tr>\n",
       "      <th>117</th>\n",
       "      <td>71000</td>\n",
       "      <td>45 tot 50 jaar</td>\n",
       "    </tr>\n",
       "    <tr>\n",
       "      <th>118</th>\n",
       "      <td>71100</td>\n",
       "      <td>50 tot 55 jaar</td>\n",
       "    </tr>\n",
       "    <tr>\n",
       "      <th>119</th>\n",
       "      <td>71200</td>\n",
       "      <td>55 tot 60 jaar</td>\n",
       "    </tr>\n",
       "    <tr>\n",
       "      <th>120</th>\n",
       "      <td>71300</td>\n",
       "      <td>60 tot 65 jaar</td>\n",
       "    </tr>\n",
       "    <tr>\n",
       "      <th>121</th>\n",
       "      <td>71400</td>\n",
       "      <td>65 tot 70 jaar</td>\n",
       "    </tr>\n",
       "    <tr>\n",
       "      <th>122</th>\n",
       "      <td>71500</td>\n",
       "      <td>70 tot 75 jaar</td>\n",
       "    </tr>\n",
       "    <tr>\n",
       "      <th>123</th>\n",
       "      <td>71600</td>\n",
       "      <td>75 tot 80 jaar</td>\n",
       "    </tr>\n",
       "    <tr>\n",
       "      <th>124</th>\n",
       "      <td>71700</td>\n",
       "      <td>80 tot 85 jaar</td>\n",
       "    </tr>\n",
       "    <tr>\n",
       "      <th>125</th>\n",
       "      <td>71800</td>\n",
       "      <td>85 tot 90 jaar</td>\n",
       "    </tr>\n",
       "    <tr>\n",
       "      <th>126</th>\n",
       "      <td>71900</td>\n",
       "      <td>90 tot 95 jaar</td>\n",
       "    </tr>\n",
       "    <tr>\n",
       "      <th>127</th>\n",
       "      <td>72000</td>\n",
       "      <td>95 tot 100 jaar</td>\n",
       "    </tr>\n",
       "  </tbody>\n",
       "</table>\n",
       "<p>128 rows × 2 columns</p>\n",
       "</div>"
      ],
      "text/plain": [
       "       Key              Title\n",
       "0    10000             Totaal\n",
       "1    10010             0 jaar\n",
       "2    10100             1 jaar\n",
       "3    10200             2 jaar\n",
       "4    10300             3 jaar\n",
       "5    10400             4 jaar\n",
       "6    10500             5 jaar\n",
       "7    10600             6 jaar\n",
       "8    10700             7 jaar\n",
       "9    10800             8 jaar\n",
       "10   10900             9 jaar\n",
       "11   11000            10 jaar\n",
       "12   11100            11 jaar\n",
       "13   11200            12 jaar\n",
       "14   11300            13 jaar\n",
       "15   11400            14 jaar\n",
       "16   11500            15 jaar\n",
       "17   11600            16 jaar\n",
       "18   11700            17 jaar\n",
       "19   11800            18 jaar\n",
       "20   11900            19 jaar\n",
       "21   12000            20 jaar\n",
       "22   12100            21 jaar\n",
       "23   12200            22 jaar\n",
       "24   12300            23 jaar\n",
       "25   12400            24 jaar\n",
       "26   12500            25 jaar\n",
       "27   12600            26 jaar\n",
       "28   12700            27 jaar\n",
       "29   12800            28 jaar\n",
       "..     ...                ...\n",
       "98   19700            97 jaar\n",
       "99   19800            98 jaar\n",
       "100  19900            99 jaar\n",
       "101  19901           100 jaar\n",
       "102  19902           101 jaar\n",
       "103  19903           102 jaar\n",
       "104  19904           103 jaar\n",
       "105  19905           104 jaar\n",
       "106  22200  100 jaar of ouder\n",
       "107  22300  105 jaar of ouder\n",
       "108  70100       0 tot 5 jaar\n",
       "109  70200      5 tot 10 jaar\n",
       "110  70300     10 tot 15 jaar\n",
       "111  70400     15 tot 20 jaar\n",
       "112  70500     20 tot 25 jaar\n",
       "113  70600     25 tot 30 jaar\n",
       "114  70700     30 tot 35 jaar\n",
       "115  70800     35 tot 40 jaar\n",
       "116  70900     40 tot 45 jaar\n",
       "117  71000     45 tot 50 jaar\n",
       "118  71100     50 tot 55 jaar\n",
       "119  71200     55 tot 60 jaar\n",
       "120  71300     60 tot 65 jaar\n",
       "121  71400     65 tot 70 jaar\n",
       "122  71500     70 tot 75 jaar\n",
       "123  71600     75 tot 80 jaar\n",
       "124  71700     80 tot 85 jaar\n",
       "125  71800     85 tot 90 jaar\n",
       "126  71900     90 tot 95 jaar\n",
       "127  72000    95 tot 100 jaar\n",
       "\n",
       "[128 rows x 2 columns]"
      ]
     },
     "execution_count": 29,
     "metadata": {},
     "output_type": "execute_result"
    }
   ],
   "source": [
    "df_meta_age= pd.read_csv(metadata_path, sep=';', skiprows= 22, nrows= 128).iloc[:,0:2]\n",
    "df_meta_age"
   ]
  },
  {
   "cell_type": "code",
   "execution_count": 30,
   "metadata": {
    "editable": true
   },
   "outputs": [
    {
     "name": "stdout",
     "output_type": "stream",
     "text": [
      "<class 'pandas.core.frame.DataFrame'>\n",
      "RangeIndex: 128 entries, 0 to 127\n",
      "Data columns (total 2 columns):\n",
      "Key      128 non-null int64\n",
      "Title    128 non-null object\n",
      "dtypes: int64(1), object(1)\n",
      "memory usage: 2.1+ KB\n"
     ]
    }
   ],
   "source": [
    "df_meta_age.info()"
   ]
  },
  {
   "cell_type": "markdown",
   "metadata": {
    "editable": true
   },
   "source": [
    "Observations:\n",
    "- There are categories per year but also aggregates over 5 years and the total"
   ]
  },
  {
   "cell_type": "code",
   "execution_count": 31,
   "metadata": {
    "editable": true
   },
   "outputs": [
    {
     "data": {
      "text/html": [
       "<div>\n",
       "<style scoped>\n",
       "    .dataframe tbody tr th:only-of-type {\n",
       "        vertical-align: middle;\n",
       "    }\n",
       "\n",
       "    .dataframe tbody tr th {\n",
       "        vertical-align: top;\n",
       "    }\n",
       "\n",
       "    .dataframe thead th {\n",
       "        text-align: right;\n",
       "    }\n",
       "</style>\n",
       "<table border=\"1\" class=\"dataframe\">\n",
       "  <thead>\n",
       "    <tr style=\"text-align: right;\">\n",
       "      <th></th>\n",
       "      <th>Key</th>\n",
       "      <th>Title</th>\n",
       "      <th>Description</th>\n",
       "    </tr>\n",
       "  </thead>\n",
       "  <tbody>\n",
       "    <tr>\n",
       "      <th>0</th>\n",
       "      <td>T001019</td>\n",
       "      <td>Totaal burgerlijke staat</td>\n",
       "      <td>NaN</td>\n",
       "    </tr>\n",
       "    <tr>\n",
       "      <th>1</th>\n",
       "      <td>1010</td>\n",
       "      <td>Ongehuwd</td>\n",
       "      <td>Burgerlijke staat die aangeeft dat een persoon...</td>\n",
       "    </tr>\n",
       "    <tr>\n",
       "      <th>2</th>\n",
       "      <td>1020</td>\n",
       "      <td>Gehuwd</td>\n",
       "      <td>Wettig gehuwd plus partnerschap.\\n\\nTrendbreuk...</td>\n",
       "    </tr>\n",
       "    <tr>\n",
       "      <th>3</th>\n",
       "      <td>1050</td>\n",
       "      <td>Verweduwd</td>\n",
       "      <td>Verweduwd na wettig huwelijk plus verweduwd na...</td>\n",
       "    </tr>\n",
       "    <tr>\n",
       "      <th>4</th>\n",
       "      <td>1080</td>\n",
       "      <td>Gescheiden</td>\n",
       "      <td>Gescheiden na wettig huwelijk plus gescheiden ...</td>\n",
       "    </tr>\n",
       "  </tbody>\n",
       "</table>\n",
       "</div>"
      ],
      "text/plain": [
       "       Key                     Title  \\\n",
       "0  T001019  Totaal burgerlijke staat   \n",
       "1  1010                     Ongehuwd   \n",
       "2  1020                       Gehuwd   \n",
       "3  1050                    Verweduwd   \n",
       "4  1080                   Gescheiden   \n",
       "\n",
       "                                         Description  \n",
       "0                                                NaN  \n",
       "1  Burgerlijke staat die aangeeft dat een persoon...  \n",
       "2  Wettig gehuwd plus partnerschap.\\n\\nTrendbreuk...  \n",
       "3  Verweduwd na wettig huwelijk plus verweduwd na...  \n",
       "4  Gescheiden na wettig huwelijk plus gescheiden ...  "
      ]
     },
     "execution_count": 31,
     "metadata": {},
     "output_type": "execute_result"
    }
   ],
   "source": [
    "df_meta_marital= pd.read_csv(metadata_path, sep=';', skiprows= 152, nrows= 5)\n",
    "df_meta_marital"
   ]
  },
  {
   "cell_type": "code",
   "execution_count": 32,
   "metadata": {
    "editable": true
   },
   "outputs": [
    {
     "data": {
      "text/plain": [
       "'1010   '"
      ]
     },
     "execution_count": 32,
     "metadata": {},
     "output_type": "execute_result"
    }
   ],
   "source": [
    "df_meta_marital.iloc[1,0]"
   ]
  },
  {
   "cell_type": "code",
   "execution_count": null,
   "metadata": {
    "editable": true
   },
   "outputs": [],
   "source": []
  },
  {
   "cell_type": "code",
   "execution_count": 33,
   "metadata": {
    "editable": true
   },
   "outputs": [
    {
     "name": "stdout",
     "output_type": "stream",
     "text": [
      "<class 'pandas.core.frame.DataFrame'>\n",
      "RangeIndex: 5 entries, 0 to 4\n",
      "Data columns (total 3 columns):\n",
      "Key            5 non-null object\n",
      "Title          5 non-null object\n",
      "Description    4 non-null object\n",
      "dtypes: object(3)\n",
      "memory usage: 200.0+ bytes\n"
     ]
    }
   ],
   "source": [
    "df_meta_marital.info()"
   ]
  },
  {
   "cell_type": "code",
   "execution_count": 34,
   "metadata": {
    "editable": true
   },
   "outputs": [
    {
     "data": {
      "text/html": [
       "<div>\n",
       "<style scoped>\n",
       "    .dataframe tbody tr th:only-of-type {\n",
       "        vertical-align: middle;\n",
       "    }\n",
       "\n",
       "    .dataframe tbody tr th {\n",
       "        vertical-align: top;\n",
       "    }\n",
       "\n",
       "    .dataframe thead th {\n",
       "        text-align: right;\n",
       "    }\n",
       "</style>\n",
       "<table border=\"1\" class=\"dataframe\">\n",
       "  <thead>\n",
       "    <tr style=\"text-align: right;\">\n",
       "      <th></th>\n",
       "      <th>Key</th>\n",
       "      <th>Title</th>\n",
       "      <th>Description</th>\n",
       "    </tr>\n",
       "  </thead>\n",
       "  <tbody>\n",
       "    <tr>\n",
       "      <th>0</th>\n",
       "      <td>T001175</td>\n",
       "      <td>Totaal</td>\n",
       "      <td>NaN</td>\n",
       "    </tr>\n",
       "    <tr>\n",
       "      <th>1</th>\n",
       "      <td>G000001</td>\n",
       "      <td>Westerse geboortelanden (incl Nederland)</td>\n",
       "      <td>Westerse geboortelanden (inclusief Nederland) ...</td>\n",
       "    </tr>\n",
       "    <tr>\n",
       "      <th>2</th>\n",
       "      <td>G000002</td>\n",
       "      <td>Niet-westerse geboortelanden</td>\n",
       "      <td>Landen in Afrika, Latijns-Amerika en Azië (exc...</td>\n",
       "    </tr>\n",
       "    <tr>\n",
       "      <th>3</th>\n",
       "      <td>G000003</td>\n",
       "      <td>Geboorteland onbekend</td>\n",
       "      <td>NaN</td>\n",
       "    </tr>\n",
       "    <tr>\n",
       "      <th>4</th>\n",
       "      <td>G008519</td>\n",
       "      <td>Afrika</td>\n",
       "      <td>NaN</td>\n",
       "    </tr>\n",
       "  </tbody>\n",
       "</table>\n",
       "</div>"
      ],
      "text/plain": [
       "       Key                                     Title  \\\n",
       "0  T001175                                    Totaal   \n",
       "1  G000001  Westerse geboortelanden (incl Nederland)   \n",
       "2  G000002              Niet-westerse geboortelanden   \n",
       "3  G000003                     Geboorteland onbekend   \n",
       "4  G008519                                    Afrika   \n",
       "\n",
       "                                         Description  \n",
       "0                                                NaN  \n",
       "1  Westerse geboortelanden (inclusief Nederland) ...  \n",
       "2  Landen in Afrika, Latijns-Amerika en Azië (exc...  \n",
       "3                                                NaN  \n",
       "4                                                NaN  "
      ]
     },
     "execution_count": 34,
     "metadata": {},
     "output_type": "execute_result"
    }
   ],
   "source": [
    "df_meta_birthcountry= pd.read_csv(metadata_path, sep=';', skiprows= 159, nrows= 263)\n",
    "df_meta_birthcountry.head()"
   ]
  },
  {
   "cell_type": "code",
   "execution_count": 35,
   "metadata": {
    "editable": true
   },
   "outputs": [
    {
     "data": {
      "text/html": [
       "<div>\n",
       "<style scoped>\n",
       "    .dataframe tbody tr th:only-of-type {\n",
       "        vertical-align: middle;\n",
       "    }\n",
       "\n",
       "    .dataframe tbody tr th {\n",
       "        vertical-align: top;\n",
       "    }\n",
       "\n",
       "    .dataframe thead th {\n",
       "        text-align: right;\n",
       "    }\n",
       "</style>\n",
       "<table border=\"1\" class=\"dataframe\">\n",
       "  <thead>\n",
       "    <tr style=\"text-align: right;\">\n",
       "      <th></th>\n",
       "      <th>Key</th>\n",
       "      <th>Title</th>\n",
       "      <th>Description</th>\n",
       "    </tr>\n",
       "  </thead>\n",
       "  <tbody>\n",
       "    <tr>\n",
       "      <th>258</th>\n",
       "      <td>G008787</td>\n",
       "      <td>Zuid-Afrika, land</td>\n",
       "      <td>NaN</td>\n",
       "    </tr>\n",
       "    <tr>\n",
       "      <th>259</th>\n",
       "      <td>G008789</td>\n",
       "      <td>Zuid-Korea</td>\n",
       "      <td>Zuid-Korea, Korea.</td>\n",
       "    </tr>\n",
       "    <tr>\n",
       "      <th>260</th>\n",
       "      <td>G008786</td>\n",
       "      <td>Zuid-Soedan</td>\n",
       "      <td>Nieuw land ontstaan na afsplitsing van Soedan ...</td>\n",
       "    </tr>\n",
       "    <tr>\n",
       "      <th>261</th>\n",
       "      <td>G008790</td>\n",
       "      <td>Zweden</td>\n",
       "      <td>NaN</td>\n",
       "    </tr>\n",
       "    <tr>\n",
       "      <th>262</th>\n",
       "      <td>G008791</td>\n",
       "      <td>Zwitserland</td>\n",
       "      <td>NaN</td>\n",
       "    </tr>\n",
       "  </tbody>\n",
       "</table>\n",
       "</div>"
      ],
      "text/plain": [
       "         Key              Title  \\\n",
       "258  G008787  Zuid-Afrika, land   \n",
       "259  G008789         Zuid-Korea   \n",
       "260  G008786        Zuid-Soedan   \n",
       "261  G008790             Zweden   \n",
       "262  G008791        Zwitserland   \n",
       "\n",
       "                                           Description  \n",
       "258                                                NaN  \n",
       "259                                 Zuid-Korea, Korea.  \n",
       "260  Nieuw land ontstaan na afsplitsing van Soedan ...  \n",
       "261                                                NaN  \n",
       "262                                                NaN  "
      ]
     },
     "execution_count": 35,
     "metadata": {},
     "output_type": "execute_result"
    }
   ],
   "source": [
    "df_meta_birthcountry.tail()"
   ]
  },
  {
   "cell_type": "code",
   "execution_count": 36,
   "metadata": {
    "editable": true
   },
   "outputs": [
    {
     "data": {
      "text/plain": [
       "array(['(voormalig) Joegoslavië', '(voormalig) Tsjecho-Slowakije',\n",
       "       '(voormalige) Nederlandse Antillen, Aruba',\n",
       "       '(voormalige) Sovjet-Unie', 'Afghanistan', 'Afrika', 'Albanië',\n",
       "       'Algerije', 'Amerika', 'Amerikaans Samoa',\n",
       "       'Amerikaanse Maagdeneilanden', 'Andorra', 'Angola', 'Anguilla',\n",
       "       'Antarctica', 'Antigua en Barbuda', 'Argentinië', 'Armenië',\n",
       "       'Aruba', 'Australië', 'Azerbeidzjan', 'Azië', 'Bahamas', 'Bahrein',\n",
       "       'Bangladesh', 'Barbados', 'België', 'Belize', 'Benin', 'Bermuda',\n",
       "       'Bhutan', 'Bolivia', 'Bosnië-Herzegovina', 'Botswana', 'Brazilië',\n",
       "       'Brits Territorium in de Indische Oceaan', 'Britse Maagdeneilanden',\n",
       "       'Brunei', 'Bulgarije', 'Burkina Faso', 'Burundi', 'Cambodja',\n",
       "       'Canada', 'Caribisch Nederland', 'Caymaneilanden',\n",
       "       'Centraal-Afrikaanse Republiek', 'Chili', 'China', 'Colombia',\n",
       "       'Comoren', 'Congo', 'Congo (Democratische Republiek)',\n",
       "       'Cookeilanden', 'Costa Rica', 'Cuba', 'Curaçao', 'Cyprus',\n",
       "       'Denemarken', 'Djibouti', 'Dominica', 'Dominicaanse Republiek',\n",
       "       'Duitsland', 'Ecuador', 'Egypte', 'El Salvador',\n",
       "       'Equatoriaal-Guinea', 'Eritrea', 'Estland', 'Eswatini', 'Ethiopië',\n",
       "       'Europa (inclusief Nederland)',\n",
       "       'Europese Unie (exclusief Nederland)', 'Faeröer-eilanden',\n",
       "       'Falklandeilanden', 'Federale Republiek Joegoslavië', 'Fiji',\n",
       "       'Filippijnen', 'Finland', 'Frankrijk', 'Frans Guyana',\n",
       "       'Frans-Polynesië', 'GIPS landen in de EU', 'Gabon', 'Gambia',\n",
       "       'Gazastrook en Westelijke Jordaanoever', 'Geboorteland onbekend',\n",
       "       'Georgië', 'Ghana', 'Gibraltar', 'Grenada', 'Griekenland',\n",
       "       'Groenland', 'Guadeloupe', 'Guam', 'Guatemala', 'Guinee',\n",
       "       'Guinee-Bissau', 'Guyana', 'Haïti', 'Honduras', 'Hongarije',\n",
       "       'Hongkong', 'IJsland', 'Ierland', 'India', 'Indonesië', 'Irak',\n",
       "       'Iran', 'Israël', 'Italië', 'Ivoorkust', 'Jamaica', 'Japan',\n",
       "       'Jemen', 'Joegoslavië (oud)', 'Jordanië', 'Kaapverdië', 'Kameroen',\n",
       "       'Kanaaleilanden', 'Katar', 'Kazachstan', 'Kenia', 'Kirgizië',\n",
       "       'Kiribati', 'Koeweit', 'Kosovo', 'Kroatië', 'Laos', 'Lesotho',\n",
       "       'Letland', 'Libanon', 'Liberia', 'Libië', 'Liechtenstein',\n",
       "       'Litouwen', 'Luxemburg', 'Macau', 'Macedonië', 'Madagaskar',\n",
       "       'Malawi', 'Maldiven', 'Maleisië', 'Mali', 'Malta', 'Man', 'Marokko',\n",
       "       'Marshall-eilanden', 'Martinique', 'Mauritanië', 'Mauritius',\n",
       "       'Mayotte', 'Mexico', 'Micronesië (Federale Staten)',\n",
       "       'Midden- en Oost-Europese landen in de EU', 'Moldavië', 'Monaco',\n",
       "       'Mongolië', 'Montenegro', 'Montserrat', 'Mozambique', 'Myanmar',\n",
       "       'Namibië', 'Nauru', 'Nederland', 'Nederlandse Antillen (oud)',\n",
       "       'Nepal', 'Nicaragua', 'Niet-westerse geboortelanden',\n",
       "       'Nieuw-Caledonië', 'Nieuw-Zeeland', 'Niger', 'Nigeria', 'Niue',\n",
       "       'Noord-Korea', 'Noordelijke Marianen', 'Noorwegen', 'Norfolk',\n",
       "       'Oceanië', 'Oekraïne', 'Oezbekistan', 'Oman', 'Oostenrijk',\n",
       "       'Pakistan', 'Palau', 'Panama', 'Papoea-Nieuw-Guinea', 'Paraguay',\n",
       "       'Peru', 'Pitcairneilanden', 'Polen', 'Portugal', 'Puerto Rico',\n",
       "       'Republiek Noord-Macedonië', 'Roemenië', 'Rusland', 'Rusland (oud)',\n",
       "       'Rwanda', 'Réunion', 'Saint Kitts en Nevis',\n",
       "       'Saint Pierre en Miquelon', 'Saint-Vincent en de Grenadines',\n",
       "       'Salomonseilanden', 'Samoa', 'San Marino', 'Sao Tomé en Principe',\n",
       "       'Saoedi-Arabië', 'Senegal', 'Servië', 'Servië en Montenegro',\n",
       "       'Seychellen', 'Sierra Leone', 'Singapore', 'Sint Helena',\n",
       "       'Sint Lucia', 'Sint Maarten (Nederlands deel)', 'Slovenië',\n",
       "       'Slowakije', 'Soedan', 'Somalië', 'Sovjet-Unie (oud)', 'Spanje',\n",
       "       'Sri Lanka', 'Suriname', 'Swaziland', 'Syrië', 'Tadzjikistan',\n",
       "       'Taiwan', 'Tanzania', 'Thailand', 'Timor Leste', 'Togo',\n",
       "       'Tokelau-eilanden', 'Tonga', 'Totaal', 'Trinidad en Tobago',\n",
       "       'Tsjaad', 'Tsjechië', 'Tsjecho-Slowakije (oud)', 'Tunesië',\n",
       "       'Turkije', 'Turkmenistan', 'Turks- en Caicoseilanden', 'Tuvalu',\n",
       "       'Uganda', 'Uruguay', 'Vanuatu', 'Vaticaanstad', 'Venezuela',\n",
       "       'Verenigd Koninkrijk', 'Verenigde Arabische Emiraten',\n",
       "       'Verenigde Staten van Amerika', 'Verre eilanden van de VS',\n",
       "       'Vietnam', 'Wallis en Futuna',\n",
       "       'Westerse geboortelanden (incl Nederland)', 'Wit-Rusland', 'Zambia',\n",
       "       'Zimbabwe', 'Zuid-Afrika, land', 'Zuid-Korea', 'Zuid-Soedan',\n",
       "       'Zweden', 'Zwitserland'], dtype=object)"
      ]
     },
     "execution_count": 36,
     "metadata": {},
     "output_type": "execute_result"
    }
   ],
   "source": [
    "countries_Dutch= np.sort(df_meta_birthcountry['Title'].unique())\n",
    "countries_Dutch"
   ]
  },
  {
   "cell_type": "code",
   "execution_count": 37,
   "metadata": {
    "editable": true
   },
   "outputs": [
    {
     "data": {
      "text/plain": [
       "263"
      ]
     },
     "execution_count": 37,
     "metadata": {},
     "output_type": "execute_result"
    }
   ],
   "source": [
    "countries_Dutch.shape[0]"
   ]
  },
  {
   "cell_type": "code",
   "execution_count": 38,
   "metadata": {
    "editable": true
   },
   "outputs": [
    {
     "data": {
      "text/html": [
       "<div>\n",
       "<style scoped>\n",
       "    .dataframe tbody tr th:only-of-type {\n",
       "        vertical-align: middle;\n",
       "    }\n",
       "\n",
       "    .dataframe tbody tr th {\n",
       "        vertical-align: top;\n",
       "    }\n",
       "\n",
       "    .dataframe thead th {\n",
       "        text-align: right;\n",
       "    }\n",
       "</style>\n",
       "<table border=\"1\" class=\"dataframe\">\n",
       "  <thead>\n",
       "    <tr style=\"text-align: right;\">\n",
       "      <th></th>\n",
       "      <th>Key</th>\n",
       "      <th>Title</th>\n",
       "      <th>Description</th>\n",
       "      <th>Status</th>\n",
       "    </tr>\n",
       "  </thead>\n",
       "  <tbody>\n",
       "    <tr>\n",
       "      <th>0</th>\n",
       "      <td>1995JJ00</td>\n",
       "      <td>1995</td>\n",
       "      <td>NaN</td>\n",
       "      <td>Definitief</td>\n",
       "    </tr>\n",
       "    <tr>\n",
       "      <th>1</th>\n",
       "      <td>1996JJ00</td>\n",
       "      <td>1996</td>\n",
       "      <td>NaN</td>\n",
       "      <td>Definitief</td>\n",
       "    </tr>\n",
       "    <tr>\n",
       "      <th>2</th>\n",
       "      <td>1997JJ00</td>\n",
       "      <td>1997</td>\n",
       "      <td>NaN</td>\n",
       "      <td>Definitief</td>\n",
       "    </tr>\n",
       "    <tr>\n",
       "      <th>3</th>\n",
       "      <td>1998JJ00</td>\n",
       "      <td>1998</td>\n",
       "      <td>NaN</td>\n",
       "      <td>Definitief</td>\n",
       "    </tr>\n",
       "    <tr>\n",
       "      <th>4</th>\n",
       "      <td>1999JJ00</td>\n",
       "      <td>1999</td>\n",
       "      <td>NaN</td>\n",
       "      <td>Definitief</td>\n",
       "    </tr>\n",
       "    <tr>\n",
       "      <th>5</th>\n",
       "      <td>2000JJ00</td>\n",
       "      <td>2000</td>\n",
       "      <td>NaN</td>\n",
       "      <td>Definitief</td>\n",
       "    </tr>\n",
       "    <tr>\n",
       "      <th>6</th>\n",
       "      <td>2001JJ00</td>\n",
       "      <td>2001</td>\n",
       "      <td>NaN</td>\n",
       "      <td>Definitief</td>\n",
       "    </tr>\n",
       "    <tr>\n",
       "      <th>7</th>\n",
       "      <td>2002JJ00</td>\n",
       "      <td>2002</td>\n",
       "      <td>NaN</td>\n",
       "      <td>Definitief</td>\n",
       "    </tr>\n",
       "    <tr>\n",
       "      <th>8</th>\n",
       "      <td>2003JJ00</td>\n",
       "      <td>2003</td>\n",
       "      <td>NaN</td>\n",
       "      <td>Definitief</td>\n",
       "    </tr>\n",
       "    <tr>\n",
       "      <th>9</th>\n",
       "      <td>2004JJ00</td>\n",
       "      <td>2004</td>\n",
       "      <td>NaN</td>\n",
       "      <td>Definitief</td>\n",
       "    </tr>\n",
       "    <tr>\n",
       "      <th>10</th>\n",
       "      <td>2005JJ00</td>\n",
       "      <td>2005</td>\n",
       "      <td>NaN</td>\n",
       "      <td>Definitief</td>\n",
       "    </tr>\n",
       "    <tr>\n",
       "      <th>11</th>\n",
       "      <td>2006JJ00</td>\n",
       "      <td>2006</td>\n",
       "      <td>NaN</td>\n",
       "      <td>Definitief</td>\n",
       "    </tr>\n",
       "    <tr>\n",
       "      <th>12</th>\n",
       "      <td>2007JJ00</td>\n",
       "      <td>2007</td>\n",
       "      <td>NaN</td>\n",
       "      <td>Definitief</td>\n",
       "    </tr>\n",
       "    <tr>\n",
       "      <th>13</th>\n",
       "      <td>2008JJ00</td>\n",
       "      <td>2008</td>\n",
       "      <td>NaN</td>\n",
       "      <td>Definitief</td>\n",
       "    </tr>\n",
       "    <tr>\n",
       "      <th>14</th>\n",
       "      <td>2009JJ00</td>\n",
       "      <td>2009</td>\n",
       "      <td>NaN</td>\n",
       "      <td>Definitief</td>\n",
       "    </tr>\n",
       "    <tr>\n",
       "      <th>15</th>\n",
       "      <td>2010JJ00</td>\n",
       "      <td>2010</td>\n",
       "      <td>NaN</td>\n",
       "      <td>Definitief</td>\n",
       "    </tr>\n",
       "    <tr>\n",
       "      <th>16</th>\n",
       "      <td>2011JJ00</td>\n",
       "      <td>2011</td>\n",
       "      <td>NaN</td>\n",
       "      <td>Definitief</td>\n",
       "    </tr>\n",
       "    <tr>\n",
       "      <th>17</th>\n",
       "      <td>2012JJ00</td>\n",
       "      <td>2012</td>\n",
       "      <td>NaN</td>\n",
       "      <td>Definitief</td>\n",
       "    </tr>\n",
       "    <tr>\n",
       "      <th>18</th>\n",
       "      <td>2013JJ00</td>\n",
       "      <td>2013</td>\n",
       "      <td>NaN</td>\n",
       "      <td>Definitief</td>\n",
       "    </tr>\n",
       "    <tr>\n",
       "      <th>19</th>\n",
       "      <td>2014JJ00</td>\n",
       "      <td>2014</td>\n",
       "      <td>NaN</td>\n",
       "      <td>Definitief</td>\n",
       "    </tr>\n",
       "    <tr>\n",
       "      <th>20</th>\n",
       "      <td>2015JJ00</td>\n",
       "      <td>2015</td>\n",
       "      <td>NaN</td>\n",
       "      <td>Definitief</td>\n",
       "    </tr>\n",
       "    <tr>\n",
       "      <th>21</th>\n",
       "      <td>2016JJ00</td>\n",
       "      <td>2016</td>\n",
       "      <td>NaN</td>\n",
       "      <td>Definitief</td>\n",
       "    </tr>\n",
       "    <tr>\n",
       "      <th>22</th>\n",
       "      <td>2017JJ00</td>\n",
       "      <td>2017</td>\n",
       "      <td>NaN</td>\n",
       "      <td>Definitief</td>\n",
       "    </tr>\n",
       "    <tr>\n",
       "      <th>23</th>\n",
       "      <td>2018JJ00</td>\n",
       "      <td>2018</td>\n",
       "      <td>NaN</td>\n",
       "      <td>Definitief</td>\n",
       "    </tr>\n",
       "    <tr>\n",
       "      <th>24</th>\n",
       "      <td>2019JJ00</td>\n",
       "      <td>2019</td>\n",
       "      <td>NaN</td>\n",
       "      <td>Definitief</td>\n",
       "    </tr>\n",
       "    <tr>\n",
       "      <th>25</th>\n",
       "      <td>2020JJ00</td>\n",
       "      <td>2020</td>\n",
       "      <td>NaN</td>\n",
       "      <td>Definitief</td>\n",
       "    </tr>\n",
       "  </tbody>\n",
       "</table>\n",
       "</div>"
      ],
      "text/plain": [
       "         Key  Title  Description      Status\n",
       "0   1995JJ00   1995          NaN  Definitief\n",
       "1   1996JJ00   1996          NaN  Definitief\n",
       "2   1997JJ00   1997          NaN  Definitief\n",
       "3   1998JJ00   1998          NaN  Definitief\n",
       "4   1999JJ00   1999          NaN  Definitief\n",
       "5   2000JJ00   2000          NaN  Definitief\n",
       "6   2001JJ00   2001          NaN  Definitief\n",
       "7   2002JJ00   2002          NaN  Definitief\n",
       "8   2003JJ00   2003          NaN  Definitief\n",
       "9   2004JJ00   2004          NaN  Definitief\n",
       "10  2005JJ00   2005          NaN  Definitief\n",
       "11  2006JJ00   2006          NaN  Definitief\n",
       "12  2007JJ00   2007          NaN  Definitief\n",
       "13  2008JJ00   2008          NaN  Definitief\n",
       "14  2009JJ00   2009          NaN  Definitief\n",
       "15  2010JJ00   2010          NaN  Definitief\n",
       "16  2011JJ00   2011          NaN  Definitief\n",
       "17  2012JJ00   2012          NaN  Definitief\n",
       "18  2013JJ00   2013          NaN  Definitief\n",
       "19  2014JJ00   2014          NaN  Definitief\n",
       "20  2015JJ00   2015          NaN  Definitief\n",
       "21  2016JJ00   2016          NaN  Definitief\n",
       "22  2017JJ00   2017          NaN  Definitief\n",
       "23  2018JJ00   2018          NaN  Definitief\n",
       "24  2019JJ00   2019          NaN  Definitief\n",
       "25  2020JJ00   2020          NaN  Definitief"
      ]
     },
     "execution_count": 38,
     "metadata": {},
     "output_type": "execute_result"
    }
   ],
   "source": [
    "df_meta_period= pd.read_csv(metadata_path, sep=';', skiprows= 424, nrows= 26)\n",
    "df_meta_period"
   ]
  },
  {
   "cell_type": "code",
   "execution_count": 39,
   "metadata": {
    "editable": true
   },
   "outputs": [
    {
     "name": "stdout",
     "output_type": "stream",
     "text": [
      "<class 'pandas.core.frame.DataFrame'>\n",
      "RangeIndex: 26 entries, 0 to 25\n",
      "Data columns (total 4 columns):\n",
      "Key            26 non-null object\n",
      "Title          26 non-null int64\n",
      "Description    0 non-null float64\n",
      "Status         26 non-null object\n",
      "dtypes: float64(1), int64(1), object(2)\n",
      "memory usage: 912.0+ bytes\n"
     ]
    }
   ],
   "source": [
    "df_meta_period.info()"
   ]
  },
  {
   "cell_type": "markdown",
   "metadata": {
    "editable": true
   },
   "source": [
    "##### World Happiness Data"
   ]
  },
  {
   "cell_type": "markdown",
   "metadata": {
    "editable": true
   },
   "source": [
    "##### Inspect a single file to define cleaning"
   ]
  },
  {
   "cell_type": "code",
   "execution_count": 40,
   "metadata": {
    "editable": true
   },
   "outputs": [],
   "source": [
    "happiness2020= pd.read_csv('WorldHappinessReport/2020.csv')"
   ]
  },
  {
   "cell_type": "code",
   "execution_count": 41,
   "metadata": {
    "editable": true
   },
   "outputs": [
    {
     "data": {
      "text/html": [
       "<div>\n",
       "<style scoped>\n",
       "    .dataframe tbody tr th:only-of-type {\n",
       "        vertical-align: middle;\n",
       "    }\n",
       "\n",
       "    .dataframe tbody tr th {\n",
       "        vertical-align: top;\n",
       "    }\n",
       "\n",
       "    .dataframe thead th {\n",
       "        text-align: right;\n",
       "    }\n",
       "</style>\n",
       "<table border=\"1\" class=\"dataframe\">\n",
       "  <thead>\n",
       "    <tr style=\"text-align: right;\">\n",
       "      <th></th>\n",
       "      <th>Country name</th>\n",
       "      <th>Regional indicator</th>\n",
       "      <th>Ladder score</th>\n",
       "      <th>Standard error of ladder score</th>\n",
       "      <th>upperwhisker</th>\n",
       "      <th>lowerwhisker</th>\n",
       "      <th>Logged GDP per capita</th>\n",
       "      <th>Social support</th>\n",
       "      <th>Healthy life expectancy</th>\n",
       "      <th>Freedom to make life choices</th>\n",
       "      <th>Generosity</th>\n",
       "      <th>Perceptions of corruption</th>\n",
       "      <th>Ladder score in Dystopia</th>\n",
       "      <th>Explained by: Log GDP per capita</th>\n",
       "      <th>Explained by: Social support</th>\n",
       "      <th>Explained by: Healthy life expectancy</th>\n",
       "      <th>Explained by: Freedom to make life choices</th>\n",
       "      <th>Explained by: Generosity</th>\n",
       "      <th>Explained by: Perceptions of corruption</th>\n",
       "      <th>Dystopia + residual</th>\n",
       "    </tr>\n",
       "  </thead>\n",
       "  <tbody>\n",
       "    <tr>\n",
       "      <th>0</th>\n",
       "      <td>Finland</td>\n",
       "      <td>Western Europe</td>\n",
       "      <td>7.8087</td>\n",
       "      <td>0.031156</td>\n",
       "      <td>7.869766</td>\n",
       "      <td>7.747634</td>\n",
       "      <td>10.639267</td>\n",
       "      <td>0.954330</td>\n",
       "      <td>71.900825</td>\n",
       "      <td>0.949172</td>\n",
       "      <td>-0.059482</td>\n",
       "      <td>0.195445</td>\n",
       "      <td>1.972317</td>\n",
       "      <td>1.285190</td>\n",
       "      <td>1.499526</td>\n",
       "      <td>0.961271</td>\n",
       "      <td>0.662317</td>\n",
       "      <td>0.159670</td>\n",
       "      <td>0.477857</td>\n",
       "      <td>2.762835</td>\n",
       "    </tr>\n",
       "    <tr>\n",
       "      <th>1</th>\n",
       "      <td>Denmark</td>\n",
       "      <td>Western Europe</td>\n",
       "      <td>7.6456</td>\n",
       "      <td>0.033492</td>\n",
       "      <td>7.711245</td>\n",
       "      <td>7.579955</td>\n",
       "      <td>10.774001</td>\n",
       "      <td>0.955991</td>\n",
       "      <td>72.402504</td>\n",
       "      <td>0.951444</td>\n",
       "      <td>0.066202</td>\n",
       "      <td>0.168489</td>\n",
       "      <td>1.972317</td>\n",
       "      <td>1.326949</td>\n",
       "      <td>1.503449</td>\n",
       "      <td>0.979333</td>\n",
       "      <td>0.665040</td>\n",
       "      <td>0.242793</td>\n",
       "      <td>0.495260</td>\n",
       "      <td>2.432741</td>\n",
       "    </tr>\n",
       "    <tr>\n",
       "      <th>2</th>\n",
       "      <td>Switzerland</td>\n",
       "      <td>Western Europe</td>\n",
       "      <td>7.5599</td>\n",
       "      <td>0.035014</td>\n",
       "      <td>7.628528</td>\n",
       "      <td>7.491272</td>\n",
       "      <td>10.979933</td>\n",
       "      <td>0.942847</td>\n",
       "      <td>74.102448</td>\n",
       "      <td>0.921337</td>\n",
       "      <td>0.105911</td>\n",
       "      <td>0.303728</td>\n",
       "      <td>1.972317</td>\n",
       "      <td>1.390774</td>\n",
       "      <td>1.472403</td>\n",
       "      <td>1.040533</td>\n",
       "      <td>0.628954</td>\n",
       "      <td>0.269056</td>\n",
       "      <td>0.407946</td>\n",
       "      <td>2.350267</td>\n",
       "    </tr>\n",
       "    <tr>\n",
       "      <th>3</th>\n",
       "      <td>Iceland</td>\n",
       "      <td>Western Europe</td>\n",
       "      <td>7.5045</td>\n",
       "      <td>0.059616</td>\n",
       "      <td>7.621347</td>\n",
       "      <td>7.387653</td>\n",
       "      <td>10.772559</td>\n",
       "      <td>0.974670</td>\n",
       "      <td>73.000000</td>\n",
       "      <td>0.948892</td>\n",
       "      <td>0.246944</td>\n",
       "      <td>0.711710</td>\n",
       "      <td>1.972317</td>\n",
       "      <td>1.326502</td>\n",
       "      <td>1.547567</td>\n",
       "      <td>1.000843</td>\n",
       "      <td>0.661981</td>\n",
       "      <td>0.362330</td>\n",
       "      <td>0.144541</td>\n",
       "      <td>2.460688</td>\n",
       "    </tr>\n",
       "    <tr>\n",
       "      <th>4</th>\n",
       "      <td>Norway</td>\n",
       "      <td>Western Europe</td>\n",
       "      <td>7.4880</td>\n",
       "      <td>0.034837</td>\n",
       "      <td>7.556281</td>\n",
       "      <td>7.419719</td>\n",
       "      <td>11.087804</td>\n",
       "      <td>0.952487</td>\n",
       "      <td>73.200783</td>\n",
       "      <td>0.955750</td>\n",
       "      <td>0.134533</td>\n",
       "      <td>0.263218</td>\n",
       "      <td>1.972317</td>\n",
       "      <td>1.424207</td>\n",
       "      <td>1.495173</td>\n",
       "      <td>1.008072</td>\n",
       "      <td>0.670201</td>\n",
       "      <td>0.287985</td>\n",
       "      <td>0.434101</td>\n",
       "      <td>2.168266</td>\n",
       "    </tr>\n",
       "  </tbody>\n",
       "</table>\n",
       "</div>"
      ],
      "text/plain": [
       "  Country name Regional indicator  Ladder score  \\\n",
       "0      Finland     Western Europe        7.8087   \n",
       "1      Denmark     Western Europe        7.6456   \n",
       "2  Switzerland     Western Europe        7.5599   \n",
       "3      Iceland     Western Europe        7.5045   \n",
       "4       Norway     Western Europe        7.4880   \n",
       "\n",
       "   Standard error of ladder score  upperwhisker  lowerwhisker  \\\n",
       "0                        0.031156      7.869766      7.747634   \n",
       "1                        0.033492      7.711245      7.579955   \n",
       "2                        0.035014      7.628528      7.491272   \n",
       "3                        0.059616      7.621347      7.387653   \n",
       "4                        0.034837      7.556281      7.419719   \n",
       "\n",
       "   Logged GDP per capita  Social support  Healthy life expectancy  \\\n",
       "0              10.639267        0.954330                71.900825   \n",
       "1              10.774001        0.955991                72.402504   \n",
       "2              10.979933        0.942847                74.102448   \n",
       "3              10.772559        0.974670                73.000000   \n",
       "4              11.087804        0.952487                73.200783   \n",
       "\n",
       "   Freedom to make life choices  Generosity  Perceptions of corruption  \\\n",
       "0                      0.949172   -0.059482                   0.195445   \n",
       "1                      0.951444    0.066202                   0.168489   \n",
       "2                      0.921337    0.105911                   0.303728   \n",
       "3                      0.948892    0.246944                   0.711710   \n",
       "4                      0.955750    0.134533                   0.263218   \n",
       "\n",
       "   Ladder score in Dystopia  Explained by: Log GDP per capita  \\\n",
       "0                  1.972317                          1.285190   \n",
       "1                  1.972317                          1.326949   \n",
       "2                  1.972317                          1.390774   \n",
       "3                  1.972317                          1.326502   \n",
       "4                  1.972317                          1.424207   \n",
       "\n",
       "   Explained by: Social support  Explained by: Healthy life expectancy  \\\n",
       "0                      1.499526                               0.961271   \n",
       "1                      1.503449                               0.979333   \n",
       "2                      1.472403                               1.040533   \n",
       "3                      1.547567                               1.000843   \n",
       "4                      1.495173                               1.008072   \n",
       "\n",
       "   Explained by: Freedom to make life choices  Explained by: Generosity  \\\n",
       "0                                    0.662317                  0.159670   \n",
       "1                                    0.665040                  0.242793   \n",
       "2                                    0.628954                  0.269056   \n",
       "3                                    0.661981                  0.362330   \n",
       "4                                    0.670201                  0.287985   \n",
       "\n",
       "   Explained by: Perceptions of corruption  Dystopia + residual  \n",
       "0                                 0.477857             2.762835  \n",
       "1                                 0.495260             2.432741  \n",
       "2                                 0.407946             2.350267  \n",
       "3                                 0.144541             2.460688  \n",
       "4                                 0.434101             2.168266  "
      ]
     },
     "execution_count": 41,
     "metadata": {},
     "output_type": "execute_result"
    }
   ],
   "source": [
    "happiness2020.sort_values('Ladder score', ascending= False).head()"
   ]
  },
  {
   "cell_type": "code",
   "execution_count": 42,
   "metadata": {
    "editable": true
   },
   "outputs": [
    {
     "data": {
      "text/html": [
       "<div>\n",
       "<style scoped>\n",
       "    .dataframe tbody tr th:only-of-type {\n",
       "        vertical-align: middle;\n",
       "    }\n",
       "\n",
       "    .dataframe tbody tr th {\n",
       "        vertical-align: top;\n",
       "    }\n",
       "\n",
       "    .dataframe thead th {\n",
       "        text-align: right;\n",
       "    }\n",
       "</style>\n",
       "<table border=\"1\" class=\"dataframe\">\n",
       "  <thead>\n",
       "    <tr style=\"text-align: right;\">\n",
       "      <th></th>\n",
       "      <th>Overall rank</th>\n",
       "      <th>Country name</th>\n",
       "      <th>Regional indicator</th>\n",
       "      <th>Ladder score</th>\n",
       "      <th>Standard error of ladder score</th>\n",
       "      <th>upperwhisker</th>\n",
       "      <th>lowerwhisker</th>\n",
       "      <th>Logged GDP per capita</th>\n",
       "      <th>Social support</th>\n",
       "      <th>Healthy life expectancy</th>\n",
       "      <th>...</th>\n",
       "      <th>Generosity</th>\n",
       "      <th>Perceptions of corruption</th>\n",
       "      <th>Ladder score in Dystopia</th>\n",
       "      <th>Explained by: Log GDP per capita</th>\n",
       "      <th>Explained by: Social support</th>\n",
       "      <th>Explained by: Healthy life expectancy</th>\n",
       "      <th>Explained by: Freedom to make life choices</th>\n",
       "      <th>Explained by: Generosity</th>\n",
       "      <th>Explained by: Perceptions of corruption</th>\n",
       "      <th>Dystopia + residual</th>\n",
       "    </tr>\n",
       "  </thead>\n",
       "  <tbody>\n",
       "    <tr>\n",
       "      <th>0</th>\n",
       "      <td>0</td>\n",
       "      <td>Finland</td>\n",
       "      <td>Western Europe</td>\n",
       "      <td>7.8087</td>\n",
       "      <td>0.031156</td>\n",
       "      <td>7.869766</td>\n",
       "      <td>7.747634</td>\n",
       "      <td>10.639267</td>\n",
       "      <td>0.954330</td>\n",
       "      <td>71.900825</td>\n",
       "      <td>...</td>\n",
       "      <td>-0.059482</td>\n",
       "      <td>0.195445</td>\n",
       "      <td>1.972317</td>\n",
       "      <td>1.285190</td>\n",
       "      <td>1.499526</td>\n",
       "      <td>0.961271</td>\n",
       "      <td>0.662317</td>\n",
       "      <td>0.159670</td>\n",
       "      <td>0.477857</td>\n",
       "      <td>2.762835</td>\n",
       "    </tr>\n",
       "    <tr>\n",
       "      <th>1</th>\n",
       "      <td>1</td>\n",
       "      <td>Denmark</td>\n",
       "      <td>Western Europe</td>\n",
       "      <td>7.6456</td>\n",
       "      <td>0.033492</td>\n",
       "      <td>7.711245</td>\n",
       "      <td>7.579955</td>\n",
       "      <td>10.774001</td>\n",
       "      <td>0.955991</td>\n",
       "      <td>72.402504</td>\n",
       "      <td>...</td>\n",
       "      <td>0.066202</td>\n",
       "      <td>0.168489</td>\n",
       "      <td>1.972317</td>\n",
       "      <td>1.326949</td>\n",
       "      <td>1.503449</td>\n",
       "      <td>0.979333</td>\n",
       "      <td>0.665040</td>\n",
       "      <td>0.242793</td>\n",
       "      <td>0.495260</td>\n",
       "      <td>2.432741</td>\n",
       "    </tr>\n",
       "    <tr>\n",
       "      <th>2</th>\n",
       "      <td>2</td>\n",
       "      <td>Switzerland</td>\n",
       "      <td>Western Europe</td>\n",
       "      <td>7.5599</td>\n",
       "      <td>0.035014</td>\n",
       "      <td>7.628528</td>\n",
       "      <td>7.491272</td>\n",
       "      <td>10.979933</td>\n",
       "      <td>0.942847</td>\n",
       "      <td>74.102448</td>\n",
       "      <td>...</td>\n",
       "      <td>0.105911</td>\n",
       "      <td>0.303728</td>\n",
       "      <td>1.972317</td>\n",
       "      <td>1.390774</td>\n",
       "      <td>1.472403</td>\n",
       "      <td>1.040533</td>\n",
       "      <td>0.628954</td>\n",
       "      <td>0.269056</td>\n",
       "      <td>0.407946</td>\n",
       "      <td>2.350267</td>\n",
       "    </tr>\n",
       "    <tr>\n",
       "      <th>3</th>\n",
       "      <td>3</td>\n",
       "      <td>Iceland</td>\n",
       "      <td>Western Europe</td>\n",
       "      <td>7.5045</td>\n",
       "      <td>0.059616</td>\n",
       "      <td>7.621347</td>\n",
       "      <td>7.387653</td>\n",
       "      <td>10.772559</td>\n",
       "      <td>0.974670</td>\n",
       "      <td>73.000000</td>\n",
       "      <td>...</td>\n",
       "      <td>0.246944</td>\n",
       "      <td>0.711710</td>\n",
       "      <td>1.972317</td>\n",
       "      <td>1.326502</td>\n",
       "      <td>1.547567</td>\n",
       "      <td>1.000843</td>\n",
       "      <td>0.661981</td>\n",
       "      <td>0.362330</td>\n",
       "      <td>0.144541</td>\n",
       "      <td>2.460688</td>\n",
       "    </tr>\n",
       "    <tr>\n",
       "      <th>4</th>\n",
       "      <td>4</td>\n",
       "      <td>Norway</td>\n",
       "      <td>Western Europe</td>\n",
       "      <td>7.4880</td>\n",
       "      <td>0.034837</td>\n",
       "      <td>7.556281</td>\n",
       "      <td>7.419719</td>\n",
       "      <td>11.087804</td>\n",
       "      <td>0.952487</td>\n",
       "      <td>73.200783</td>\n",
       "      <td>...</td>\n",
       "      <td>0.134533</td>\n",
       "      <td>0.263218</td>\n",
       "      <td>1.972317</td>\n",
       "      <td>1.424207</td>\n",
       "      <td>1.495173</td>\n",
       "      <td>1.008072</td>\n",
       "      <td>0.670201</td>\n",
       "      <td>0.287985</td>\n",
       "      <td>0.434101</td>\n",
       "      <td>2.168266</td>\n",
       "    </tr>\n",
       "  </tbody>\n",
       "</table>\n",
       "<p>5 rows × 21 columns</p>\n",
       "</div>"
      ],
      "text/plain": [
       "   Overall rank Country name Regional indicator  Ladder score  \\\n",
       "0             0      Finland     Western Europe        7.8087   \n",
       "1             1      Denmark     Western Europe        7.6456   \n",
       "2             2  Switzerland     Western Europe        7.5599   \n",
       "3             3      Iceland     Western Europe        7.5045   \n",
       "4             4       Norway     Western Europe        7.4880   \n",
       "\n",
       "   Standard error of ladder score  upperwhisker  lowerwhisker  \\\n",
       "0                        0.031156      7.869766      7.747634   \n",
       "1                        0.033492      7.711245      7.579955   \n",
       "2                        0.035014      7.628528      7.491272   \n",
       "3                        0.059616      7.621347      7.387653   \n",
       "4                        0.034837      7.556281      7.419719   \n",
       "\n",
       "   Logged GDP per capita  Social support  Healthy life expectancy  \\\n",
       "0              10.639267        0.954330                71.900825   \n",
       "1              10.774001        0.955991                72.402504   \n",
       "2              10.979933        0.942847                74.102448   \n",
       "3              10.772559        0.974670                73.000000   \n",
       "4              11.087804        0.952487                73.200783   \n",
       "\n",
       "          ...           Generosity  Perceptions of corruption  \\\n",
       "0         ...            -0.059482                   0.195445   \n",
       "1         ...             0.066202                   0.168489   \n",
       "2         ...             0.105911                   0.303728   \n",
       "3         ...             0.246944                   0.711710   \n",
       "4         ...             0.134533                   0.263218   \n",
       "\n",
       "   Ladder score in Dystopia  Explained by: Log GDP per capita  \\\n",
       "0                  1.972317                          1.285190   \n",
       "1                  1.972317                          1.326949   \n",
       "2                  1.972317                          1.390774   \n",
       "3                  1.972317                          1.326502   \n",
       "4                  1.972317                          1.424207   \n",
       "\n",
       "   Explained by: Social support  Explained by: Healthy life expectancy  \\\n",
       "0                      1.499526                               0.961271   \n",
       "1                      1.503449                               0.979333   \n",
       "2                      1.472403                               1.040533   \n",
       "3                      1.547567                               1.000843   \n",
       "4                      1.495173                               1.008072   \n",
       "\n",
       "   Explained by: Freedom to make life choices  Explained by: Generosity  \\\n",
       "0                                    0.662317                  0.159670   \n",
       "1                                    0.665040                  0.242793   \n",
       "2                                    0.628954                  0.269056   \n",
       "3                                    0.661981                  0.362330   \n",
       "4                                    0.670201                  0.287985   \n",
       "\n",
       "   Explained by: Perceptions of corruption  Dystopia + residual  \n",
       "0                                 0.477857             2.762835  \n",
       "1                                 0.495260             2.432741  \n",
       "2                                 0.407946             2.350267  \n",
       "3                                 0.144541             2.460688  \n",
       "4                                 0.434101             2.168266  \n",
       "\n",
       "[5 rows x 21 columns]"
      ]
     },
     "execution_count": 42,
     "metadata": {},
     "output_type": "execute_result"
    }
   ],
   "source": [
    "happiness2020 = happiness2020.sort_values('Ladder score', ascending= False)\n",
    "happiness2020 = happiness2020.reset_index()\n",
    "happiness2020 = happiness2020.rename(columns={\"index\":\"Overall rank\"})\n",
    "happiness2020.head()"
   ]
  },
  {
   "cell_type": "code",
   "execution_count": 43,
   "metadata": {
    "editable": true
   },
   "outputs": [
    {
     "data": {
      "text/plain": [
       "count    153.000000\n",
       "mean       0.189375\n",
       "std        0.100401\n",
       "min        0.000000\n",
       "25%        0.115006\n",
       "50%        0.176745\n",
       "75%        0.255510\n",
       "max        0.569814\n",
       "Name: Explained by: Generosity, dtype: float64"
      ]
     },
     "execution_count": 43,
     "metadata": {},
     "output_type": "execute_result"
    }
   ],
   "source": [
    "happiness2020['Explained by: Generosity'].describe()"
   ]
  },
  {
   "cell_type": "code",
   "execution_count": 44,
   "metadata": {
    "editable": true
   },
   "outputs": [
    {
     "data": {
      "text/plain": [
       "count    156.000000\n",
       "mean       0.184846\n",
       "std        0.095254\n",
       "min        0.000000\n",
       "25%        0.108750\n",
       "50%        0.177500\n",
       "75%        0.248250\n",
       "max        0.566000\n",
       "Name: Generosity, dtype: float64"
      ]
     },
     "execution_count": 44,
     "metadata": {},
     "output_type": "execute_result"
    }
   ],
   "source": [
    "happiness2019= pd.read_csv('WorldHappinessReport/2019.csv')\n",
    "happiness2019['Generosity'].describe()"
   ]
  },
  {
   "cell_type": "code",
   "execution_count": 45,
   "metadata": {
    "editable": true
   },
   "outputs": [
    {
     "data": {
      "text/plain": [
       "count    156.000000\n",
       "mean       0.597346\n",
       "std        0.247579\n",
       "min        0.000000\n",
       "25%        0.422250\n",
       "50%        0.644000\n",
       "75%        0.777250\n",
       "max        1.030000\n",
       "Name: Healthy life expectancy, dtype: float64"
      ]
     },
     "execution_count": 45,
     "metadata": {},
     "output_type": "execute_result"
    }
   ],
   "source": [
    "happiness2018= pd.read_csv('WorldHappinessReport/2018.csv')\n",
    "happiness2018['Healthy life expectancy'].describe()"
   ]
  },
  {
   "cell_type": "code",
   "execution_count": 46,
   "metadata": {
    "editable": true
   },
   "outputs": [
    {
     "name": "stdout",
     "output_type": "stream",
     "text": [
      "<class 'pandas.core.frame.DataFrame'>\n",
      "RangeIndex: 153 entries, 0 to 152\n",
      "Data columns (total 21 columns):\n",
      "Overall rank                                  153 non-null int64\n",
      "Country name                                  153 non-null object\n",
      "Regional indicator                            153 non-null object\n",
      "Ladder score                                  153 non-null float64\n",
      "Standard error of ladder score                153 non-null float64\n",
      "upperwhisker                                  153 non-null float64\n",
      "lowerwhisker                                  153 non-null float64\n",
      "Logged GDP per capita                         153 non-null float64\n",
      "Social support                                153 non-null float64\n",
      "Healthy life expectancy                       153 non-null float64\n",
      "Freedom to make life choices                  153 non-null float64\n",
      "Generosity                                    153 non-null float64\n",
      "Perceptions of corruption                     153 non-null float64\n",
      "Ladder score in Dystopia                      153 non-null float64\n",
      "Explained by: Log GDP per capita              153 non-null float64\n",
      "Explained by: Social support                  153 non-null float64\n",
      "Explained by: Healthy life expectancy         153 non-null float64\n",
      "Explained by: Freedom to make life choices    153 non-null float64\n",
      "Explained by: Generosity                      153 non-null float64\n",
      "Explained by: Perceptions of corruption       153 non-null float64\n",
      "Dystopia + residual                           153 non-null float64\n",
      "dtypes: float64(18), int64(1), object(2)\n",
      "memory usage: 25.2+ KB\n"
     ]
    }
   ],
   "source": [
    "happiness2020.info()"
   ]
  },
  {
   "cell_type": "markdown",
   "metadata": {
    "editable": true
   },
   "source": [
    "- Sensible data types.\n",
    "- There are 153 entries. Check whether there are any doubles by counting the number of uniques."
   ]
  },
  {
   "cell_type": "code",
   "execution_count": 47,
   "metadata": {
    "editable": true
   },
   "outputs": [
    {
     "data": {
      "text/plain": [
       "153"
      ]
     },
     "execution_count": 47,
     "metadata": {},
     "output_type": "execute_result"
    }
   ],
   "source": [
    "happiness2020['Country name'].unique().shape[0]"
   ]
  },
  {
   "cell_type": "code",
   "execution_count": 48,
   "metadata": {
    "editable": true
   },
   "outputs": [
    {
     "data": {
      "text/plain": [
       "array(['Finland', 'Denmark', 'Switzerland', 'Iceland', 'Norway',\n",
       "       'Netherlands', 'Sweden', 'New Zealand', 'Austria', 'Luxembourg',\n",
       "       'Canada', 'Australia', 'United Kingdom', 'Israel', 'Costa Rica',\n",
       "       'Ireland', 'Germany', 'United States', 'Czech Republic', 'Belgium',\n",
       "       'United Arab Emirates', 'Malta', 'France', 'Mexico',\n",
       "       'Taiwan Province of China', 'Uruguay', 'Saudi Arabia', 'Spain',\n",
       "       'Guatemala', 'Italy', 'Singapore', 'Brazil', 'Slovenia',\n",
       "       'El Salvador', 'Kosovo', 'Panama', 'Slovakia', 'Uzbekistan',\n",
       "       'Chile', 'Bahrain', 'Lithuania', 'Trinidad and Tobago', 'Poland',\n",
       "       'Colombia', 'Cyprus', 'Nicaragua', 'Romania', 'Kuwait', 'Mauritius',\n",
       "       'Kazakhstan', 'Estonia', 'Philippines', 'Hungary', 'Thailand',\n",
       "       'Argentina', 'Honduras', 'Latvia', 'Ecuador', 'Portugal', 'Jamaica',\n",
       "       'South Korea', 'Japan', 'Peru', 'Serbia', 'Bolivia', 'Pakistan',\n",
       "       'Paraguay', 'Dominican Republic', 'Bosnia and Herzegovina',\n",
       "       'Moldova', 'Tajikistan', 'Montenegro', 'Russia', 'Kyrgyzstan',\n",
       "       'Belarus', 'North Cyprus', 'Greece', 'Hong Kong S.A.R. of China',\n",
       "       'Croatia', 'Libya', 'Mongolia', 'Malaysia', 'Vietnam', 'Indonesia',\n",
       "       'Ivory Coast', 'Benin', 'Maldives', 'Congo (Brazzaville)',\n",
       "       'Azerbaijan', 'Macedonia', 'Ghana', 'Nepal', 'Turkey', 'China',\n",
       "       'Turkmenistan', 'Bulgaria', 'Morocco', 'Cameroon', 'Venezuela',\n",
       "       'Algeria', 'Senegal', 'Guinea', 'Niger', 'Laos', 'Albania',\n",
       "       'Cambodia', 'Bangladesh', 'Gabon', 'South Africa', 'Iraq',\n",
       "       'Lebanon', 'Burkina Faso', 'Gambia', 'Mali', 'Nigeria', 'Armenia',\n",
       "       'Georgia', 'Iran', 'Jordan', 'Mozambique', 'Kenya', 'Namibia',\n",
       "       'Ukraine', 'Liberia', 'Palestinian Territories', 'Uganda', 'Chad',\n",
       "       'Tunisia', 'Mauritania', 'Sri Lanka', 'Congo (Kinshasa)',\n",
       "       'Swaziland', 'Myanmar', 'Comoros', 'Togo', 'Ethiopia', 'Madagascar',\n",
       "       'Egypt', 'Sierra Leone', 'Burundi', 'Zambia', 'Haiti', 'Lesotho',\n",
       "       'India', 'Malawi', 'Yemen', 'Botswana', 'Tanzania',\n",
       "       'Central African Republic', 'Rwanda', 'Zimbabwe', 'South Sudan',\n",
       "       'Afghanistan'], dtype=object)"
      ]
     },
     "execution_count": 48,
     "metadata": {},
     "output_type": "execute_result"
    }
   ],
   "source": [
    "happiness2020['Country name'].unique()"
   ]
  },
  {
   "cell_type": "code",
   "execution_count": 49,
   "metadata": {
    "editable": true
   },
   "outputs": [],
   "source": [
    "happiness2019= pd.read_csv('WorldHappinessReport/2019.csv')"
   ]
  },
  {
   "cell_type": "code",
   "execution_count": 50,
   "metadata": {
    "editable": true
   },
   "outputs": [
    {
     "data": {
      "text/plain": [
       "array(['Finland', 'Denmark', 'Norway', 'Iceland', 'Netherlands',\n",
       "       'Switzerland', 'Sweden', 'New Zealand', 'Canada', 'Austria',\n",
       "       'Australia', 'Costa Rica', 'Israel', 'Luxembourg', 'United Kingdom',\n",
       "       'Ireland', 'Germany', 'Belgium', 'United States', 'Czech Republic',\n",
       "       'United Arab Emirates', 'Malta', 'Mexico', 'France', 'Taiwan',\n",
       "       'Chile', 'Guatemala', 'Saudi Arabia', 'Qatar', 'Spain', 'Panama',\n",
       "       'Brazil', 'Uruguay', 'Singapore', 'El Salvador', 'Italy', 'Bahrain',\n",
       "       'Slovakia', 'Trinidad & Tobago', 'Poland', 'Uzbekistan',\n",
       "       'Lithuania', 'Colombia', 'Slovenia', 'Nicaragua', 'Kosovo',\n",
       "       'Argentina', 'Romania', 'Cyprus', 'Ecuador', 'Kuwait', 'Thailand',\n",
       "       'Latvia', 'South Korea', 'Estonia', 'Jamaica', 'Mauritius', 'Japan',\n",
       "       'Honduras', 'Kazakhstan', 'Bolivia', 'Hungary', 'Paraguay',\n",
       "       'Northern Cyprus', 'Peru', 'Portugal', 'Pakistan', 'Russia',\n",
       "       'Philippines', 'Serbia', 'Moldova', 'Libya', 'Montenegro',\n",
       "       'Tajikistan', 'Croatia', 'Hong Kong', 'Dominican Republic',\n",
       "       'Bosnia and Herzegovina', 'Turkey', 'Malaysia', 'Belarus', 'Greece',\n",
       "       'Mongolia', 'North Macedonia', 'Nigeria', 'Kyrgyzstan',\n",
       "       'Turkmenistan', 'Algeria', 'Morocco', 'Azerbaijan', 'Lebanon',\n",
       "       'Indonesia', 'China', 'Vietnam', 'Bhutan', 'Cameroon', 'Bulgaria',\n",
       "       'Ghana', 'Ivory Coast', 'Nepal', 'Jordan', 'Benin',\n",
       "       'Congo (Brazzaville)', 'Gabon', 'Laos', 'South Africa', 'Albania',\n",
       "       'Venezuela', 'Cambodia', 'Palestinian Territories', 'Senegal',\n",
       "       'Somalia', 'Namibia', 'Niger', 'Burkina Faso', 'Armenia', 'Iran',\n",
       "       'Guinea', 'Georgia', 'Gambia', 'Kenya', 'Mauritania', 'Mozambique',\n",
       "       'Tunisia', 'Bangladesh', 'Iraq', 'Congo (Kinshasa)', 'Mali',\n",
       "       'Sierra Leone', 'Sri Lanka', 'Myanmar', 'Chad', 'Ukraine',\n",
       "       'Ethiopia', 'Swaziland', 'Uganda', 'Egypt', 'Zambia', 'Togo',\n",
       "       'India', 'Liberia', 'Comoros', 'Madagascar', 'Lesotho', 'Burundi',\n",
       "       'Zimbabwe', 'Haiti', 'Botswana', 'Syria', 'Malawi', 'Yemen',\n",
       "       'Rwanda', 'Tanzania', 'Afghanistan', 'Central African Republic',\n",
       "       'South Sudan'], dtype=object)"
      ]
     },
     "execution_count": 50,
     "metadata": {},
     "output_type": "execute_result"
    }
   ],
   "source": [
    "happiness2019['Country or region'].unique()"
   ]
  },
  {
   "cell_type": "markdown",
   "metadata": {
    "editable": true
   },
   "source": [
    "##### Creating list of filepaths to process original happiness report csv data files"
   ]
  },
  {
   "cell_type": "code",
   "execution_count": 51,
   "metadata": {
    "editable": true
   },
   "outputs": [
    {
     "name": "stdout",
     "output_type": "stream",
     "text": [
      "/home/workspace\n",
      "['/home/workspace/WorldHappinessReport/2020.csv', '/home/workspace/WorldHappinessReport/2018.csv', '/home/workspace/WorldHappinessReport/2019.csv']\n"
     ]
    }
   ],
   "source": [
    "# checking current working directory\n",
    "print(os.getcwd())\n",
    "\n",
    "# Get current folder and subfolder event data\n",
    "happiness_filepath = os.getcwd() + '/WorldHappinessReport/'\n",
    "\n",
    "# Create a for loop to create a list of files and collect each filepath\n",
    "for root, dirs, files in os.walk(happiness_filepath):\n",
    "    \n",
    "# join the file path and roots with the subdirectories using glob\n",
    "    file_path_list = glob.glob(os.path.join(root,'*'))\n",
    "    print(file_path_list)\n",
    "    break"
   ]
  },
  {
   "cell_type": "markdown",
   "metadata": {
    "editable": true
   },
   "source": [
    "##### Processing the files to create a happiness file that will be used from there"
   ]
  },
  {
   "cell_type": "code",
   "execution_count": 52,
   "metadata": {
    "editable": true
   },
   "outputs": [
    {
     "name": "stdout",
     "output_type": "stream",
     "text": [
      "year=  2020\n",
      "number of rows  153\n",
      "Index(['Country', 'Regional indicator', 'Happiness_Score',\n",
      "       'Standard error of ladder score', 'upperwhisker', 'lowerwhisker',\n",
      "       'Logged GDP per capita', 'Social support', 'Healthy life expectancy',\n",
      "       'Freedom to make life choices', 'Generosity',\n",
      "       'Perceptions of corruption', 'Ladder score in Dystopia', 'GDP_Score',\n",
      "       'Explained by: Social support', 'Health_Score', 'Freedom_Score',\n",
      "       'Generosity_Score', 'Corruption_Score', 'Dystopia + residual', 'Year'],\n",
      "      dtype='object')\n",
      "Index(['Country', 'Happiness_Score', 'GDP_Score', 'Health_Score',\n",
      "       'Freedom_Score', 'Generosity_Score', 'Corruption_Score', 'Year'],\n",
      "      dtype='object')\n",
      "year=  2018\n",
      "number of rows  156\n",
      "Index(['Overall rank', 'Country', 'Happiness_Score', 'GDP_Score',\n",
      "       'Social support', 'Health_Score', 'Freedom_Score', 'Generosity_Score',\n",
      "       'Corruption_Score', 'Year'],\n",
      "      dtype='object')\n",
      "Index(['Country', 'Happiness_Score', 'GDP_Score', 'Health_Score',\n",
      "       'Freedom_Score', 'Generosity_Score', 'Corruption_Score', 'Year'],\n",
      "      dtype='object')\n",
      "year=  2019\n",
      "number of rows  156\n",
      "Index(['Overall rank', 'Country', 'Happiness_Score', 'GDP_Score',\n",
      "       'Social support', 'Health_Score', 'Freedom_Score', 'Generosity_Score',\n",
      "       'Corruption_Score', 'Year'],\n",
      "      dtype='object')\n",
      "Index(['Country', 'Happiness_Score', 'GDP_Score', 'Health_Score',\n",
      "       'Freedom_Score', 'Generosity_Score', 'Corruption_Score', 'Year'],\n",
      "      dtype='object')\n"
     ]
    }
   ],
   "source": [
    "# Create empty dataframe for all the data\n",
    "df_happiness= pd.DataFrame()\n",
    "# List of columns that for the output dataframe\n",
    "cols= ['Country', 'Happiness_Score', 'GDP_Score', 'Health_Score', 'Freedom_Score', \\\n",
    "       'Generosity_Score', 'Corruption_Score', 'Year']\n",
    "\n",
    "for f in file_path_list:\n",
    "    year= f[-8:-4]\n",
    "    print('year= ', year)\n",
    "    df_happiness_year= pd.read_csv(f)\n",
    "    df_happiness_year['Year']= year\n",
    "    print('number of rows ', df_happiness_year.shape[0])\n",
    "    #print(df_happiness_year.columns)\n",
    "    if year== '2020':\n",
    "        df_happiness_year.rename(columns= {'Country name': 'Country', 'Ladder score': 'Happiness_Score', \\\n",
    "                                           'Explained by: Log GDP per capita': 'GDP_Score', \\\n",
    "                                           'Explained by: Healthy life expectancy': 'Health_Score', \\\n",
    "                                           'Explained by: Freedom to make life choices': 'Freedom_Score', \\\n",
    "                                           'Explained by: Generosity': 'Generosity_Score', \\\n",
    "                                           'Explained by: Perceptions of corruption': 'Corruption_Score'}, inplace= True)\n",
    "    elif year== '2019' or year== '2018':\n",
    "        df_happiness_year.rename(columns= {'Country or region': 'Country', 'Score': 'Happiness_Score', \\\n",
    "                                           'GDP per capita': 'GDP_Score', \\\n",
    "                                           'Healthy life expectancy': 'Health_Score', \\\n",
    "                                           'Freedom to make life choices': 'Freedom_Score', \\\n",
    "                                           'Generosity': 'Generosity_Score', \\\n",
    "                                           'Perceptions of corruption': 'Corruption_Score'}, inplace= True)\n",
    "    #print('countries that are duplicated= ', df_happiness_year['Country'].duplicated().sum())\n",
    "    print(df_happiness_year.columns)\n",
    "    df_hapiness_year= df_happiness_year[cols]\n",
    "    print(df_happiness_year[cols].columns)\n",
    "    df_happiness= df_happiness.append(df_happiness_year.loc[:, cols])"
   ]
  },
  {
   "cell_type": "code",
   "execution_count": 53,
   "metadata": {
    "editable": true
   },
   "outputs": [
    {
     "data": {
      "text/html": [
       "<div>\n",
       "<style scoped>\n",
       "    .dataframe tbody tr th:only-of-type {\n",
       "        vertical-align: middle;\n",
       "    }\n",
       "\n",
       "    .dataframe tbody tr th {\n",
       "        vertical-align: top;\n",
       "    }\n",
       "\n",
       "    .dataframe thead th {\n",
       "        text-align: right;\n",
       "    }\n",
       "</style>\n",
       "<table border=\"1\" class=\"dataframe\">\n",
       "  <thead>\n",
       "    <tr style=\"text-align: right;\">\n",
       "      <th></th>\n",
       "      <th>Happiness_Score</th>\n",
       "      <th>GDP_Score</th>\n",
       "      <th>Health_Score</th>\n",
       "      <th>Freedom_Score</th>\n",
       "      <th>Generosity_Score</th>\n",
       "      <th>Corruption_Score</th>\n",
       "    </tr>\n",
       "  </thead>\n",
       "  <tbody>\n",
       "    <tr>\n",
       "      <th>count</th>\n",
       "      <td>465.000000</td>\n",
       "      <td>465.000000</td>\n",
       "      <td>465.000000</td>\n",
       "      <td>465.000000</td>\n",
       "      <td>465.000000</td>\n",
       "      <td>464.000000</td>\n",
       "    </tr>\n",
       "    <tr>\n",
       "      <th>mean</th>\n",
       "      <td>5.418399</td>\n",
       "      <td>0.888583</td>\n",
       "      <td>0.671684</td>\n",
       "      <td>0.436714</td>\n",
       "      <td>0.185048</td>\n",
       "      <td>0.117702</td>\n",
       "    </tr>\n",
       "    <tr>\n",
       "      <th>std</th>\n",
       "      <td>1.113319</td>\n",
       "      <td>0.387283</td>\n",
       "      <td>0.253337</td>\n",
       "      <td>0.152315</td>\n",
       "      <td>0.097898</td>\n",
       "      <td>0.101842</td>\n",
       "    </tr>\n",
       "    <tr>\n",
       "      <th>min</th>\n",
       "      <td>2.566900</td>\n",
       "      <td>0.000000</td>\n",
       "      <td>0.000000</td>\n",
       "      <td>0.000000</td>\n",
       "      <td>0.000000</td>\n",
       "      <td>0.000000</td>\n",
       "    </tr>\n",
       "    <tr>\n",
       "      <th>25%</th>\n",
       "      <td>4.571100</td>\n",
       "      <td>0.592000</td>\n",
       "      <td>0.494102</td>\n",
       "      <td>0.349000</td>\n",
       "      <td>0.111000</td>\n",
       "      <td>0.051190</td>\n",
       "    </tr>\n",
       "    <tr>\n",
       "      <th>50%</th>\n",
       "      <td>5.430000</td>\n",
       "      <td>0.947000</td>\n",
       "      <td>0.718000</td>\n",
       "      <td>0.455000</td>\n",
       "      <td>0.176000</td>\n",
       "      <td>0.087676</td>\n",
       "    </tr>\n",
       "    <tr>\n",
       "      <th>75%</th>\n",
       "      <td>6.192000</td>\n",
       "      <td>1.201000</td>\n",
       "      <td>0.861000</td>\n",
       "      <td>0.555000</td>\n",
       "      <td>0.252000</td>\n",
       "      <td>0.144906</td>\n",
       "    </tr>\n",
       "    <tr>\n",
       "      <th>max</th>\n",
       "      <td>7.808700</td>\n",
       "      <td>2.096000</td>\n",
       "      <td>1.141000</td>\n",
       "      <td>0.724000</td>\n",
       "      <td>0.598000</td>\n",
       "      <td>0.533162</td>\n",
       "    </tr>\n",
       "  </tbody>\n",
       "</table>\n",
       "</div>"
      ],
      "text/plain": [
       "       Happiness_Score   GDP_Score  Health_Score  Freedom_Score  \\\n",
       "count       465.000000  465.000000    465.000000     465.000000   \n",
       "mean          5.418399    0.888583      0.671684       0.436714   \n",
       "std           1.113319    0.387283      0.253337       0.152315   \n",
       "min           2.566900    0.000000      0.000000       0.000000   \n",
       "25%           4.571100    0.592000      0.494102       0.349000   \n",
       "50%           5.430000    0.947000      0.718000       0.455000   \n",
       "75%           6.192000    1.201000      0.861000       0.555000   \n",
       "max           7.808700    2.096000      1.141000       0.724000   \n",
       "\n",
       "       Generosity_Score  Corruption_Score  \n",
       "count        465.000000        464.000000  \n",
       "mean           0.185048          0.117702  \n",
       "std            0.097898          0.101842  \n",
       "min            0.000000          0.000000  \n",
       "25%            0.111000          0.051190  \n",
       "50%            0.176000          0.087676  \n",
       "75%            0.252000          0.144906  \n",
       "max            0.598000          0.533162  "
      ]
     },
     "execution_count": 53,
     "metadata": {},
     "output_type": "execute_result"
    }
   ],
   "source": [
    "df_happiness.describe()"
   ]
  },
  {
   "cell_type": "code",
   "execution_count": 54,
   "metadata": {
    "editable": true
   },
   "outputs": [
    {
     "data": {
      "text/html": [
       "<div>\n",
       "<style scoped>\n",
       "    .dataframe tbody tr th:only-of-type {\n",
       "        vertical-align: middle;\n",
       "    }\n",
       "\n",
       "    .dataframe tbody tr th {\n",
       "        vertical-align: top;\n",
       "    }\n",
       "\n",
       "    .dataframe thead th {\n",
       "        text-align: right;\n",
       "    }\n",
       "</style>\n",
       "<table border=\"1\" class=\"dataframe\">\n",
       "  <thead>\n",
       "    <tr style=\"text-align: right;\">\n",
       "      <th></th>\n",
       "      <th>Country</th>\n",
       "      <th>Happiness_Score</th>\n",
       "      <th>GDP_Score</th>\n",
       "      <th>Health_Score</th>\n",
       "      <th>Freedom_Score</th>\n",
       "      <th>Generosity_Score</th>\n",
       "      <th>Corruption_Score</th>\n",
       "      <th>Year</th>\n",
       "    </tr>\n",
       "  </thead>\n",
       "  <tbody>\n",
       "    <tr>\n",
       "      <th>16</th>\n",
       "      <td>Luxembourg</td>\n",
       "      <td>6.9100</td>\n",
       "      <td>1.576000</td>\n",
       "      <td>0.896000</td>\n",
       "      <td>0.632000</td>\n",
       "      <td>0.196000</td>\n",
       "      <td>0.321000</td>\n",
       "      <td>2018</td>\n",
       "    </tr>\n",
       "    <tr>\n",
       "      <th>103</th>\n",
       "      <td>Gabon</td>\n",
       "      <td>4.7990</td>\n",
       "      <td>1.057000</td>\n",
       "      <td>0.571000</td>\n",
       "      <td>0.295000</td>\n",
       "      <td>0.043000</td>\n",
       "      <td>0.055000</td>\n",
       "      <td>2019</td>\n",
       "    </tr>\n",
       "    <tr>\n",
       "      <th>92</th>\n",
       "      <td>China</td>\n",
       "      <td>5.1910</td>\n",
       "      <td>1.029000</td>\n",
       "      <td>0.893000</td>\n",
       "      <td>0.521000</td>\n",
       "      <td>0.058000</td>\n",
       "      <td>0.100000</td>\n",
       "      <td>2019</td>\n",
       "    </tr>\n",
       "    <tr>\n",
       "      <th>32</th>\n",
       "      <td>Slovenia</td>\n",
       "      <td>6.3634</td>\n",
       "      <td>1.208652</td>\n",
       "      <td>0.932548</td>\n",
       "      <td>0.646700</td>\n",
       "      <td>0.145701</td>\n",
       "      <td>0.076516</td>\n",
       "      <td>2020</td>\n",
       "    </tr>\n",
       "    <tr>\n",
       "      <th>60</th>\n",
       "      <td>South Korea</td>\n",
       "      <td>5.8724</td>\n",
       "      <td>1.245301</td>\n",
       "      <td>1.022543</td>\n",
       "      <td>0.259356</td>\n",
       "      <td>0.170304</td>\n",
       "      <td>0.094596</td>\n",
       "      <td>2020</td>\n",
       "    </tr>\n",
       "    <tr>\n",
       "      <th>53</th>\n",
       "      <td>Japan</td>\n",
       "      <td>5.9150</td>\n",
       "      <td>1.294000</td>\n",
       "      <td>0.988000</td>\n",
       "      <td>0.553000</td>\n",
       "      <td>0.079000</td>\n",
       "      <td>0.150000</td>\n",
       "      <td>2018</td>\n",
       "    </tr>\n",
       "    <tr>\n",
       "      <th>66</th>\n",
       "      <td>Pakistan</td>\n",
       "      <td>5.6530</td>\n",
       "      <td>0.677000</td>\n",
       "      <td>0.535000</td>\n",
       "      <td>0.313000</td>\n",
       "      <td>0.220000</td>\n",
       "      <td>0.098000</td>\n",
       "      <td>2019</td>\n",
       "    </tr>\n",
       "    <tr>\n",
       "      <th>109</th>\n",
       "      <td>Laos</td>\n",
       "      <td>4.6230</td>\n",
       "      <td>0.720000</td>\n",
       "      <td>0.441000</td>\n",
       "      <td>0.626000</td>\n",
       "      <td>0.230000</td>\n",
       "      <td>0.174000</td>\n",
       "      <td>2018</td>\n",
       "    </tr>\n",
       "    <tr>\n",
       "      <th>67</th>\n",
       "      <td>Turkmenistan</td>\n",
       "      <td>5.6360</td>\n",
       "      <td>1.016000</td>\n",
       "      <td>0.517000</td>\n",
       "      <td>0.417000</td>\n",
       "      <td>0.199000</td>\n",
       "      <td>0.037000</td>\n",
       "      <td>2018</td>\n",
       "    </tr>\n",
       "    <tr>\n",
       "      <th>13</th>\n",
       "      <td>Ireland</td>\n",
       "      <td>6.9770</td>\n",
       "      <td>1.448000</td>\n",
       "      <td>0.876000</td>\n",
       "      <td>0.614000</td>\n",
       "      <td>0.307000</td>\n",
       "      <td>0.306000</td>\n",
       "      <td>2018</td>\n",
       "    </tr>\n",
       "  </tbody>\n",
       "</table>\n",
       "</div>"
      ],
      "text/plain": [
       "          Country  Happiness_Score  GDP_Score  Health_Score  Freedom_Score  \\\n",
       "16     Luxembourg           6.9100   1.576000      0.896000       0.632000   \n",
       "103         Gabon           4.7990   1.057000      0.571000       0.295000   \n",
       "92          China           5.1910   1.029000      0.893000       0.521000   \n",
       "32       Slovenia           6.3634   1.208652      0.932548       0.646700   \n",
       "60    South Korea           5.8724   1.245301      1.022543       0.259356   \n",
       "53          Japan           5.9150   1.294000      0.988000       0.553000   \n",
       "66       Pakistan           5.6530   0.677000      0.535000       0.313000   \n",
       "109          Laos           4.6230   0.720000      0.441000       0.626000   \n",
       "67   Turkmenistan           5.6360   1.016000      0.517000       0.417000   \n",
       "13        Ireland           6.9770   1.448000      0.876000       0.614000   \n",
       "\n",
       "     Generosity_Score  Corruption_Score  Year  \n",
       "16           0.196000          0.321000  2018  \n",
       "103          0.043000          0.055000  2019  \n",
       "92           0.058000          0.100000  2019  \n",
       "32           0.145701          0.076516  2020  \n",
       "60           0.170304          0.094596  2020  \n",
       "53           0.079000          0.150000  2018  \n",
       "66           0.220000          0.098000  2019  \n",
       "109          0.230000          0.174000  2018  \n",
       "67           0.199000          0.037000  2018  \n",
       "13           0.307000          0.306000  2018  "
      ]
     },
     "execution_count": 54,
     "metadata": {},
     "output_type": "execute_result"
    }
   ],
   "source": [
    "df_happiness.sample(10)"
   ]
  },
  {
   "cell_type": "code",
   "execution_count": 55,
   "metadata": {
    "editable": true
   },
   "outputs": [
    {
     "data": {
      "text/plain": [
       "Country             0\n",
       "Happiness_Score     0\n",
       "GDP_Score           0\n",
       "Health_Score        0\n",
       "Freedom_Score       0\n",
       "Generosity_Score    0\n",
       "Corruption_Score    1\n",
       "Year                0\n",
       "dtype: int64"
      ]
     },
     "execution_count": 55,
     "metadata": {},
     "output_type": "execute_result"
    }
   ],
   "source": [
    "# Check for NA\n",
    "df_happiness.isna().sum()"
   ]
  },
  {
   "cell_type": "markdown",
   "metadata": {
    "editable": true
   },
   "source": [
    "There are no NA's."
   ]
  },
  {
   "cell_type": "code",
   "execution_count": 56,
   "metadata": {
    "editable": true
   },
   "outputs": [
    {
     "data": {
      "text/plain": [
       "array(['Afghanistan', 'Albania', 'Algeria', 'Angola', 'Argentina',\n",
       "       'Armenia', 'Australia', 'Austria', 'Azerbaijan', 'Bahrain',\n",
       "       'Bangladesh', 'Belarus', 'Belgium', 'Belize', 'Benin', 'Bhutan',\n",
       "       'Bolivia', 'Bosnia and Herzegovina', 'Botswana', 'Brazil',\n",
       "       'Bulgaria', 'Burkina Faso', 'Burundi', 'Cambodia', 'Cameroon',\n",
       "       'Canada', 'Central African Republic', 'Chad', 'Chile', 'China',\n",
       "       'Colombia', 'Comoros', 'Congo (Brazzaville)', 'Congo (Kinshasa)',\n",
       "       'Costa Rica', 'Croatia', 'Cyprus', 'Czech Republic', 'Denmark',\n",
       "       'Dominican Republic', 'Ecuador', 'Egypt', 'El Salvador', 'Estonia',\n",
       "       'Ethiopia', 'Finland', 'France', 'Gabon', 'Gambia', 'Georgia',\n",
       "       'Germany', 'Ghana', 'Greece', 'Guatemala', 'Guinea', 'Haiti',\n",
       "       'Honduras', 'Hong Kong', 'Hong Kong S.A.R. of China', 'Hungary',\n",
       "       'Iceland', 'India', 'Indonesia', 'Iran', 'Iraq', 'Ireland',\n",
       "       'Israel', 'Italy', 'Ivory Coast', 'Jamaica', 'Japan', 'Jordan',\n",
       "       'Kazakhstan', 'Kenya', 'Kosovo', 'Kuwait', 'Kyrgyzstan', 'Laos',\n",
       "       'Latvia', 'Lebanon', 'Lesotho', 'Liberia', 'Libya', 'Lithuania',\n",
       "       'Luxembourg', 'Macedonia', 'Madagascar', 'Malawi', 'Malaysia',\n",
       "       'Maldives', 'Mali', 'Malta', 'Mauritania', 'Mauritius', 'Mexico',\n",
       "       'Moldova', 'Mongolia', 'Montenegro', 'Morocco', 'Mozambique',\n",
       "       'Myanmar', 'Namibia', 'Nepal', 'Netherlands', 'New Zealand',\n",
       "       'Nicaragua', 'Niger', 'Nigeria', 'North Cyprus', 'North Macedonia',\n",
       "       'Northern Cyprus', 'Norway', 'Pakistan', 'Palestinian Territories',\n",
       "       'Panama', 'Paraguay', 'Peru', 'Philippines', 'Poland', 'Portugal',\n",
       "       'Qatar', 'Romania', 'Russia', 'Rwanda', 'Saudi Arabia', 'Senegal',\n",
       "       'Serbia', 'Sierra Leone', 'Singapore', 'Slovakia', 'Slovenia',\n",
       "       'Somalia', 'South Africa', 'South Korea', 'South Sudan', 'Spain',\n",
       "       'Sri Lanka', 'Sudan', 'Swaziland', 'Sweden', 'Switzerland', 'Syria',\n",
       "       'Taiwan', 'Taiwan Province of China', 'Tajikistan', 'Tanzania',\n",
       "       'Thailand', 'Togo', 'Trinidad & Tobago', 'Trinidad and Tobago',\n",
       "       'Tunisia', 'Turkey', 'Turkmenistan', 'Uganda', 'Ukraine',\n",
       "       'United Arab Emirates', 'United Kingdom', 'United States',\n",
       "       'Uruguay', 'Uzbekistan', 'Venezuela', 'Vietnam', 'Yemen', 'Zambia',\n",
       "       'Zimbabwe'], dtype=object)"
      ]
     },
     "execution_count": 56,
     "metadata": {},
     "output_type": "execute_result"
    }
   ],
   "source": [
    "countries= np.sort(df_happiness['Country'].unique())\n",
    "countries"
   ]
  },
  {
   "cell_type": "markdown",
   "metadata": {
    "editable": true
   },
   "source": [
    "Observations:\n",
    "- There is 'Congo (Brazzaville)' and 'Congo (Kinshasa)'\n",
    "- There is 'Hong Kong' and 'Hong Kong S.A.R. of China'\n",
    "- There is 'Taiwan' and 'Taiwan Province of China'\n",
    "- There is 'Trinidad & Tobago' and 'Trinidad and Tobago'\n",
    "- There is 'North Cyprus' and 'Northern Cyprus' and 'Cyprus'\n",
    "- There is 'Macedonia' and 'North Macedonia'"
   ]
  },
  {
   "cell_type": "markdown",
   "metadata": {
    "editable": true
   },
   "source": [
    "#### Create table with country translation"
   ]
  },
  {
   "cell_type": "markdown",
   "metadata": {
    "editable": true
   },
   "source": [
    "In the immigration data, the country names are in Dutch. In the happiness data, the country names are in English. They need to be matched up. This will be done through a separate translation table."
   ]
  },
  {
   "cell_type": "code",
   "execution_count": 57,
   "metadata": {
    "editable": true
   },
   "outputs": [
    {
     "data": {
      "text/plain": [
       "array(['(voormalig) Joegoslavië', '(voormalig) Tsjecho-Slowakije',\n",
       "       '(voormalige) Nederlandse Antillen, Aruba',\n",
       "       '(voormalige) Sovjet-Unie', 'Afghanistan', 'Afrika', 'Albanië',\n",
       "       'Algerije', 'Amerika', 'Amerikaans Samoa',\n",
       "       'Amerikaanse Maagdeneilanden', 'Andorra', 'Angola', 'Anguilla',\n",
       "       'Antarctica', 'Antigua en Barbuda', 'Argentinië', 'Armenië',\n",
       "       'Aruba', 'Australië', 'Azerbeidzjan', 'Azië', 'Bahamas', 'Bahrein',\n",
       "       'Bangladesh', 'Barbados', 'België', 'Belize', 'Benin', 'Bermuda',\n",
       "       'Bhutan', 'Bolivia', 'Bosnië-Herzegovina', 'Botswana', 'Brazilië',\n",
       "       'Brits Territorium in de Indische Oceaan', 'Britse Maagdeneilanden',\n",
       "       'Brunei', 'Bulgarije', 'Burkina Faso', 'Burundi', 'Cambodja',\n",
       "       'Canada', 'Caribisch Nederland', 'Caymaneilanden',\n",
       "       'Centraal-Afrikaanse Republiek', 'Chili', 'China', 'Colombia',\n",
       "       'Comoren', 'Congo', 'Congo (Democratische Republiek)',\n",
       "       'Cookeilanden', 'Costa Rica', 'Cuba', 'Curaçao', 'Cyprus',\n",
       "       'Denemarken', 'Djibouti', 'Dominica', 'Dominicaanse Republiek',\n",
       "       'Duitsland', 'Ecuador', 'Egypte', 'El Salvador',\n",
       "       'Equatoriaal-Guinea', 'Eritrea', 'Estland', 'Eswatini', 'Ethiopië',\n",
       "       'Europa (inclusief Nederland)',\n",
       "       'Europese Unie (exclusief Nederland)', 'Faeröer-eilanden',\n",
       "       'Falklandeilanden', 'Federale Republiek Joegoslavië', 'Fiji',\n",
       "       'Filippijnen', 'Finland', 'Frankrijk', 'Frans Guyana',\n",
       "       'Frans-Polynesië', 'GIPS landen in de EU', 'Gabon', 'Gambia',\n",
       "       'Gazastrook en Westelijke Jordaanoever', 'Geboorteland onbekend',\n",
       "       'Georgië', 'Ghana', 'Gibraltar', 'Grenada', 'Griekenland',\n",
       "       'Groenland', 'Guadeloupe', 'Guam', 'Guatemala', 'Guinee',\n",
       "       'Guinee-Bissau', 'Guyana', 'Haïti', 'Honduras', 'Hongarije',\n",
       "       'Hongkong', 'IJsland', 'Ierland', 'India', 'Indonesië', 'Irak',\n",
       "       'Iran', 'Israël', 'Italië', 'Ivoorkust', 'Jamaica', 'Japan',\n",
       "       'Jemen', 'Joegoslavië (oud)', 'Jordanië', 'Kaapverdië', 'Kameroen',\n",
       "       'Kanaaleilanden', 'Katar', 'Kazachstan', 'Kenia', 'Kirgizië',\n",
       "       'Kiribati', 'Koeweit', 'Kosovo', 'Kroatië', 'Laos', 'Lesotho',\n",
       "       'Letland', 'Libanon', 'Liberia', 'Libië', 'Liechtenstein',\n",
       "       'Litouwen', 'Luxemburg', 'Macau', 'Macedonië', 'Madagaskar',\n",
       "       'Malawi', 'Maldiven', 'Maleisië', 'Mali', 'Malta', 'Man', 'Marokko',\n",
       "       'Marshall-eilanden', 'Martinique', 'Mauritanië', 'Mauritius',\n",
       "       'Mayotte', 'Mexico', 'Micronesië (Federale Staten)',\n",
       "       'Midden- en Oost-Europese landen in de EU', 'Moldavië', 'Monaco',\n",
       "       'Mongolië', 'Montenegro', 'Montserrat', 'Mozambique', 'Myanmar',\n",
       "       'Namibië', 'Nauru', 'Nederland', 'Nederlandse Antillen (oud)',\n",
       "       'Nepal', 'Nicaragua', 'Niet-westerse geboortelanden',\n",
       "       'Nieuw-Caledonië', 'Nieuw-Zeeland', 'Niger', 'Nigeria', 'Niue',\n",
       "       'Noord-Korea', 'Noordelijke Marianen', 'Noorwegen', 'Norfolk',\n",
       "       'Oceanië', 'Oekraïne', 'Oezbekistan', 'Oman', 'Oostenrijk',\n",
       "       'Pakistan', 'Palau', 'Panama', 'Papoea-Nieuw-Guinea', 'Paraguay',\n",
       "       'Peru', 'Pitcairneilanden', 'Polen', 'Portugal', 'Puerto Rico',\n",
       "       'Republiek Noord-Macedonië', 'Roemenië', 'Rusland', 'Rusland (oud)',\n",
       "       'Rwanda', 'Réunion', 'Saint Kitts en Nevis',\n",
       "       'Saint Pierre en Miquelon', 'Saint-Vincent en de Grenadines',\n",
       "       'Salomonseilanden', 'Samoa', 'San Marino', 'Sao Tomé en Principe',\n",
       "       'Saoedi-Arabië', 'Senegal', 'Servië', 'Servië en Montenegro',\n",
       "       'Seychellen', 'Sierra Leone', 'Singapore', 'Sint Helena',\n",
       "       'Sint Lucia', 'Sint Maarten (Nederlands deel)', 'Slovenië',\n",
       "       'Slowakije', 'Soedan', 'Somalië', 'Sovjet-Unie (oud)', 'Spanje',\n",
       "       'Sri Lanka', 'Suriname', 'Swaziland', 'Syrië', 'Tadzjikistan',\n",
       "       'Taiwan', 'Tanzania', 'Thailand', 'Timor Leste', 'Togo',\n",
       "       'Tokelau-eilanden', 'Tonga', 'Totaal', 'Trinidad en Tobago',\n",
       "       'Tsjaad', 'Tsjechië', 'Tsjecho-Slowakije (oud)', 'Tunesië',\n",
       "       'Turkije', 'Turkmenistan', 'Turks- en Caicoseilanden', 'Tuvalu',\n",
       "       'Uganda', 'Uruguay', 'Vanuatu', 'Vaticaanstad', 'Venezuela',\n",
       "       'Verenigd Koninkrijk', 'Verenigde Arabische Emiraten',\n",
       "       'Verenigde Staten van Amerika', 'Verre eilanden van de VS',\n",
       "       'Vietnam', 'Wallis en Futuna',\n",
       "       'Westerse geboortelanden (incl Nederland)', 'Wit-Rusland', 'Zambia',\n",
       "       'Zimbabwe', 'Zuid-Afrika, land', 'Zuid-Korea', 'Zuid-Soedan',\n",
       "       'Zweden', 'Zwitserland'], dtype=object)"
      ]
     },
     "execution_count": 57,
     "metadata": {},
     "output_type": "execute_result"
    }
   ],
   "source": [
    "# All country names (Dutch) in the immigration data\n",
    "countries_Dutch= np.sort(df_meta_birthcountry['Title'].unique())\n",
    "countries_Dutch"
   ]
  },
  {
   "cell_type": "code",
   "execution_count": 58,
   "metadata": {
    "editable": true
   },
   "outputs": [
    {
     "data": {
      "text/plain": [
       "263"
      ]
     },
     "execution_count": 58,
     "metadata": {},
     "output_type": "execute_result"
    }
   ],
   "source": [
    "countries_Dutch.shape[0]"
   ]
  },
  {
   "cell_type": "code",
   "execution_count": 59,
   "metadata": {
    "editable": true
   },
   "outputs": [
    {
     "data": {
      "text/plain": [
       "array(['Afghanistan', 'Albania', 'Algeria', 'Angola', 'Argentina',\n",
       "       'Armenia', 'Australia', 'Austria', 'Azerbaijan', 'Bahrain',\n",
       "       'Bangladesh', 'Belarus', 'Belgium', 'Belize', 'Benin', 'Bhutan',\n",
       "       'Bolivia', 'Bosnia and Herzegovina', 'Botswana', 'Brazil',\n",
       "       'Bulgaria', 'Burkina Faso', 'Burundi', 'Cambodia', 'Cameroon',\n",
       "       'Canada', 'Central African Republic', 'Chad', 'Chile', 'China',\n",
       "       'Colombia', 'Comoros', 'Congo (Brazzaville)', 'Congo (Kinshasa)',\n",
       "       'Costa Rica', 'Croatia', 'Cyprus', 'Czech Republic', 'Denmark',\n",
       "       'Dominican Republic', 'Ecuador', 'Egypt', 'El Salvador', 'Estonia',\n",
       "       'Ethiopia', 'Finland', 'France', 'Gabon', 'Gambia', 'Georgia',\n",
       "       'Germany', 'Ghana', 'Greece', 'Guatemala', 'Guinea', 'Haiti',\n",
       "       'Honduras', 'Hong Kong', 'Hong Kong S.A.R. of China', 'Hungary',\n",
       "       'Iceland', 'India', 'Indonesia', 'Iran', 'Iraq', 'Ireland',\n",
       "       'Israel', 'Italy', 'Ivory Coast', 'Jamaica', 'Japan', 'Jordan',\n",
       "       'Kazakhstan', 'Kenya', 'Kosovo', 'Kuwait', 'Kyrgyzstan', 'Laos',\n",
       "       'Latvia', 'Lebanon', 'Lesotho', 'Liberia', 'Libya', 'Lithuania',\n",
       "       'Luxembourg', 'Macedonia', 'Madagascar', 'Malawi', 'Malaysia',\n",
       "       'Maldives', 'Mali', 'Malta', 'Mauritania', 'Mauritius', 'Mexico',\n",
       "       'Moldova', 'Mongolia', 'Montenegro', 'Morocco', 'Mozambique',\n",
       "       'Myanmar', 'Namibia', 'Nepal', 'Netherlands', 'New Zealand',\n",
       "       'Nicaragua', 'Niger', 'Nigeria', 'North Cyprus', 'North Macedonia',\n",
       "       'Northern Cyprus', 'Norway', 'Pakistan', 'Palestinian Territories',\n",
       "       'Panama', 'Paraguay', 'Peru', 'Philippines', 'Poland', 'Portugal',\n",
       "       'Qatar', 'Romania', 'Russia', 'Rwanda', 'Saudi Arabia', 'Senegal',\n",
       "       'Serbia', 'Sierra Leone', 'Singapore', 'Slovakia', 'Slovenia',\n",
       "       'Somalia', 'South Africa', 'South Korea', 'South Sudan', 'Spain',\n",
       "       'Sri Lanka', 'Sudan', 'Swaziland', 'Sweden', 'Switzerland', 'Syria',\n",
       "       'Taiwan', 'Taiwan Province of China', 'Tajikistan', 'Tanzania',\n",
       "       'Thailand', 'Togo', 'Trinidad & Tobago', 'Trinidad and Tobago',\n",
       "       'Tunisia', 'Turkey', 'Turkmenistan', 'Uganda', 'Ukraine',\n",
       "       'United Arab Emirates', 'United Kingdom', 'United States',\n",
       "       'Uruguay', 'Uzbekistan', 'Venezuela', 'Vietnam', 'Yemen', 'Zambia',\n",
       "       'Zimbabwe'], dtype=object)"
      ]
     },
     "execution_count": 59,
     "metadata": {},
     "output_type": "execute_result"
    }
   ],
   "source": [
    "# All country names in the happiness data\n",
    "countries"
   ]
  },
  {
   "cell_type": "code",
   "execution_count": 60,
   "metadata": {
    "editable": true
   },
   "outputs": [
    {
     "data": {
      "text/plain": [
       "165"
      ]
     },
     "execution_count": 60,
     "metadata": {},
     "output_type": "execute_result"
    }
   ],
   "source": [
    "countries.shape[0]"
   ]
  },
  {
   "cell_type": "code",
   "execution_count": 61,
   "metadata": {
    "editable": true
   },
   "outputs": [
    {
     "data": {
      "text/plain": [
       "numpy.ndarray"
      ]
     },
     "execution_count": 61,
     "metadata": {},
     "output_type": "execute_result"
    }
   ],
   "source": [
    "type(countries)"
   ]
  },
  {
   "cell_type": "code",
   "execution_count": 62,
   "metadata": {
    "editable": true
   },
   "outputs": [],
   "source": [
    "# Export countries in Dutch to make the translation table\n",
    "pd.DataFrame(countries_Dutch).to_csv(\"output/countries_Dutch.csv\", index= False)"
   ]
  },
  {
   "cell_type": "code",
   "execution_count": 63,
   "metadata": {
    "editable": true
   },
   "outputs": [],
   "source": [
    "# Export countries in English to make the translation table\n",
    "pd.DataFrame(countries).to_csv(\"output/countries.csv\", index= False)"
   ]
  },
  {
   "cell_type": "markdown",
   "metadata": {
    "editable": true
   },
   "source": [
    "Observation:\n",
    "- There is no Dutch equivalent of 'Palestinian Territories'"
   ]
  },
  {
   "cell_type": "markdown",
   "metadata": {
    "editable": true
   },
   "source": [
    "#### Cleaning Steps"
   ]
  },
  {
   "cell_type": "markdown",
   "metadata": {
    "editable": true
   },
   "source": [
    "#### Cleaning steps- Immigration data\n",
    "- Don't load entries with none or 0 people in Immigratie_1 by adding two conditions when to append an entry immigration_dict.get(key).get('Immigratie_1') != None and immigration_dict.get(key).get('Immigratie_1') > 0\n",
    "- For age only load entries that reflect the total or the number per age-year, i.e. not the ones aggregated over a 5-year age range\n",
    "- Don't load totals for gender (Geslacht), age (Leeftijd),  marital status (BurgerlijkeStaat) or country of birth (Geboorteland)"
   ]
  },
  {
   "cell_type": "markdown",
   "metadata": {
    "editable": true
   },
   "source": [
    "#### Cleaning steps- Immigration metadata\n",
    "#### Cleaning- df_meta_gender:\n",
    "- Rename column 'Title' into 'Geslacht'\n",
    "- Add column 'Gender' with translation of 'Geslacht'\n",
    "\n",
    "#### Cleaning- df_meta_age:\n",
    "- Rename column 'Title' into 'Age'\n",
    "- Replace 'totaal' with 'total'\n",
    "- Replace 'jaar' with'years'\n",
    "- Replace 'of ouder' with 'or older'\n",
    "- Replace 'tot' with 'to'\n",
    "\n",
    "#### Cleaning df_meta_marital:\n",
    "- Rename column 'Title' into 'BurgerlijkeStaat'\n",
    "- Add column 'MaritalStatus' with translation of 'BurgerlijkeStaat'\n",
    "- Remove trailing whitespaces in the 'Key' "
   ]
  },
  {
   "cell_type": "markdown",
   "metadata": {
    "editable": true
   },
   "source": [
    "#### Cleaning steps- Happiness data\n",
    "- Rename 'Congo (Brazzaville)' to 'Congo' \n",
    "- Rename 'Congo (Kinshasa)' to 'Congo'\n",
    "- Rename 'Taiwan Province of China' to 'Taiwan'\n",
    "- Rename 'Trinidad & Tobago' to 'Trinidad and Tobago'\n",
    "- Rename 'Northern Cyprus' and 'North Cyprus' to 'Cyprus'\n",
    "- Rename 'North Macedonia' to 'Macedonia'"
   ]
  },
  {
   "cell_type": "code",
   "execution_count": 64,
   "metadata": {
    "editable": true
   },
   "outputs": [
    {
     "name": "stdout",
     "output_type": "stream",
     "text": [
      "/home/workspace\n",
      "['/home/workspace/Immigration_data/03742_TypedDataSet_2020.json', '/home/workspace/Immigration_data/03742_TypedDataSet_2018.json', '/home/workspace/Immigration_data/03742_TypedDataSet_2019.json']\n"
     ]
    }
   ],
   "source": [
    "# checking current working directory\n",
    "print(os.getcwd())\n",
    "\n",
    "# Get current folder and subfolder event data\n",
    "immigration_filepath = os.getcwd() + '/Immigration_data/'\n",
    "\n",
    "# Create a for loop to create a list of files and collect each filepath\n",
    "for root, dirs, files in os.walk(immigration_filepath):\n",
    "    \n",
    "# join the file path and roots with the subdirectories using glob\n",
    "    file_path_list = glob.glob(os.path.join(root,'*'))\n",
    "    print(file_path_list)\n",
    "    break"
   ]
  },
  {
   "cell_type": "code",
   "execution_count": 65,
   "metadata": {
    "editable": true
   },
   "outputs": [
    {
     "name": "stdout",
     "output_type": "stream",
     "text": [
      "year=  2020\n",
      "5176625\n",
      "5176651\n",
      "5176729\n",
      "5177613\n",
      "5178757\n",
      "5178991\n",
      "5179225\n",
      "5179355\n",
      "5179407\n",
      "5180213\n",
      "5180655\n",
      "5180759\n",
      "5181123\n",
      "5181305\n",
      "5181383\n",
      "5181435\n",
      "5181461\n",
      "5181773\n",
      "5182059\n",
      "5182111\n",
      "5182241\n",
      "5182631\n",
      "5182917\n",
      "year=  2018\n",
      "5176623\n",
      "5176649\n",
      "5176727\n",
      "5176753\n",
      "5177351\n",
      "5177403\n",
      "5178755\n",
      "5179405\n",
      "5180211\n",
      "5180653\n",
      "5180679\n",
      "5180705\n",
      "5180861\n",
      "5181017\n",
      "5181121\n",
      "5181303\n",
      "5181433\n",
      "5181719\n",
      "5181849\n",
      "5182005\n",
      "5182057\n",
      "5182109\n",
      "5182161\n",
      "5182239\n",
      "5182577\n",
      "5182629\n",
      "5182915\n",
      "5183097\n",
      "5190117\n",
      "5190221\n",
      "5195915\n",
      "year=  2019\n",
      "5176624\n",
      "5176650\n",
      "5176728\n",
      "5176754\n",
      "5177352\n",
      "5177404\n",
      "5178106\n",
      "5178236\n",
      "5179172\n",
      "5179406\n",
      "5180134\n",
      "5180212\n",
      "5180654\n",
      "5180862\n",
      "5181018\n",
      "5181122\n",
      "5181252\n",
      "5181304\n",
      "5181434\n",
      "5181850\n",
      "5182058\n",
      "5182110\n",
      "5182188\n",
      "5182240\n",
      "5182604\n",
      "5182630\n",
      "5182838\n",
      "5183098\n"
     ]
    }
   ],
   "source": [
    "dict_df_immigration= {}\n",
    "for f in file_path_list:\n",
    "    year= f[-9: -5]\n",
    "    print('year= ', year)\n",
    "    dict_df_immigration[year] = pd.DataFrame(columns=['ID', 'Geslacht', 'LeeftijdOp31December', 'BurgerlijkeStaat', 'Geboorteland', 'Perioden', 'Immigratie_1'])\n",
    "    \n",
    "    # Import the json-files with immigration data\n",
    "    immigration_json= []\n",
    "    for line in open(f, 'r'):\n",
    "        immigration_json.append(json.loads(line))\n",
    "    immigration_dict= immigration_json[0].get('value')\n",
    "    imm_keys= list(immigration_dict.keys())\n",
    "    \n",
    "    #for key in imm_keys[0: len(imm_keys)]:\n",
    "    for key in imm_keys[199100: 200000]:\n",
    "        if immigration_dict.get(key).get('Immigratie_1') != None and immigration_dict.get(key).get('Immigratie_1') > 0 and int(immigration_dict.get(key).get('LeeftijdOp31December')) < 19906 \\\n",
    "            and immigration_dict.get(key).get('Geslacht') != 'T001038' and immigration_dict.get(key).get('LeeftijdOp31December') != '10000' and immigration_dict.get(key).get('BurgerlijkeStaat') != 'T001019' \\\n",
    "            and immigration_dict.get(key).get('Geboorteland') != 'T001175':\n",
    "            print(key)\n",
    "            dict_df_immigration[year] = dict_df_immigration[year].append(immigration_dict.get(key), ignore_index=True)"
   ]
  },
  {
   "cell_type": "code",
   "execution_count": 66,
   "metadata": {
    "editable": true
   },
   "outputs": [
    {
     "data": {
      "text/html": [
       "<div>\n",
       "<style scoped>\n",
       "    .dataframe tbody tr th:only-of-type {\n",
       "        vertical-align: middle;\n",
       "    }\n",
       "\n",
       "    .dataframe tbody tr th {\n",
       "        vertical-align: top;\n",
       "    }\n",
       "\n",
       "    .dataframe thead th {\n",
       "        text-align: right;\n",
       "    }\n",
       "</style>\n",
       "<table border=\"1\" class=\"dataframe\">\n",
       "  <thead>\n",
       "    <tr style=\"text-align: right;\">\n",
       "      <th></th>\n",
       "      <th>ID</th>\n",
       "      <th>Geslacht</th>\n",
       "      <th>LeeftijdOp31December</th>\n",
       "      <th>BurgerlijkeStaat</th>\n",
       "      <th>Geboorteland</th>\n",
       "      <th>Perioden</th>\n",
       "      <th>Immigratie_1</th>\n",
       "    </tr>\n",
       "  </thead>\n",
       "  <tbody>\n",
       "  </tbody>\n",
       "</table>\n",
       "</div>"
      ],
      "text/plain": [
       "Empty DataFrame\n",
       "Columns: [ID, Geslacht, LeeftijdOp31December, BurgerlijkeStaat, Geboorteland, Perioden, Immigratie_1]\n",
       "Index: []"
      ]
     },
     "execution_count": 66,
     "metadata": {},
     "output_type": "execute_result"
    }
   ],
   "source": [
    "df_immigration_clean= pd.DataFrame(columns=['ID', 'Geslacht', 'LeeftijdOp31December', 'BurgerlijkeStaat', 'Geboorteland', 'Perioden', 'Immigratie_1'])\n",
    "df_immigration_clean"
   ]
  },
  {
   "cell_type": "code",
   "execution_count": 67,
   "metadata": {
    "editable": true
   },
   "outputs": [],
   "source": [
    "for yr in ['2018', '2019', '2020']:\n",
    "    df_immigration_clean= df_immigration_clean.append(dict_df_immigration[yr])"
   ]
  },
  {
   "cell_type": "code",
   "execution_count": 68,
   "metadata": {
    "editable": true
   },
   "outputs": [
    {
     "data": {
      "text/plain": [
       "82"
      ]
     },
     "execution_count": 68,
     "metadata": {},
     "output_type": "execute_result"
    }
   ],
   "source": [
    "df_immigration_clean.shape[0]"
   ]
  },
  {
   "cell_type": "code",
   "execution_count": 69,
   "metadata": {
    "editable": true
   },
   "outputs": [
    {
     "data": {
      "text/html": [
       "<div>\n",
       "<style scoped>\n",
       "    .dataframe tbody tr th:only-of-type {\n",
       "        vertical-align: middle;\n",
       "    }\n",
       "\n",
       "    .dataframe tbody tr th {\n",
       "        vertical-align: top;\n",
       "    }\n",
       "\n",
       "    .dataframe thead th {\n",
       "        text-align: right;\n",
       "    }\n",
       "</style>\n",
       "<table border=\"1\" class=\"dataframe\">\n",
       "  <thead>\n",
       "    <tr style=\"text-align: right;\">\n",
       "      <th></th>\n",
       "      <th>ID</th>\n",
       "      <th>Geslacht</th>\n",
       "      <th>LeeftijdOp31December</th>\n",
       "      <th>BurgerlijkeStaat</th>\n",
       "      <th>Geboorteland</th>\n",
       "      <th>Perioden</th>\n",
       "      <th>Immigratie_1</th>\n",
       "    </tr>\n",
       "  </thead>\n",
       "  <tbody>\n",
       "    <tr>\n",
       "      <th>0</th>\n",
       "      <td>5176625</td>\n",
       "      <td>3000</td>\n",
       "      <td>12200</td>\n",
       "      <td>1020</td>\n",
       "      <td>G007937</td>\n",
       "      <td>2020JJ00</td>\n",
       "      <td>2</td>\n",
       "    </tr>\n",
       "    <tr>\n",
       "      <th>1</th>\n",
       "      <td>5176651</td>\n",
       "      <td>3000</td>\n",
       "      <td>12200</td>\n",
       "      <td>1020</td>\n",
       "      <td>G007935</td>\n",
       "      <td>2020JJ00</td>\n",
       "      <td>4</td>\n",
       "    </tr>\n",
       "    <tr>\n",
       "      <th>2</th>\n",
       "      <td>5176729</td>\n",
       "      <td>3000</td>\n",
       "      <td>12200</td>\n",
       "      <td>1020</td>\n",
       "      <td>G008533</td>\n",
       "      <td>2020JJ00</td>\n",
       "      <td>4</td>\n",
       "    </tr>\n",
       "    <tr>\n",
       "      <th>3</th>\n",
       "      <td>5177613</td>\n",
       "      <td>3000</td>\n",
       "      <td>12200</td>\n",
       "      <td>1020</td>\n",
       "      <td>G008571</td>\n",
       "      <td>2020JJ00</td>\n",
       "      <td>1</td>\n",
       "    </tr>\n",
       "    <tr>\n",
       "      <th>4</th>\n",
       "      <td>5178757</td>\n",
       "      <td>3000</td>\n",
       "      <td>12200</td>\n",
       "      <td>1020</td>\n",
       "      <td>G008615</td>\n",
       "      <td>2020JJ00</td>\n",
       "      <td>2</td>\n",
       "    </tr>\n",
       "    <tr>\n",
       "      <th>5</th>\n",
       "      <td>5178991</td>\n",
       "      <td>3000</td>\n",
       "      <td>12200</td>\n",
       "      <td>1020</td>\n",
       "      <td>G008626</td>\n",
       "      <td>2020JJ00</td>\n",
       "      <td>1</td>\n",
       "    </tr>\n",
       "    <tr>\n",
       "      <th>6</th>\n",
       "      <td>5179225</td>\n",
       "      <td>3000</td>\n",
       "      <td>12200</td>\n",
       "      <td>1020</td>\n",
       "      <td>G008635</td>\n",
       "      <td>2020JJ00</td>\n",
       "      <td>1</td>\n",
       "    </tr>\n",
       "    <tr>\n",
       "      <th>7</th>\n",
       "      <td>5179355</td>\n",
       "      <td>3000</td>\n",
       "      <td>12200</td>\n",
       "      <td>1020</td>\n",
       "      <td>G008640</td>\n",
       "      <td>2020JJ00</td>\n",
       "      <td>1</td>\n",
       "    </tr>\n",
       "    <tr>\n",
       "      <th>8</th>\n",
       "      <td>5179407</td>\n",
       "      <td>3000</td>\n",
       "      <td>12200</td>\n",
       "      <td>1020</td>\n",
       "      <td>G007069</td>\n",
       "      <td>2020JJ00</td>\n",
       "      <td>2</td>\n",
       "    </tr>\n",
       "    <tr>\n",
       "      <th>9</th>\n",
       "      <td>5180213</td>\n",
       "      <td>3000</td>\n",
       "      <td>12200</td>\n",
       "      <td>1020</td>\n",
       "      <td>G008673</td>\n",
       "      <td>2020JJ00</td>\n",
       "      <td>3</td>\n",
       "    </tr>\n",
       "    <tr>\n",
       "      <th>10</th>\n",
       "      <td>5180655</td>\n",
       "      <td>3000</td>\n",
       "      <td>12200</td>\n",
       "      <td>1020</td>\n",
       "      <td>G008691</td>\n",
       "      <td>2020JJ00</td>\n",
       "      <td>3</td>\n",
       "    </tr>\n",
       "    <tr>\n",
       "      <th>11</th>\n",
       "      <td>5180759</td>\n",
       "      <td>3000</td>\n",
       "      <td>12200</td>\n",
       "      <td>1020</td>\n",
       "      <td>G008695</td>\n",
       "      <td>2020JJ00</td>\n",
       "      <td>1</td>\n",
       "    </tr>\n",
       "    <tr>\n",
       "      <th>12</th>\n",
       "      <td>5181123</td>\n",
       "      <td>3000</td>\n",
       "      <td>12200</td>\n",
       "      <td>1020</td>\n",
       "      <td>G008710</td>\n",
       "      <td>2020JJ00</td>\n",
       "      <td>2</td>\n",
       "    </tr>\n",
       "    <tr>\n",
       "      <th>13</th>\n",
       "      <td>5181305</td>\n",
       "      <td>3000</td>\n",
       "      <td>12200</td>\n",
       "      <td>1020</td>\n",
       "      <td>G008718</td>\n",
       "      <td>2020JJ00</td>\n",
       "      <td>1</td>\n",
       "    </tr>\n",
       "    <tr>\n",
       "      <th>14</th>\n",
       "      <td>5181383</td>\n",
       "      <td>3000</td>\n",
       "      <td>12200</td>\n",
       "      <td>1020</td>\n",
       "      <td>G008825</td>\n",
       "      <td>2020JJ00</td>\n",
       "      <td>1</td>\n",
       "    </tr>\n",
       "    <tr>\n",
       "      <th>15</th>\n",
       "      <td>5181435</td>\n",
       "      <td>3000</td>\n",
       "      <td>12200</td>\n",
       "      <td>1020</td>\n",
       "      <td>G008723</td>\n",
       "      <td>2020JJ00</td>\n",
       "      <td>1</td>\n",
       "    </tr>\n",
       "    <tr>\n",
       "      <th>16</th>\n",
       "      <td>5181461</td>\n",
       "      <td>3000</td>\n",
       "      <td>12200</td>\n",
       "      <td>1020</td>\n",
       "      <td>G008724</td>\n",
       "      <td>2020JJ00</td>\n",
       "      <td>2</td>\n",
       "    </tr>\n",
       "    <tr>\n",
       "      <th>17</th>\n",
       "      <td>5181773</td>\n",
       "      <td>3000</td>\n",
       "      <td>12200</td>\n",
       "      <td>1020</td>\n",
       "      <td>G008736</td>\n",
       "      <td>2020JJ00</td>\n",
       "      <td>1</td>\n",
       "    </tr>\n",
       "    <tr>\n",
       "      <th>18</th>\n",
       "      <td>5182059</td>\n",
       "      <td>3000</td>\n",
       "      <td>12200</td>\n",
       "      <td>1020</td>\n",
       "      <td>G008747</td>\n",
       "      <td>2020JJ00</td>\n",
       "      <td>1</td>\n",
       "    </tr>\n",
       "    <tr>\n",
       "      <th>19</th>\n",
       "      <td>5182111</td>\n",
       "      <td>3000</td>\n",
       "      <td>12200</td>\n",
       "      <td>1020</td>\n",
       "      <td>G007172</td>\n",
       "      <td>2020JJ00</td>\n",
       "      <td>2</td>\n",
       "    </tr>\n",
       "    <tr>\n",
       "      <th>20</th>\n",
       "      <td>5182241</td>\n",
       "      <td>3000</td>\n",
       "      <td>12200</td>\n",
       "      <td>1020</td>\n",
       "      <td>G008753</td>\n",
       "      <td>2020JJ00</td>\n",
       "      <td>20</td>\n",
       "    </tr>\n",
       "    <tr>\n",
       "      <th>21</th>\n",
       "      <td>5182631</td>\n",
       "      <td>3000</td>\n",
       "      <td>12200</td>\n",
       "      <td>1020</td>\n",
       "      <td>G008766</td>\n",
       "      <td>2020JJ00</td>\n",
       "      <td>11</td>\n",
       "    </tr>\n",
       "    <tr>\n",
       "      <th>22</th>\n",
       "      <td>5182917</td>\n",
       "      <td>3000</td>\n",
       "      <td>12200</td>\n",
       "      <td>1020</td>\n",
       "      <td>G008778</td>\n",
       "      <td>2020JJ00</td>\n",
       "      <td>1</td>\n",
       "    </tr>\n",
       "  </tbody>\n",
       "</table>\n",
       "</div>"
      ],
      "text/plain": [
       "         ID Geslacht LeeftijdOp31December BurgerlijkeStaat Geboorteland  \\\n",
       "0   5176625  3000                   12200          1020         G007937   \n",
       "1   5176651  3000                   12200          1020         G007935   \n",
       "2   5176729  3000                   12200          1020         G008533   \n",
       "3   5177613  3000                   12200          1020         G008571   \n",
       "4   5178757  3000                   12200          1020         G008615   \n",
       "5   5178991  3000                   12200          1020         G008626   \n",
       "6   5179225  3000                   12200          1020         G008635   \n",
       "7   5179355  3000                   12200          1020         G008640   \n",
       "8   5179407  3000                   12200          1020         G007069   \n",
       "9   5180213  3000                   12200          1020         G008673   \n",
       "10  5180655  3000                   12200          1020         G008691   \n",
       "11  5180759  3000                   12200          1020         G008695   \n",
       "12  5181123  3000                   12200          1020         G008710   \n",
       "13  5181305  3000                   12200          1020         G008718   \n",
       "14  5181383  3000                   12200          1020         G008825   \n",
       "15  5181435  3000                   12200          1020         G008723   \n",
       "16  5181461  3000                   12200          1020         G008724   \n",
       "17  5181773  3000                   12200          1020         G008736   \n",
       "18  5182059  3000                   12200          1020         G008747   \n",
       "19  5182111  3000                   12200          1020         G007172   \n",
       "20  5182241  3000                   12200          1020         G008753   \n",
       "21  5182631  3000                   12200          1020         G008766   \n",
       "22  5182917  3000                   12200          1020         G008778   \n",
       "\n",
       "    Perioden Immigratie_1  \n",
       "0   2020JJ00            2  \n",
       "1   2020JJ00            4  \n",
       "2   2020JJ00            4  \n",
       "3   2020JJ00            1  \n",
       "4   2020JJ00            2  \n",
       "5   2020JJ00            1  \n",
       "6   2020JJ00            1  \n",
       "7   2020JJ00            1  \n",
       "8   2020JJ00            2  \n",
       "9   2020JJ00            3  \n",
       "10  2020JJ00            3  \n",
       "11  2020JJ00            1  \n",
       "12  2020JJ00            2  \n",
       "13  2020JJ00            1  \n",
       "14  2020JJ00            1  \n",
       "15  2020JJ00            1  \n",
       "16  2020JJ00            2  \n",
       "17  2020JJ00            1  \n",
       "18  2020JJ00            1  \n",
       "19  2020JJ00            2  \n",
       "20  2020JJ00           20  \n",
       "21  2020JJ00           11  \n",
       "22  2020JJ00            1  "
      ]
     },
     "execution_count": 69,
     "metadata": {},
     "output_type": "execute_result"
    }
   ],
   "source": [
    "dict_df_immigration['2020']"
   ]
  },
  {
   "cell_type": "code",
   "execution_count": 70,
   "metadata": {
    "editable": true
   },
   "outputs": [
    {
     "name": "stdout",
     "output_type": "stream",
     "text": [
      "year=  2020\n",
      "year=  2018\n",
      "year=  2019\n"
     ]
    }
   ],
   "source": [
    "# Create an empty dataframe to store the immigration data in\n",
    "df_immigration_clean= pd.DataFrame(columns=['ID', 'Geslacht', 'LeeftijdOp31December', 'BurgerlijkeStaat', 'Geboorteland', 'Perioden', 'Immigratie_1'])\n",
    "\n",
    "for f in file_path_list:\n",
    "    year= f[-9:-5]\n",
    "    print('year= ', year)\n",
    "    \n",
    "    # Import the json-files with immigration data\n",
    "    immigration_json= []\n",
    "    for line in open(f, 'r'):\n",
    "        immigration_json.append(json.loads(line))\n",
    "    immigration_dict= immigration_json[0].get('value')\n",
    "    imm_keys= list(immigration_dict.keys())\n",
    "    \n",
    "    #for key in imm_keys[0: len(imm_keys)]:\n",
    "    for key in imm_keys[199500: 200000]:\n",
    "        if immigration_dict.get(key).get('Immigratie_1') != None and immigration_dict.get(key).get('Immigratie_1') > 0 and int(immigration_dict.get(key).get('LeeftijdOp31December')) < 19906 \\\n",
    "            and immigration_dict.get(key).get('Geslacht') != 'T001038' and immigration_dict.get(key).get('LeeftijdOp31December') != '10000' and immigration_dict.get(key).get('BurgerlijkeStaat') != 'T001019' \\\n",
    "            and immigration_dict.get(key).get('Geboorteland') != 'T001175':\n",
    "            #print(key)\n",
    "            df_immigration_clean = df_immigration_clean.append(immigration_dict.get(key), ignore_index=True)"
   ]
  },
  {
   "cell_type": "code",
   "execution_count": 71,
   "metadata": {
    "editable": true
   },
   "outputs": [
    {
     "data": {
      "text/plain": [
       "0"
      ]
     },
     "execution_count": 71,
     "metadata": {},
     "output_type": "execute_result"
    }
   ],
   "source": [
    "df_immigration_clean[df_immigration_clean.BurgerlijkeStaat == 'T001019'].shape[0]"
   ]
  },
  {
   "cell_type": "code",
   "execution_count": 72,
   "metadata": {
    "editable": true
   },
   "outputs": [
    {
     "data": {
      "text/plain": [
       "3"
      ]
     },
     "execution_count": 72,
     "metadata": {},
     "output_type": "execute_result"
    }
   ],
   "source": [
    "df_immigration_clean.shape[0]"
   ]
  },
  {
   "cell_type": "code",
   "execution_count": 73,
   "metadata": {
    "editable": true
   },
   "outputs": [],
   "source": [
    "df_immigration_clean.to_csv('output/immigration_cleaned.csv', index= False)"
   ]
  },
  {
   "cell_type": "code",
   "execution_count": 74,
   "metadata": {
    "editable": true
   },
   "outputs": [],
   "source": [
    "df_meta_gender_clean= df_meta_gender.copy()\n",
    "df_meta_gender_clean.rename(columns= {'Title' : 'Geslacht'}, inplace= True)\n",
    "df_meta_gender_clean['Gender']= ['Total men and women', 'Men', 'Women']"
   ]
  },
  {
   "cell_type": "code",
   "execution_count": 75,
   "metadata": {
    "editable": true
   },
   "outputs": [
    {
     "data": {
      "text/html": [
       "<div>\n",
       "<style scoped>\n",
       "    .dataframe tbody tr th:only-of-type {\n",
       "        vertical-align: middle;\n",
       "    }\n",
       "\n",
       "    .dataframe tbody tr th {\n",
       "        vertical-align: top;\n",
       "    }\n",
       "\n",
       "    .dataframe thead th {\n",
       "        text-align: right;\n",
       "    }\n",
       "</style>\n",
       "<table border=\"1\" class=\"dataframe\">\n",
       "  <thead>\n",
       "    <tr style=\"text-align: right;\">\n",
       "      <th></th>\n",
       "      <th>Key</th>\n",
       "      <th>Geslacht</th>\n",
       "      <th>Gender</th>\n",
       "    </tr>\n",
       "  </thead>\n",
       "  <tbody>\n",
       "    <tr>\n",
       "      <th>0</th>\n",
       "      <td>T001038</td>\n",
       "      <td>Totaal mannen en vrouwen</td>\n",
       "      <td>Total men and women</td>\n",
       "    </tr>\n",
       "    <tr>\n",
       "      <th>1</th>\n",
       "      <td>3000</td>\n",
       "      <td>Mannen</td>\n",
       "      <td>Men</td>\n",
       "    </tr>\n",
       "    <tr>\n",
       "      <th>2</th>\n",
       "      <td>4000</td>\n",
       "      <td>Vrouwen</td>\n",
       "      <td>Women</td>\n",
       "    </tr>\n",
       "  </tbody>\n",
       "</table>\n",
       "</div>"
      ],
      "text/plain": [
       "       Key                  Geslacht               Gender\n",
       "0  T001038  Totaal mannen en vrouwen  Total men and women\n",
       "1  3000                       Mannen                  Men\n",
       "2  4000                      Vrouwen                Women"
      ]
     },
     "execution_count": 75,
     "metadata": {},
     "output_type": "execute_result"
    }
   ],
   "source": [
    "df_meta_gender_clean"
   ]
  },
  {
   "cell_type": "code",
   "execution_count": 76,
   "metadata": {
    "editable": true
   },
   "outputs": [],
   "source": [
    "df_meta_age_clean= df_meta_age.copy()\n",
    "df_meta_age_clean.rename(columns= {'Title' : 'Age'}, inplace= True)\n",
    "df_meta_age_clean.Age.replace({'Totaal': 'Total'}, regex= True, inplace= True)\n",
    "df_meta_age_clean.Age.replace({'jaar': 'years'}, regex= True, inplace= True)\n",
    "df_meta_age_clean.Age.replace({'of ouder': 'or older'}, regex= True, inplace= True)\n",
    "df_meta_age_clean.Age.replace({'tot': 'to'}, regex= True, inplace= True)"
   ]
  },
  {
   "cell_type": "code",
   "execution_count": 77,
   "metadata": {
    "editable": true
   },
   "outputs": [
    {
     "data": {
      "text/html": [
       "<div>\n",
       "<style scoped>\n",
       "    .dataframe tbody tr th:only-of-type {\n",
       "        vertical-align: middle;\n",
       "    }\n",
       "\n",
       "    .dataframe tbody tr th {\n",
       "        vertical-align: top;\n",
       "    }\n",
       "\n",
       "    .dataframe thead th {\n",
       "        text-align: right;\n",
       "    }\n",
       "</style>\n",
       "<table border=\"1\" class=\"dataframe\">\n",
       "  <thead>\n",
       "    <tr style=\"text-align: right;\">\n",
       "      <th></th>\n",
       "      <th>Key</th>\n",
       "      <th>Age</th>\n",
       "    </tr>\n",
       "  </thead>\n",
       "  <tbody>\n",
       "    <tr>\n",
       "      <th>0</th>\n",
       "      <td>10000</td>\n",
       "      <td>Total</td>\n",
       "    </tr>\n",
       "    <tr>\n",
       "      <th>1</th>\n",
       "      <td>10010</td>\n",
       "      <td>0 years</td>\n",
       "    </tr>\n",
       "    <tr>\n",
       "      <th>2</th>\n",
       "      <td>10100</td>\n",
       "      <td>1 years</td>\n",
       "    </tr>\n",
       "    <tr>\n",
       "      <th>3</th>\n",
       "      <td>10200</td>\n",
       "      <td>2 years</td>\n",
       "    </tr>\n",
       "    <tr>\n",
       "      <th>4</th>\n",
       "      <td>10300</td>\n",
       "      <td>3 years</td>\n",
       "    </tr>\n",
       "    <tr>\n",
       "      <th>5</th>\n",
       "      <td>10400</td>\n",
       "      <td>4 years</td>\n",
       "    </tr>\n",
       "    <tr>\n",
       "      <th>6</th>\n",
       "      <td>10500</td>\n",
       "      <td>5 years</td>\n",
       "    </tr>\n",
       "    <tr>\n",
       "      <th>7</th>\n",
       "      <td>10600</td>\n",
       "      <td>6 years</td>\n",
       "    </tr>\n",
       "    <tr>\n",
       "      <th>8</th>\n",
       "      <td>10700</td>\n",
       "      <td>7 years</td>\n",
       "    </tr>\n",
       "    <tr>\n",
       "      <th>9</th>\n",
       "      <td>10800</td>\n",
       "      <td>8 years</td>\n",
       "    </tr>\n",
       "    <tr>\n",
       "      <th>10</th>\n",
       "      <td>10900</td>\n",
       "      <td>9 years</td>\n",
       "    </tr>\n",
       "    <tr>\n",
       "      <th>11</th>\n",
       "      <td>11000</td>\n",
       "      <td>10 years</td>\n",
       "    </tr>\n",
       "    <tr>\n",
       "      <th>12</th>\n",
       "      <td>11100</td>\n",
       "      <td>11 years</td>\n",
       "    </tr>\n",
       "    <tr>\n",
       "      <th>13</th>\n",
       "      <td>11200</td>\n",
       "      <td>12 years</td>\n",
       "    </tr>\n",
       "    <tr>\n",
       "      <th>14</th>\n",
       "      <td>11300</td>\n",
       "      <td>13 years</td>\n",
       "    </tr>\n",
       "    <tr>\n",
       "      <th>15</th>\n",
       "      <td>11400</td>\n",
       "      <td>14 years</td>\n",
       "    </tr>\n",
       "    <tr>\n",
       "      <th>16</th>\n",
       "      <td>11500</td>\n",
       "      <td>15 years</td>\n",
       "    </tr>\n",
       "    <tr>\n",
       "      <th>17</th>\n",
       "      <td>11600</td>\n",
       "      <td>16 years</td>\n",
       "    </tr>\n",
       "    <tr>\n",
       "      <th>18</th>\n",
       "      <td>11700</td>\n",
       "      <td>17 years</td>\n",
       "    </tr>\n",
       "    <tr>\n",
       "      <th>19</th>\n",
       "      <td>11800</td>\n",
       "      <td>18 years</td>\n",
       "    </tr>\n",
       "    <tr>\n",
       "      <th>20</th>\n",
       "      <td>11900</td>\n",
       "      <td>19 years</td>\n",
       "    </tr>\n",
       "    <tr>\n",
       "      <th>21</th>\n",
       "      <td>12000</td>\n",
       "      <td>20 years</td>\n",
       "    </tr>\n",
       "    <tr>\n",
       "      <th>22</th>\n",
       "      <td>12100</td>\n",
       "      <td>21 years</td>\n",
       "    </tr>\n",
       "    <tr>\n",
       "      <th>23</th>\n",
       "      <td>12200</td>\n",
       "      <td>22 years</td>\n",
       "    </tr>\n",
       "    <tr>\n",
       "      <th>24</th>\n",
       "      <td>12300</td>\n",
       "      <td>23 years</td>\n",
       "    </tr>\n",
       "    <tr>\n",
       "      <th>25</th>\n",
       "      <td>12400</td>\n",
       "      <td>24 years</td>\n",
       "    </tr>\n",
       "    <tr>\n",
       "      <th>26</th>\n",
       "      <td>12500</td>\n",
       "      <td>25 years</td>\n",
       "    </tr>\n",
       "    <tr>\n",
       "      <th>27</th>\n",
       "      <td>12600</td>\n",
       "      <td>26 years</td>\n",
       "    </tr>\n",
       "    <tr>\n",
       "      <th>28</th>\n",
       "      <td>12700</td>\n",
       "      <td>27 years</td>\n",
       "    </tr>\n",
       "    <tr>\n",
       "      <th>29</th>\n",
       "      <td>12800</td>\n",
       "      <td>28 years</td>\n",
       "    </tr>\n",
       "    <tr>\n",
       "      <th>...</th>\n",
       "      <td>...</td>\n",
       "      <td>...</td>\n",
       "    </tr>\n",
       "    <tr>\n",
       "      <th>98</th>\n",
       "      <td>19700</td>\n",
       "      <td>97 years</td>\n",
       "    </tr>\n",
       "    <tr>\n",
       "      <th>99</th>\n",
       "      <td>19800</td>\n",
       "      <td>98 years</td>\n",
       "    </tr>\n",
       "    <tr>\n",
       "      <th>100</th>\n",
       "      <td>19900</td>\n",
       "      <td>99 years</td>\n",
       "    </tr>\n",
       "    <tr>\n",
       "      <th>101</th>\n",
       "      <td>19901</td>\n",
       "      <td>100 years</td>\n",
       "    </tr>\n",
       "    <tr>\n",
       "      <th>102</th>\n",
       "      <td>19902</td>\n",
       "      <td>101 years</td>\n",
       "    </tr>\n",
       "    <tr>\n",
       "      <th>103</th>\n",
       "      <td>19903</td>\n",
       "      <td>102 years</td>\n",
       "    </tr>\n",
       "    <tr>\n",
       "      <th>104</th>\n",
       "      <td>19904</td>\n",
       "      <td>103 years</td>\n",
       "    </tr>\n",
       "    <tr>\n",
       "      <th>105</th>\n",
       "      <td>19905</td>\n",
       "      <td>104 years</td>\n",
       "    </tr>\n",
       "    <tr>\n",
       "      <th>106</th>\n",
       "      <td>22200</td>\n",
       "      <td>100 years or older</td>\n",
       "    </tr>\n",
       "    <tr>\n",
       "      <th>107</th>\n",
       "      <td>22300</td>\n",
       "      <td>105 years or older</td>\n",
       "    </tr>\n",
       "    <tr>\n",
       "      <th>108</th>\n",
       "      <td>70100</td>\n",
       "      <td>0 to 5 years</td>\n",
       "    </tr>\n",
       "    <tr>\n",
       "      <th>109</th>\n",
       "      <td>70200</td>\n",
       "      <td>5 to 10 years</td>\n",
       "    </tr>\n",
       "    <tr>\n",
       "      <th>110</th>\n",
       "      <td>70300</td>\n",
       "      <td>10 to 15 years</td>\n",
       "    </tr>\n",
       "    <tr>\n",
       "      <th>111</th>\n",
       "      <td>70400</td>\n",
       "      <td>15 to 20 years</td>\n",
       "    </tr>\n",
       "    <tr>\n",
       "      <th>112</th>\n",
       "      <td>70500</td>\n",
       "      <td>20 to 25 years</td>\n",
       "    </tr>\n",
       "    <tr>\n",
       "      <th>113</th>\n",
       "      <td>70600</td>\n",
       "      <td>25 to 30 years</td>\n",
       "    </tr>\n",
       "    <tr>\n",
       "      <th>114</th>\n",
       "      <td>70700</td>\n",
       "      <td>30 to 35 years</td>\n",
       "    </tr>\n",
       "    <tr>\n",
       "      <th>115</th>\n",
       "      <td>70800</td>\n",
       "      <td>35 to 40 years</td>\n",
       "    </tr>\n",
       "    <tr>\n",
       "      <th>116</th>\n",
       "      <td>70900</td>\n",
       "      <td>40 to 45 years</td>\n",
       "    </tr>\n",
       "    <tr>\n",
       "      <th>117</th>\n",
       "      <td>71000</td>\n",
       "      <td>45 to 50 years</td>\n",
       "    </tr>\n",
       "    <tr>\n",
       "      <th>118</th>\n",
       "      <td>71100</td>\n",
       "      <td>50 to 55 years</td>\n",
       "    </tr>\n",
       "    <tr>\n",
       "      <th>119</th>\n",
       "      <td>71200</td>\n",
       "      <td>55 to 60 years</td>\n",
       "    </tr>\n",
       "    <tr>\n",
       "      <th>120</th>\n",
       "      <td>71300</td>\n",
       "      <td>60 to 65 years</td>\n",
       "    </tr>\n",
       "    <tr>\n",
       "      <th>121</th>\n",
       "      <td>71400</td>\n",
       "      <td>65 to 70 years</td>\n",
       "    </tr>\n",
       "    <tr>\n",
       "      <th>122</th>\n",
       "      <td>71500</td>\n",
       "      <td>70 to 75 years</td>\n",
       "    </tr>\n",
       "    <tr>\n",
       "      <th>123</th>\n",
       "      <td>71600</td>\n",
       "      <td>75 to 80 years</td>\n",
       "    </tr>\n",
       "    <tr>\n",
       "      <th>124</th>\n",
       "      <td>71700</td>\n",
       "      <td>80 to 85 years</td>\n",
       "    </tr>\n",
       "    <tr>\n",
       "      <th>125</th>\n",
       "      <td>71800</td>\n",
       "      <td>85 to 90 years</td>\n",
       "    </tr>\n",
       "    <tr>\n",
       "      <th>126</th>\n",
       "      <td>71900</td>\n",
       "      <td>90 to 95 years</td>\n",
       "    </tr>\n",
       "    <tr>\n",
       "      <th>127</th>\n",
       "      <td>72000</td>\n",
       "      <td>95 to 100 years</td>\n",
       "    </tr>\n",
       "  </tbody>\n",
       "</table>\n",
       "<p>128 rows × 2 columns</p>\n",
       "</div>"
      ],
      "text/plain": [
       "       Key                 Age\n",
       "0    10000               Total\n",
       "1    10010             0 years\n",
       "2    10100             1 years\n",
       "3    10200             2 years\n",
       "4    10300             3 years\n",
       "5    10400             4 years\n",
       "6    10500             5 years\n",
       "7    10600             6 years\n",
       "8    10700             7 years\n",
       "9    10800             8 years\n",
       "10   10900             9 years\n",
       "11   11000            10 years\n",
       "12   11100            11 years\n",
       "13   11200            12 years\n",
       "14   11300            13 years\n",
       "15   11400            14 years\n",
       "16   11500            15 years\n",
       "17   11600            16 years\n",
       "18   11700            17 years\n",
       "19   11800            18 years\n",
       "20   11900            19 years\n",
       "21   12000            20 years\n",
       "22   12100            21 years\n",
       "23   12200            22 years\n",
       "24   12300            23 years\n",
       "25   12400            24 years\n",
       "26   12500            25 years\n",
       "27   12600            26 years\n",
       "28   12700            27 years\n",
       "29   12800            28 years\n",
       "..     ...                 ...\n",
       "98   19700            97 years\n",
       "99   19800            98 years\n",
       "100  19900            99 years\n",
       "101  19901           100 years\n",
       "102  19902           101 years\n",
       "103  19903           102 years\n",
       "104  19904           103 years\n",
       "105  19905           104 years\n",
       "106  22200  100 years or older\n",
       "107  22300  105 years or older\n",
       "108  70100        0 to 5 years\n",
       "109  70200       5 to 10 years\n",
       "110  70300      10 to 15 years\n",
       "111  70400      15 to 20 years\n",
       "112  70500      20 to 25 years\n",
       "113  70600      25 to 30 years\n",
       "114  70700      30 to 35 years\n",
       "115  70800      35 to 40 years\n",
       "116  70900      40 to 45 years\n",
       "117  71000      45 to 50 years\n",
       "118  71100      50 to 55 years\n",
       "119  71200      55 to 60 years\n",
       "120  71300      60 to 65 years\n",
       "121  71400      65 to 70 years\n",
       "122  71500      70 to 75 years\n",
       "123  71600      75 to 80 years\n",
       "124  71700      80 to 85 years\n",
       "125  71800      85 to 90 years\n",
       "126  71900      90 to 95 years\n",
       "127  72000     95 to 100 years\n",
       "\n",
       "[128 rows x 2 columns]"
      ]
     },
     "execution_count": 77,
     "metadata": {},
     "output_type": "execute_result"
    }
   ],
   "source": [
    "df_meta_age_clean"
   ]
  },
  {
   "cell_type": "code",
   "execution_count": 78,
   "metadata": {
    "editable": true
   },
   "outputs": [],
   "source": [
    "df_meta_marital_clean= df_meta_marital.copy()\n",
    "df_meta_marital_clean.rename(columns= {'Title' : 'BurgerlijkeStaat'}, inplace= True)\n",
    "df_meta_marital_clean['MaritalStatus']= ['Total', 'Unmarried', 'Married', 'Remarried', 'Divorced']"
   ]
  },
  {
   "cell_type": "code",
   "execution_count": 79,
   "metadata": {
    "editable": true
   },
   "outputs": [
    {
     "data": {
      "text/html": [
       "<div>\n",
       "<style scoped>\n",
       "    .dataframe tbody tr th:only-of-type {\n",
       "        vertical-align: middle;\n",
       "    }\n",
       "\n",
       "    .dataframe tbody tr th {\n",
       "        vertical-align: top;\n",
       "    }\n",
       "\n",
       "    .dataframe thead th {\n",
       "        text-align: right;\n",
       "    }\n",
       "</style>\n",
       "<table border=\"1\" class=\"dataframe\">\n",
       "  <thead>\n",
       "    <tr style=\"text-align: right;\">\n",
       "      <th></th>\n",
       "      <th>Key</th>\n",
       "      <th>BurgerlijkeStaat</th>\n",
       "      <th>Description</th>\n",
       "      <th>MaritalStatus</th>\n",
       "    </tr>\n",
       "  </thead>\n",
       "  <tbody>\n",
       "    <tr>\n",
       "      <th>0</th>\n",
       "      <td>T001019</td>\n",
       "      <td>Totaal burgerlijke staat</td>\n",
       "      <td>NaN</td>\n",
       "      <td>Total</td>\n",
       "    </tr>\n",
       "    <tr>\n",
       "      <th>1</th>\n",
       "      <td>1010</td>\n",
       "      <td>Ongehuwd</td>\n",
       "      <td>Burgerlijke staat die aangeeft dat een persoon...</td>\n",
       "      <td>Unmarried</td>\n",
       "    </tr>\n",
       "    <tr>\n",
       "      <th>2</th>\n",
       "      <td>1020</td>\n",
       "      <td>Gehuwd</td>\n",
       "      <td>Wettig gehuwd plus partnerschap.\\n\\nTrendbreuk...</td>\n",
       "      <td>Married</td>\n",
       "    </tr>\n",
       "    <tr>\n",
       "      <th>3</th>\n",
       "      <td>1050</td>\n",
       "      <td>Verweduwd</td>\n",
       "      <td>Verweduwd na wettig huwelijk plus verweduwd na...</td>\n",
       "      <td>Remarried</td>\n",
       "    </tr>\n",
       "    <tr>\n",
       "      <th>4</th>\n",
       "      <td>1080</td>\n",
       "      <td>Gescheiden</td>\n",
       "      <td>Gescheiden na wettig huwelijk plus gescheiden ...</td>\n",
       "      <td>Divorced</td>\n",
       "    </tr>\n",
       "  </tbody>\n",
       "</table>\n",
       "</div>"
      ],
      "text/plain": [
       "       Key          BurgerlijkeStaat  \\\n",
       "0  T001019  Totaal burgerlijke staat   \n",
       "1  1010                     Ongehuwd   \n",
       "2  1020                       Gehuwd   \n",
       "3  1050                    Verweduwd   \n",
       "4  1080                   Gescheiden   \n",
       "\n",
       "                                         Description MaritalStatus  \n",
       "0                                                NaN         Total  \n",
       "1  Burgerlijke staat die aangeeft dat een persoon...     Unmarried  \n",
       "2  Wettig gehuwd plus partnerschap.\\n\\nTrendbreuk...       Married  \n",
       "3  Verweduwd na wettig huwelijk plus verweduwd na...     Remarried  \n",
       "4  Gescheiden na wettig huwelijk plus gescheiden ...      Divorced  "
      ]
     },
     "execution_count": 79,
     "metadata": {},
     "output_type": "execute_result"
    }
   ],
   "source": [
    "df_meta_marital_clean"
   ]
  },
  {
   "cell_type": "markdown",
   "metadata": {
    "editable": true
   },
   "source": [
    "### Step 3: Define the Data Model\n",
    "#### 3.1 Conceptual Data Model\n",
    "The final schema will be a star schema with a fact table and actually only one dimension table as in the ERD below. They are connected by the country.\n",
    "\n",
    "![alt text](ERD_final.JPG \"Title\")\n",
    "\n",
    "#### 3.2 Mapping Out Data Pipelines\n",
    "The initial ERD looks like the ERD below:\n",
    "\n",
    "![alt text](ERD_before.JPG \"Title\")\n",
    "\n",
    "To arrive at the final ERD the following steps are required:\n",
    "- Load/stage all data\n",
    "- Clean loaded/staged data\n",
    "- Create the fact table Immigration from the tables Immigration, MetaGender, MetaAge, MetaMarital, MetaCountry and LandCountry\n",
    "- The dimension table Happiness is equal to the cleaned table Happiness"
   ]
  },
  {
   "cell_type": "markdown",
   "metadata": {
    "editable": true
   },
   "source": [
    "### Step 4: Run Pipelines to Model the Data \n",
    "#### 4.1 Create the data model"
   ]
  },
  {
   "cell_type": "markdown",
   "metadata": {
    "editable": true
   },
   "source": [
    "Run the etl.py from here with !python etl.py or run it in a launcher"
   ]
  },
  {
   "cell_type": "markdown",
   "metadata": {
    "editable": true
   },
   "source": [
    "#### 4.2 Data Quality Checks\n",
    "Explain the data quality checks you'll perform to ensure the pipeline ran as expected. These could include:\n",
    " * Integrity constraints on the relational database (e.g., unique key, data type, etc.)\n",
    " * Unit tests for the scripts to ensure they are doing the right thing\n",
    " * Source/Count checks to ensure completeness\n",
    " \n",
    " \n",
    "Run Quality Checks"
   ]
  },
  {
   "cell_type": "markdown",
   "metadata": {
    "editable": true
   },
   "source": [
    "The data quality checks that will be performed are included in the etl.py script. The checks are:\n",
    "- That there are no empty entries in the fact immigration table\n",
    "- That there are no entries with a zero ImmigrationVolume in the fact immigration table\n",
    "- That the total number of entries in the dimension happiness table equals the sum of the entries in the World Happiness Report input tables per year"
   ]
  },
  {
   "cell_type": "markdown",
   "metadata": {
    "editable": true
   },
   "source": [
    "#### 4.3 Data dictionary \n",
    "The data dictionary can be found in the readme.md file"
   ]
  },
  {
   "cell_type": "markdown",
   "metadata": {
    "editable": true
   },
   "source": [
    "#### Step 5: Complete Project Write Up"
   ]
  },
  {
   "cell_type": "markdown",
   "metadata": {
    "editable": true
   },
   "source": [
    "* It is proposed to update the model yearly because the immigration data is a yearly aggregate and the World Happiness Report is yearly published. \n",
    "* What if the amount of data is 100x as much? Then, you would probably want to run this on a cluster like Amazon EMR. Or at least have Spark reading the json-files.\n",
    "* What if you would need to run this on a daily basis at 7 am? Then, you would probaly want to rewrite the code such that you can run it on Airflow in which you can schedule it.\n",
    "* What if the database needs to be accessed by 100+ people at the same time? As long as the S3 bucket is publically accessible, then the current solution would still be suitable."
   ]
  }
 ],
 "metadata": {
  "kernelspec": {
   "display_name": "Python 3",
   "language": "python",
   "name": "python3"
  },
  "language_info": {
   "codemirror_mode": {
    "name": "ipython",
    "version": 3
   },
   "file_extension": ".py",
   "mimetype": "text/x-python",
   "name": "python",
   "nbconvert_exporter": "python",
   "pygments_lexer": "ipython3",
   "version": "3.6.3"
  }
 },
 "nbformat": 4,
 "nbformat_minor": 4
}
