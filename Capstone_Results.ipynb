{
 "cells": [
  {
   "cell_type": "markdown",
   "metadata": {
    "editable": true
   },
   "source": [
    "# Notebook for answering some of the questions set out at the start of my Udacity Data Engineering Nanodegree Project 5: Capstone project \n",
    "Aim: show that the chosen data model is suitable to answer the type of questions given in the project summary."
   ]
  },
  {
   "cell_type": "code",
   "execution_count": 1,
   "metadata": {
    "editable": true
   },
   "outputs": [],
   "source": [
    "# Import packages\n",
    "import configparser\n",
    "import os\n",
    "import matplotlib.pyplot as plt\n",
    "import pandas as pd\n",
    "import pyspark\n",
    "os.environ['PYSPARK_SUBMIT_ARGS'] = '--packages com.amazonaws:aws-java-sdk-pom:1.10.34,org.apache.hadoop:hadoop-aws:2.7.2 pyspark-shell'\n",
    "from pyspark.sql import SQLContext\n",
    "from pyspark import SparkContext"
   ]
  },
  {
   "cell_type": "code",
   "execution_count": 2,
   "metadata": {
    "editable": true
   },
   "outputs": [],
   "source": [
    "config = configparser.ConfigParser()\n",
    "config.read('config.cfg')\n",
    "\n",
    "os.environ['AWS_ACCESS_KEY_ID']=config['AWS']['KEY']\n",
    "os.environ['AWS_SECRET_ACCESS_KEY']=config['AWS']['SECRET']"
   ]
  },
  {
   "cell_type": "code",
   "execution_count": 3,
   "metadata": {
    "editable": true
   },
   "outputs": [],
   "source": [
    "sc = SparkContext()\n",
    "sqlContext = SQLContext(sc)"
   ]
  },
  {
   "cell_type": "code",
   "execution_count": 4,
   "metadata": {
    "editable": true
   },
   "outputs": [],
   "source": [
    "file_imm = \"s3a://ylwbucket2/fact_immigration.parquet/\"\n",
    "df_imm= sqlContext.read.load(file_imm)"
   ]
  },
  {
   "cell_type": "code",
   "execution_count": 5,
   "metadata": {
    "editable": true
   },
   "outputs": [
    {
     "name": "stdout",
     "output_type": "stream",
     "text": [
      "root\n",
      " |-- ID: string (nullable = true)\n",
      " |-- Gender: string (nullable = true)\n",
      " |-- Age: integer (nullable = true)\n",
      " |-- MaritalStatus: string (nullable = true)\n",
      " |-- Country: string (nullable = true)\n",
      " |-- ImmigrationVolume: integer (nullable = true)\n",
      " |-- SingleCountry: string (nullable = true)\n",
      " |-- Year: integer (nullable = true)\n",
      "\n"
     ]
    }
   ],
   "source": [
    "df_imm.printSchema()"
   ]
  },
  {
   "cell_type": "code",
   "execution_count": 6,
   "metadata": {
    "editable": true
   },
   "outputs": [],
   "source": [
    "file_happy = \"s3a://ylwbucket2/happiness.parquet/\"\n",
    "df_happy= sqlContext.read.load(file_happy)"
   ]
  },
  {
   "cell_type": "code",
   "execution_count": 7,
   "metadata": {
    "editable": true
   },
   "outputs": [
    {
     "name": "stdout",
     "output_type": "stream",
     "text": [
      "root\n",
      " |-- Country: string (nullable = true)\n",
      " |-- Happiness_Score: float (nullable = true)\n",
      " |-- GDP_Score: string (nullable = true)\n",
      " |-- Health_Score: string (nullable = true)\n",
      " |-- Freedom_Score: string (nullable = true)\n",
      " |-- Generosity_Score: string (nullable = true)\n",
      " |-- Corruption_Score: string (nullable = true)\n",
      " |-- year: integer (nullable = true)\n",
      "\n"
     ]
    }
   ],
   "source": [
    "df_happy.printSchema()"
   ]
  },
  {
   "cell_type": "markdown",
   "metadata": {
    "editable": true
   },
   "source": [
    "Is there a link between the happiness score and the number of immigrants with that country of birth?\n",
    "\n",
    "Select for a year, grouped by country for single countries (not regions), the top 10 countries based on immigration volume and display the happiness score for those countries. And also plot the immigration volume versus the happiness score."
   ]
  },
  {
   "cell_type": "code",
   "execution_count": 8,
   "metadata": {
    "editable": true
   },
   "outputs": [],
   "source": [
    "year= 2018\n",
    "sumVolume2018= df_imm.filter((df_imm['year']== year) & (df_imm['SingleCountry']== 'Y')).groupBy(df_imm['Country']).sum('ImmigrationVolume')"
   ]
  },
  {
   "cell_type": "code",
   "execution_count": 9,
   "metadata": {
    "editable": true
   },
   "outputs": [
    {
     "name": "stdout",
     "output_type": "stream",
     "text": [
      "root\n",
      " |-- Country: string (nullable = true)\n",
      " |-- sum(ImmigrationVolume): long (nullable = true)\n",
      "\n"
     ]
    }
   ],
   "source": [
    "sumVolume2018.printSchema()"
   ]
  },
  {
   "cell_type": "code",
   "execution_count": 10,
   "metadata": {
    "editable": true
   },
   "outputs": [],
   "source": [
    "# Countries of birth with total immigrants into NL in 2018 in descending order\n",
    "imm_2018= sumVolume2018.sort(sumVolume2018['sum(ImmigrationVolume)'].desc())"
   ]
  },
  {
   "cell_type": "code",
   "execution_count": 11,
   "metadata": {
    "editable": true
   },
   "outputs": [],
   "source": [
    "imm_happy_2018= imm_2018.join(df_happy.filter(df_happy['year']== 2018), imm_2018.Country== df_happy.Country).select(imm_2018.Country, imm_2018['sum(ImmigrationVolume)'], df_happy.Happiness_Score)"
   ]
  },
  {
   "cell_type": "code",
   "execution_count": 12,
   "metadata": {
    "editable": true
   },
   "outputs": [
    {
     "name": "stdout",
     "output_type": "stream",
     "text": [
      "+--------------+----------------------+---------------+\n",
      "|       Country|sum(ImmigrationVolume)|Happiness_Score|\n",
      "+--------------+----------------------+---------------+\n",
      "|   Netherlands|                 15753|          7.441|\n",
      "|        Poland|                 14379|          6.123|\n",
      "|         India|                  6282|           4.19|\n",
      "|       Romania|                  5063|          5.945|\n",
      "|       Germany|                  4543|          6.965|\n",
      "|         Italy|                  3918|            6.0|\n",
      "|United Kingdom|                  3878|           7.19|\n",
      "|        Turkey|                  3737|          5.483|\n",
      "|      Bulgaria|                  3702|          4.933|\n",
      "|         China|                  3289|          5.246|\n",
      "+--------------+----------------------+---------------+\n",
      "only showing top 10 rows\n",
      "\n"
     ]
    }
   ],
   "source": [
    "imm_happy_2018.show(10)"
   ]
  },
  {
   "cell_type": "code",
   "execution_count": 13,
   "metadata": {
    "editable": true
   },
   "outputs": [],
   "source": [
    "# convert the spark dataframe into a pandas df for plotting\n",
    "pd2018_imm_happy= imm_happy_2018.toPandas()"
   ]
  },
  {
   "cell_type": "code",
   "execution_count": 14,
   "metadata": {
    "editable": true
   },
   "outputs": [
    {
     "data": {
      "image/png": "[encoded data removed]",
      "text/plain": [
       "<matplotlib.figure.Figure at 0x7f3658a911d0>"
      ]
     },
     "metadata": {
      "needs_background": "light"
     },
     "output_type": "display_data"
    }
   ],
   "source": [
    "# Plot the total number of immigrants for a country versus the happiness score\n",
    "plt.scatter(pd2018_imm_happy['Happiness_Score'], pd2018_imm_happy['sum(ImmigrationVolume)'])\n",
    "plt.xlabel('happiness score')\n",
    "plt.ylabel('Immigration Volume')\n",
    "plt.yscale('log')\n",
    "plt.title('Immigration Volume versus happiness score for 2018');"
   ]
  },
  {
   "cell_type": "markdown",
   "metadata": {
    "editable": true
   },
   "source": [
    "Observations:\n",
    "- Country of birth of the highest number of immigrants is The Netherlands itself. This suggests they are people that emigrated before and are now immigrating back into the country. So their immigration is not linked to the happiness score.\n",
    "- The plot of total Immigration Volume versus Happiness Score is a cloud and there doesn't seem to be a relationship between the two."
   ]
  },
  {
   "cell_type": "markdown",
   "metadata": {
    "editable": true
   },
   "source": [
    "What are the demographics of people immigrating into the Netherlands? \n",
    "\n",
    "Group the immigration data by age. This can be split by year and/or gender. Calculate the total immigration volume per age and plot this.\n",
    "By doing this for subsequent years, it can be assessed whether there is a trend in the age of the immigrants."
   ]
  },
  {
   "cell_type": "code",
   "execution_count": 15,
   "metadata": {
    "editable": true
   },
   "outputs": [],
   "source": [
    "ImmDemograph2018= df_imm.filter(df_imm['Year']== 2018).groupBy('Age').sum('ImmigrationVolume').withColumnRenamed(\"sum(ImmigrationVolume)\", \"sumImmigrationVolume\")\n",
    "ImmDemograph2019= df_imm.filter(df_imm['Year']== 2019).groupBy('Age').sum('ImmigrationVolume').withColumnRenamed(\"sum(ImmigrationVolume)\", \"sumImmigrationVolume\")\n",
    "ImmDemograph2020= df_imm.filter(df_imm['Year']== 2020).groupBy('Age').sum('ImmigrationVolume').withColumnRenamed(\"sum(ImmigrationVolume)\", \"sumImmigrationVolume\")"
   ]
  },
  {
   "cell_type": "code",
   "execution_count": 16,
   "metadata": {
    "editable": true
   },
   "outputs": [
    {
     "name": "stdout",
     "output_type": "stream",
     "text": [
      "root\n",
      " |-- Age: integer (nullable = true)\n",
      " |-- sumImmigrationVolume: long (nullable = true)\n",
      "\n"
     ]
    }
   ],
   "source": [
    "ImmDemograph2018.printSchema()"
   ]
  },
  {
   "cell_type": "code",
   "execution_count": 17,
   "metadata": {
    "editable": true
   },
   "outputs": [],
   "source": [
    "pd_immdemograph2018= ImmDemograph2018.toPandas()"
   ]
  },
  {
   "cell_type": "code",
   "execution_count": 18,
   "metadata": {
    "editable": true
   },
   "outputs": [],
   "source": [
    "pd_immdemograph2019= ImmDemograph2019.toPandas()"
   ]
  },
  {
   "cell_type": "code",
   "execution_count": 19,
   "metadata": {
    "editable": true
   },
   "outputs": [],
   "source": [
    "pd_immdemograph2020= ImmDemograph2020.toPandas()"
   ]
  },
  {
   "cell_type": "code",
   "execution_count": 37,
   "metadata": {
    "editable": true
   },
   "outputs": [
    {
     "data": {
      "image/png": "[encoded data removed]",
      "text/plain": [
       "<matplotlib.figure.Figure at 0x7f3651f6ce10>"
      ]
     },
     "metadata": {
      "needs_background": "light"
     },
     "output_type": "display_data"
    }
   ],
   "source": [
    "dfs= [pd_immdemograph2018, pd_immdemograph2019, pd_immdemograph2020]\n",
    "years= [2018, 2019, 2020]\n",
    "fig, axs = plt.subplots(1, 3, figsize= (15, 5), sharey= True)\n",
    "for nn, ax in enumerate(axs.flat):\n",
    "    column= years[nn]\n",
    "    ax.bar(df['Age'], df['sumImmigrationVolume'])\n",
    "    #ax.xlabel('age in years')\n",
    "    ax.set_title(column)\n",
    "    ax.set_xlabel('age')\n",
    "    ax.set_ylabel('number of immigrants')\n",
    "fig.suptitle('Immigration into the Netherlands by age per year')\n",
    "\n",
    "plt.show();"
   ]
  },
  {
   "cell_type": "markdown",
   "metadata": {
    "editable": true
   },
   "source": [
    "The demographics are very similar over the period 2018- 2020. So there is no changing trend in the age of immigrants. Most of the immigrants are just under 30 years old. There are none that are older than 60 years. It seems like people immigrated with their children, but - this is based on the decrease in number with age below 18 years old- as their children are older, the children not always immigrate with them."
   ]
  },
  {
   "cell_type": "markdown",
   "metadata": {
    "editable": true
   },
   "source": [
    "## Summary:\n",
    "The above shows that the chosen data model is suitable for the type of questions mentioned in the project summary. Further detailed analysis was not part of the project."
   ]
  }
 ],
 "metadata": {
  "kernelspec": {
   "display_name": "Python 3",
   "language": "python",
   "name": "python3"
  },
  "language_info": {
   "codemirror_mode": {
    "name": "ipython",
    "version": 3
   },
   "file_extension": ".py",
   "mimetype": "text/x-python",
   "name": "python",
   "nbconvert_exporter": "python",
   "pygments_lexer": "ipython3",
   "version": "3.6.3"
  }
 },
 "nbformat": 4,
 "nbformat_minor": 4
}
